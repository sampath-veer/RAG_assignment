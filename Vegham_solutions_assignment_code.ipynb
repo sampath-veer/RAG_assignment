{
  "nbformat": 4,
  "nbformat_minor": 0,
  "metadata": {
    "colab": {
      "provenance": []
    },
    "kernelspec": {
      "name": "python3",
      "display_name": "Python 3"
    },
    "language_info": {
      "name": "python"
    },
    "widgets": {
      "application/vnd.jupyter.widget-state+json": {
        "4ecb4c735af9493488901636af153c54": {
          "model_module": "@jupyter-widgets/controls",
          "model_name": "HBoxModel",
          "model_module_version": "1.5.0",
          "state": {
            "_dom_classes": [],
            "_model_module": "@jupyter-widgets/controls",
            "_model_module_version": "1.5.0",
            "_model_name": "HBoxModel",
            "_view_count": null,
            "_view_module": "@jupyter-widgets/controls",
            "_view_module_version": "1.5.0",
            "_view_name": "HBoxView",
            "box_style": "",
            "children": [
              "IPY_MODEL_c7ef2e8b3bac4ffc84fe9d88abdea82e",
              "IPY_MODEL_54218d1c87904905a5066c537857320b",
              "IPY_MODEL_0a1328bb77be43a49d63f00ed2bea443"
            ],
            "layout": "IPY_MODEL_e40e4ec46a9446e38c97e825f1a00569"
          }
        },
        "c7ef2e8b3bac4ffc84fe9d88abdea82e": {
          "model_module": "@jupyter-widgets/controls",
          "model_name": "HTMLModel",
          "model_module_version": "1.5.0",
          "state": {
            "_dom_classes": [],
            "_model_module": "@jupyter-widgets/controls",
            "_model_module_version": "1.5.0",
            "_model_name": "HTMLModel",
            "_view_count": null,
            "_view_module": "@jupyter-widgets/controls",
            "_view_module_version": "1.5.0",
            "_view_name": "HTMLView",
            "description": "",
            "description_tooltip": null,
            "layout": "IPY_MODEL_87cd5390bac3439483a27b719deeedec",
            "placeholder": "​",
            "style": "IPY_MODEL_d19e9b2447f84d07b15db49b2f543aff",
            "value": "tokenizer_config.json: 100%"
          }
        },
        "54218d1c87904905a5066c537857320b": {
          "model_module": "@jupyter-widgets/controls",
          "model_name": "FloatProgressModel",
          "model_module_version": "1.5.0",
          "state": {
            "_dom_classes": [],
            "_model_module": "@jupyter-widgets/controls",
            "_model_module_version": "1.5.0",
            "_model_name": "FloatProgressModel",
            "_view_count": null,
            "_view_module": "@jupyter-widgets/controls",
            "_view_module_version": "1.5.0",
            "_view_name": "ProgressView",
            "bar_style": "success",
            "description": "",
            "description_tooltip": null,
            "layout": "IPY_MODEL_7b4583117332416ebd50b9fc8e96a0d0",
            "max": 2324,
            "min": 0,
            "orientation": "horizontal",
            "style": "IPY_MODEL_feef805677e547a2b94d77baa2a312d0",
            "value": 2324
          }
        },
        "0a1328bb77be43a49d63f00ed2bea443": {
          "model_module": "@jupyter-widgets/controls",
          "model_name": "HTMLModel",
          "model_module_version": "1.5.0",
          "state": {
            "_dom_classes": [],
            "_model_module": "@jupyter-widgets/controls",
            "_model_module_version": "1.5.0",
            "_model_name": "HTMLModel",
            "_view_count": null,
            "_view_module": "@jupyter-widgets/controls",
            "_view_module_version": "1.5.0",
            "_view_name": "HTMLView",
            "description": "",
            "description_tooltip": null,
            "layout": "IPY_MODEL_77550b133f8f4d0caea8a138a598d489",
            "placeholder": "​",
            "style": "IPY_MODEL_a7c6dcecffcd48be9c9bf98e8eec0413",
            "value": " 2.32k/2.32k [00:00&lt;00:00, 103kB/s]"
          }
        },
        "e40e4ec46a9446e38c97e825f1a00569": {
          "model_module": "@jupyter-widgets/base",
          "model_name": "LayoutModel",
          "model_module_version": "1.2.0",
          "state": {
            "_model_module": "@jupyter-widgets/base",
            "_model_module_version": "1.2.0",
            "_model_name": "LayoutModel",
            "_view_count": null,
            "_view_module": "@jupyter-widgets/base",
            "_view_module_version": "1.2.0",
            "_view_name": "LayoutView",
            "align_content": null,
            "align_items": null,
            "align_self": null,
            "border": null,
            "bottom": null,
            "display": null,
            "flex": null,
            "flex_flow": null,
            "grid_area": null,
            "grid_auto_columns": null,
            "grid_auto_flow": null,
            "grid_auto_rows": null,
            "grid_column": null,
            "grid_gap": null,
            "grid_row": null,
            "grid_template_areas": null,
            "grid_template_columns": null,
            "grid_template_rows": null,
            "height": null,
            "justify_content": null,
            "justify_items": null,
            "left": null,
            "margin": null,
            "max_height": null,
            "max_width": null,
            "min_height": null,
            "min_width": null,
            "object_fit": null,
            "object_position": null,
            "order": null,
            "overflow": null,
            "overflow_x": null,
            "overflow_y": null,
            "padding": null,
            "right": null,
            "top": null,
            "visibility": null,
            "width": null
          }
        },
        "87cd5390bac3439483a27b719deeedec": {
          "model_module": "@jupyter-widgets/base",
          "model_name": "LayoutModel",
          "model_module_version": "1.2.0",
          "state": {
            "_model_module": "@jupyter-widgets/base",
            "_model_module_version": "1.2.0",
            "_model_name": "LayoutModel",
            "_view_count": null,
            "_view_module": "@jupyter-widgets/base",
            "_view_module_version": "1.2.0",
            "_view_name": "LayoutView",
            "align_content": null,
            "align_items": null,
            "align_self": null,
            "border": null,
            "bottom": null,
            "display": null,
            "flex": null,
            "flex_flow": null,
            "grid_area": null,
            "grid_auto_columns": null,
            "grid_auto_flow": null,
            "grid_auto_rows": null,
            "grid_column": null,
            "grid_gap": null,
            "grid_row": null,
            "grid_template_areas": null,
            "grid_template_columns": null,
            "grid_template_rows": null,
            "height": null,
            "justify_content": null,
            "justify_items": null,
            "left": null,
            "margin": null,
            "max_height": null,
            "max_width": null,
            "min_height": null,
            "min_width": null,
            "object_fit": null,
            "object_position": null,
            "order": null,
            "overflow": null,
            "overflow_x": null,
            "overflow_y": null,
            "padding": null,
            "right": null,
            "top": null,
            "visibility": null,
            "width": null
          }
        },
        "d19e9b2447f84d07b15db49b2f543aff": {
          "model_module": "@jupyter-widgets/controls",
          "model_name": "DescriptionStyleModel",
          "model_module_version": "1.5.0",
          "state": {
            "_model_module": "@jupyter-widgets/controls",
            "_model_module_version": "1.5.0",
            "_model_name": "DescriptionStyleModel",
            "_view_count": null,
            "_view_module": "@jupyter-widgets/base",
            "_view_module_version": "1.2.0",
            "_view_name": "StyleView",
            "description_width": ""
          }
        },
        "7b4583117332416ebd50b9fc8e96a0d0": {
          "model_module": "@jupyter-widgets/base",
          "model_name": "LayoutModel",
          "model_module_version": "1.2.0",
          "state": {
            "_model_module": "@jupyter-widgets/base",
            "_model_module_version": "1.2.0",
            "_model_name": "LayoutModel",
            "_view_count": null,
            "_view_module": "@jupyter-widgets/base",
            "_view_module_version": "1.2.0",
            "_view_name": "LayoutView",
            "align_content": null,
            "align_items": null,
            "align_self": null,
            "border": null,
            "bottom": null,
            "display": null,
            "flex": null,
            "flex_flow": null,
            "grid_area": null,
            "grid_auto_columns": null,
            "grid_auto_flow": null,
            "grid_auto_rows": null,
            "grid_column": null,
            "grid_gap": null,
            "grid_row": null,
            "grid_template_areas": null,
            "grid_template_columns": null,
            "grid_template_rows": null,
            "height": null,
            "justify_content": null,
            "justify_items": null,
            "left": null,
            "margin": null,
            "max_height": null,
            "max_width": null,
            "min_height": null,
            "min_width": null,
            "object_fit": null,
            "object_position": null,
            "order": null,
            "overflow": null,
            "overflow_x": null,
            "overflow_y": null,
            "padding": null,
            "right": null,
            "top": null,
            "visibility": null,
            "width": null
          }
        },
        "feef805677e547a2b94d77baa2a312d0": {
          "model_module": "@jupyter-widgets/controls",
          "model_name": "ProgressStyleModel",
          "model_module_version": "1.5.0",
          "state": {
            "_model_module": "@jupyter-widgets/controls",
            "_model_module_version": "1.5.0",
            "_model_name": "ProgressStyleModel",
            "_view_count": null,
            "_view_module": "@jupyter-widgets/base",
            "_view_module_version": "1.2.0",
            "_view_name": "StyleView",
            "bar_color": null,
            "description_width": ""
          }
        },
        "77550b133f8f4d0caea8a138a598d489": {
          "model_module": "@jupyter-widgets/base",
          "model_name": "LayoutModel",
          "model_module_version": "1.2.0",
          "state": {
            "_model_module": "@jupyter-widgets/base",
            "_model_module_version": "1.2.0",
            "_model_name": "LayoutModel",
            "_view_count": null,
            "_view_module": "@jupyter-widgets/base",
            "_view_module_version": "1.2.0",
            "_view_name": "LayoutView",
            "align_content": null,
            "align_items": null,
            "align_self": null,
            "border": null,
            "bottom": null,
            "display": null,
            "flex": null,
            "flex_flow": null,
            "grid_area": null,
            "grid_auto_columns": null,
            "grid_auto_flow": null,
            "grid_auto_rows": null,
            "grid_column": null,
            "grid_gap": null,
            "grid_row": null,
            "grid_template_areas": null,
            "grid_template_columns": null,
            "grid_template_rows": null,
            "height": null,
            "justify_content": null,
            "justify_items": null,
            "left": null,
            "margin": null,
            "max_height": null,
            "max_width": null,
            "min_height": null,
            "min_width": null,
            "object_fit": null,
            "object_position": null,
            "order": null,
            "overflow": null,
            "overflow_x": null,
            "overflow_y": null,
            "padding": null,
            "right": null,
            "top": null,
            "visibility": null,
            "width": null
          }
        },
        "a7c6dcecffcd48be9c9bf98e8eec0413": {
          "model_module": "@jupyter-widgets/controls",
          "model_name": "DescriptionStyleModel",
          "model_module_version": "1.5.0",
          "state": {
            "_model_module": "@jupyter-widgets/controls",
            "_model_module_version": "1.5.0",
            "_model_name": "DescriptionStyleModel",
            "_view_count": null,
            "_view_module": "@jupyter-widgets/base",
            "_view_module_version": "1.2.0",
            "_view_name": "StyleView",
            "description_width": ""
          }
        },
        "c7b9033ebc4642be86e9048d9c93e91a": {
          "model_module": "@jupyter-widgets/controls",
          "model_name": "HBoxModel",
          "model_module_version": "1.5.0",
          "state": {
            "_dom_classes": [],
            "_model_module": "@jupyter-widgets/controls",
            "_model_module_version": "1.5.0",
            "_model_name": "HBoxModel",
            "_view_count": null,
            "_view_module": "@jupyter-widgets/controls",
            "_view_module_version": "1.5.0",
            "_view_name": "HBoxView",
            "box_style": "",
            "children": [
              "IPY_MODEL_ef0d415025cc4b8f8a050c0a24cd352a",
              "IPY_MODEL_19d00f5398664011a8dec41a968ed0a5",
              "IPY_MODEL_63d94502e85d4377a2ee9da2f40a9c69"
            ],
            "layout": "IPY_MODEL_5cfa928fa5c442d38bf89ad0e7ad93cc"
          }
        },
        "ef0d415025cc4b8f8a050c0a24cd352a": {
          "model_module": "@jupyter-widgets/controls",
          "model_name": "HTMLModel",
          "model_module_version": "1.5.0",
          "state": {
            "_dom_classes": [],
            "_model_module": "@jupyter-widgets/controls",
            "_model_module_version": "1.5.0",
            "_model_name": "HTMLModel",
            "_view_count": null,
            "_view_module": "@jupyter-widgets/controls",
            "_view_module_version": "1.5.0",
            "_view_name": "HTMLView",
            "description": "",
            "description_tooltip": null,
            "layout": "IPY_MODEL_d086a4efd9b54fa1ad0ec9c4d2198014",
            "placeholder": "​",
            "style": "IPY_MODEL_40783192ef5c41e79c0db43d2e88d893",
            "value": "spiece.model: 100%"
          }
        },
        "19d00f5398664011a8dec41a968ed0a5": {
          "model_module": "@jupyter-widgets/controls",
          "model_name": "FloatProgressModel",
          "model_module_version": "1.5.0",
          "state": {
            "_dom_classes": [],
            "_model_module": "@jupyter-widgets/controls",
            "_model_module_version": "1.5.0",
            "_model_name": "FloatProgressModel",
            "_view_count": null,
            "_view_module": "@jupyter-widgets/controls",
            "_view_module_version": "1.5.0",
            "_view_name": "ProgressView",
            "bar_style": "success",
            "description": "",
            "description_tooltip": null,
            "layout": "IPY_MODEL_d0baf8a6e8cd40dd8bb6283f2e6952e5",
            "max": 791656,
            "min": 0,
            "orientation": "horizontal",
            "style": "IPY_MODEL_524087faab8b4019936e7ff2a35eb666",
            "value": 791656
          }
        },
        "63d94502e85d4377a2ee9da2f40a9c69": {
          "model_module": "@jupyter-widgets/controls",
          "model_name": "HTMLModel",
          "model_module_version": "1.5.0",
          "state": {
            "_dom_classes": [],
            "_model_module": "@jupyter-widgets/controls",
            "_model_module_version": "1.5.0",
            "_model_name": "HTMLModel",
            "_view_count": null,
            "_view_module": "@jupyter-widgets/controls",
            "_view_module_version": "1.5.0",
            "_view_name": "HTMLView",
            "description": "",
            "description_tooltip": null,
            "layout": "IPY_MODEL_7dfce97383dc4a999d40b33f4f42be77",
            "placeholder": "​",
            "style": "IPY_MODEL_81ba9ab470f4466d8146b68ce6b5fd27",
            "value": " 792k/792k [00:00&lt;00:00, 5.40MB/s]"
          }
        },
        "5cfa928fa5c442d38bf89ad0e7ad93cc": {
          "model_module": "@jupyter-widgets/base",
          "model_name": "LayoutModel",
          "model_module_version": "1.2.0",
          "state": {
            "_model_module": "@jupyter-widgets/base",
            "_model_module_version": "1.2.0",
            "_model_name": "LayoutModel",
            "_view_count": null,
            "_view_module": "@jupyter-widgets/base",
            "_view_module_version": "1.2.0",
            "_view_name": "LayoutView",
            "align_content": null,
            "align_items": null,
            "align_self": null,
            "border": null,
            "bottom": null,
            "display": null,
            "flex": null,
            "flex_flow": null,
            "grid_area": null,
            "grid_auto_columns": null,
            "grid_auto_flow": null,
            "grid_auto_rows": null,
            "grid_column": null,
            "grid_gap": null,
            "grid_row": null,
            "grid_template_areas": null,
            "grid_template_columns": null,
            "grid_template_rows": null,
            "height": null,
            "justify_content": null,
            "justify_items": null,
            "left": null,
            "margin": null,
            "max_height": null,
            "max_width": null,
            "min_height": null,
            "min_width": null,
            "object_fit": null,
            "object_position": null,
            "order": null,
            "overflow": null,
            "overflow_x": null,
            "overflow_y": null,
            "padding": null,
            "right": null,
            "top": null,
            "visibility": null,
            "width": null
          }
        },
        "d086a4efd9b54fa1ad0ec9c4d2198014": {
          "model_module": "@jupyter-widgets/base",
          "model_name": "LayoutModel",
          "model_module_version": "1.2.0",
          "state": {
            "_model_module": "@jupyter-widgets/base",
            "_model_module_version": "1.2.0",
            "_model_name": "LayoutModel",
            "_view_count": null,
            "_view_module": "@jupyter-widgets/base",
            "_view_module_version": "1.2.0",
            "_view_name": "LayoutView",
            "align_content": null,
            "align_items": null,
            "align_self": null,
            "border": null,
            "bottom": null,
            "display": null,
            "flex": null,
            "flex_flow": null,
            "grid_area": null,
            "grid_auto_columns": null,
            "grid_auto_flow": null,
            "grid_auto_rows": null,
            "grid_column": null,
            "grid_gap": null,
            "grid_row": null,
            "grid_template_areas": null,
            "grid_template_columns": null,
            "grid_template_rows": null,
            "height": null,
            "justify_content": null,
            "justify_items": null,
            "left": null,
            "margin": null,
            "max_height": null,
            "max_width": null,
            "min_height": null,
            "min_width": null,
            "object_fit": null,
            "object_position": null,
            "order": null,
            "overflow": null,
            "overflow_x": null,
            "overflow_y": null,
            "padding": null,
            "right": null,
            "top": null,
            "visibility": null,
            "width": null
          }
        },
        "40783192ef5c41e79c0db43d2e88d893": {
          "model_module": "@jupyter-widgets/controls",
          "model_name": "DescriptionStyleModel",
          "model_module_version": "1.5.0",
          "state": {
            "_model_module": "@jupyter-widgets/controls",
            "_model_module_version": "1.5.0",
            "_model_name": "DescriptionStyleModel",
            "_view_count": null,
            "_view_module": "@jupyter-widgets/base",
            "_view_module_version": "1.2.0",
            "_view_name": "StyleView",
            "description_width": ""
          }
        },
        "d0baf8a6e8cd40dd8bb6283f2e6952e5": {
          "model_module": "@jupyter-widgets/base",
          "model_name": "LayoutModel",
          "model_module_version": "1.2.0",
          "state": {
            "_model_module": "@jupyter-widgets/base",
            "_model_module_version": "1.2.0",
            "_model_name": "LayoutModel",
            "_view_count": null,
            "_view_module": "@jupyter-widgets/base",
            "_view_module_version": "1.2.0",
            "_view_name": "LayoutView",
            "align_content": null,
            "align_items": null,
            "align_self": null,
            "border": null,
            "bottom": null,
            "display": null,
            "flex": null,
            "flex_flow": null,
            "grid_area": null,
            "grid_auto_columns": null,
            "grid_auto_flow": null,
            "grid_auto_rows": null,
            "grid_column": null,
            "grid_gap": null,
            "grid_row": null,
            "grid_template_areas": null,
            "grid_template_columns": null,
            "grid_template_rows": null,
            "height": null,
            "justify_content": null,
            "justify_items": null,
            "left": null,
            "margin": null,
            "max_height": null,
            "max_width": null,
            "min_height": null,
            "min_width": null,
            "object_fit": null,
            "object_position": null,
            "order": null,
            "overflow": null,
            "overflow_x": null,
            "overflow_y": null,
            "padding": null,
            "right": null,
            "top": null,
            "visibility": null,
            "width": null
          }
        },
        "524087faab8b4019936e7ff2a35eb666": {
          "model_module": "@jupyter-widgets/controls",
          "model_name": "ProgressStyleModel",
          "model_module_version": "1.5.0",
          "state": {
            "_model_module": "@jupyter-widgets/controls",
            "_model_module_version": "1.5.0",
            "_model_name": "ProgressStyleModel",
            "_view_count": null,
            "_view_module": "@jupyter-widgets/base",
            "_view_module_version": "1.2.0",
            "_view_name": "StyleView",
            "bar_color": null,
            "description_width": ""
          }
        },
        "7dfce97383dc4a999d40b33f4f42be77": {
          "model_module": "@jupyter-widgets/base",
          "model_name": "LayoutModel",
          "model_module_version": "1.2.0",
          "state": {
            "_model_module": "@jupyter-widgets/base",
            "_model_module_version": "1.2.0",
            "_model_name": "LayoutModel",
            "_view_count": null,
            "_view_module": "@jupyter-widgets/base",
            "_view_module_version": "1.2.0",
            "_view_name": "LayoutView",
            "align_content": null,
            "align_items": null,
            "align_self": null,
            "border": null,
            "bottom": null,
            "display": null,
            "flex": null,
            "flex_flow": null,
            "grid_area": null,
            "grid_auto_columns": null,
            "grid_auto_flow": null,
            "grid_auto_rows": null,
            "grid_column": null,
            "grid_gap": null,
            "grid_row": null,
            "grid_template_areas": null,
            "grid_template_columns": null,
            "grid_template_rows": null,
            "height": null,
            "justify_content": null,
            "justify_items": null,
            "left": null,
            "margin": null,
            "max_height": null,
            "max_width": null,
            "min_height": null,
            "min_width": null,
            "object_fit": null,
            "object_position": null,
            "order": null,
            "overflow": null,
            "overflow_x": null,
            "overflow_y": null,
            "padding": null,
            "right": null,
            "top": null,
            "visibility": null,
            "width": null
          }
        },
        "81ba9ab470f4466d8146b68ce6b5fd27": {
          "model_module": "@jupyter-widgets/controls",
          "model_name": "DescriptionStyleModel",
          "model_module_version": "1.5.0",
          "state": {
            "_model_module": "@jupyter-widgets/controls",
            "_model_module_version": "1.5.0",
            "_model_name": "DescriptionStyleModel",
            "_view_count": null,
            "_view_module": "@jupyter-widgets/base",
            "_view_module_version": "1.2.0",
            "_view_name": "StyleView",
            "description_width": ""
          }
        },
        "d24554cdcf884692b95f808d238d663d": {
          "model_module": "@jupyter-widgets/controls",
          "model_name": "HBoxModel",
          "model_module_version": "1.5.0",
          "state": {
            "_dom_classes": [],
            "_model_module": "@jupyter-widgets/controls",
            "_model_module_version": "1.5.0",
            "_model_name": "HBoxModel",
            "_view_count": null,
            "_view_module": "@jupyter-widgets/controls",
            "_view_module_version": "1.5.0",
            "_view_name": "HBoxView",
            "box_style": "",
            "children": [
              "IPY_MODEL_ef0a405b88954703a4c493f843a71b1d",
              "IPY_MODEL_663f34602249474d9d8d613eb74ecc5d",
              "IPY_MODEL_3d8f5a6834dd4b84a6a49ed3c18725f1"
            ],
            "layout": "IPY_MODEL_29cb690a14ca48c2b6daaaa861fc5b81"
          }
        },
        "ef0a405b88954703a4c493f843a71b1d": {
          "model_module": "@jupyter-widgets/controls",
          "model_name": "HTMLModel",
          "model_module_version": "1.5.0",
          "state": {
            "_dom_classes": [],
            "_model_module": "@jupyter-widgets/controls",
            "_model_module_version": "1.5.0",
            "_model_name": "HTMLModel",
            "_view_count": null,
            "_view_module": "@jupyter-widgets/controls",
            "_view_module_version": "1.5.0",
            "_view_name": "HTMLView",
            "description": "",
            "description_tooltip": null,
            "layout": "IPY_MODEL_ffc6260f0a5f4471966f89ffbdb75f57",
            "placeholder": "​",
            "style": "IPY_MODEL_548f247387ef45d29b6f082d20470a90",
            "value": "tokenizer.json: 100%"
          }
        },
        "663f34602249474d9d8d613eb74ecc5d": {
          "model_module": "@jupyter-widgets/controls",
          "model_name": "FloatProgressModel",
          "model_module_version": "1.5.0",
          "state": {
            "_dom_classes": [],
            "_model_module": "@jupyter-widgets/controls",
            "_model_module_version": "1.5.0",
            "_model_name": "FloatProgressModel",
            "_view_count": null,
            "_view_module": "@jupyter-widgets/controls",
            "_view_module_version": "1.5.0",
            "_view_name": "ProgressView",
            "bar_style": "success",
            "description": "",
            "description_tooltip": null,
            "layout": "IPY_MODEL_84dea5889936444e942467ddd3e70485",
            "max": 1389353,
            "min": 0,
            "orientation": "horizontal",
            "style": "IPY_MODEL_3076a19b35b1406eb45a84643c2206bb",
            "value": 1389353
          }
        },
        "3d8f5a6834dd4b84a6a49ed3c18725f1": {
          "model_module": "@jupyter-widgets/controls",
          "model_name": "HTMLModel",
          "model_module_version": "1.5.0",
          "state": {
            "_dom_classes": [],
            "_model_module": "@jupyter-widgets/controls",
            "_model_module_version": "1.5.0",
            "_model_name": "HTMLModel",
            "_view_count": null,
            "_view_module": "@jupyter-widgets/controls",
            "_view_module_version": "1.5.0",
            "_view_name": "HTMLView",
            "description": "",
            "description_tooltip": null,
            "layout": "IPY_MODEL_82823115d92d4cf0bad6e1078d5656da",
            "placeholder": "​",
            "style": "IPY_MODEL_f7ea22bb7cd94c9ca38f72701bd5df07",
            "value": " 1.39M/1.39M [00:00&lt;00:00, 16.0MB/s]"
          }
        },
        "29cb690a14ca48c2b6daaaa861fc5b81": {
          "model_module": "@jupyter-widgets/base",
          "model_name": "LayoutModel",
          "model_module_version": "1.2.0",
          "state": {
            "_model_module": "@jupyter-widgets/base",
            "_model_module_version": "1.2.0",
            "_model_name": "LayoutModel",
            "_view_count": null,
            "_view_module": "@jupyter-widgets/base",
            "_view_module_version": "1.2.0",
            "_view_name": "LayoutView",
            "align_content": null,
            "align_items": null,
            "align_self": null,
            "border": null,
            "bottom": null,
            "display": null,
            "flex": null,
            "flex_flow": null,
            "grid_area": null,
            "grid_auto_columns": null,
            "grid_auto_flow": null,
            "grid_auto_rows": null,
            "grid_column": null,
            "grid_gap": null,
            "grid_row": null,
            "grid_template_areas": null,
            "grid_template_columns": null,
            "grid_template_rows": null,
            "height": null,
            "justify_content": null,
            "justify_items": null,
            "left": null,
            "margin": null,
            "max_height": null,
            "max_width": null,
            "min_height": null,
            "min_width": null,
            "object_fit": null,
            "object_position": null,
            "order": null,
            "overflow": null,
            "overflow_x": null,
            "overflow_y": null,
            "padding": null,
            "right": null,
            "top": null,
            "visibility": null,
            "width": null
          }
        },
        "ffc6260f0a5f4471966f89ffbdb75f57": {
          "model_module": "@jupyter-widgets/base",
          "model_name": "LayoutModel",
          "model_module_version": "1.2.0",
          "state": {
            "_model_module": "@jupyter-widgets/base",
            "_model_module_version": "1.2.0",
            "_model_name": "LayoutModel",
            "_view_count": null,
            "_view_module": "@jupyter-widgets/base",
            "_view_module_version": "1.2.0",
            "_view_name": "LayoutView",
            "align_content": null,
            "align_items": null,
            "align_self": null,
            "border": null,
            "bottom": null,
            "display": null,
            "flex": null,
            "flex_flow": null,
            "grid_area": null,
            "grid_auto_columns": null,
            "grid_auto_flow": null,
            "grid_auto_rows": null,
            "grid_column": null,
            "grid_gap": null,
            "grid_row": null,
            "grid_template_areas": null,
            "grid_template_columns": null,
            "grid_template_rows": null,
            "height": null,
            "justify_content": null,
            "justify_items": null,
            "left": null,
            "margin": null,
            "max_height": null,
            "max_width": null,
            "min_height": null,
            "min_width": null,
            "object_fit": null,
            "object_position": null,
            "order": null,
            "overflow": null,
            "overflow_x": null,
            "overflow_y": null,
            "padding": null,
            "right": null,
            "top": null,
            "visibility": null,
            "width": null
          }
        },
        "548f247387ef45d29b6f082d20470a90": {
          "model_module": "@jupyter-widgets/controls",
          "model_name": "DescriptionStyleModel",
          "model_module_version": "1.5.0",
          "state": {
            "_model_module": "@jupyter-widgets/controls",
            "_model_module_version": "1.5.0",
            "_model_name": "DescriptionStyleModel",
            "_view_count": null,
            "_view_module": "@jupyter-widgets/base",
            "_view_module_version": "1.2.0",
            "_view_name": "StyleView",
            "description_width": ""
          }
        },
        "84dea5889936444e942467ddd3e70485": {
          "model_module": "@jupyter-widgets/base",
          "model_name": "LayoutModel",
          "model_module_version": "1.2.0",
          "state": {
            "_model_module": "@jupyter-widgets/base",
            "_model_module_version": "1.2.0",
            "_model_name": "LayoutModel",
            "_view_count": null,
            "_view_module": "@jupyter-widgets/base",
            "_view_module_version": "1.2.0",
            "_view_name": "LayoutView",
            "align_content": null,
            "align_items": null,
            "align_self": null,
            "border": null,
            "bottom": null,
            "display": null,
            "flex": null,
            "flex_flow": null,
            "grid_area": null,
            "grid_auto_columns": null,
            "grid_auto_flow": null,
            "grid_auto_rows": null,
            "grid_column": null,
            "grid_gap": null,
            "grid_row": null,
            "grid_template_areas": null,
            "grid_template_columns": null,
            "grid_template_rows": null,
            "height": null,
            "justify_content": null,
            "justify_items": null,
            "left": null,
            "margin": null,
            "max_height": null,
            "max_width": null,
            "min_height": null,
            "min_width": null,
            "object_fit": null,
            "object_position": null,
            "order": null,
            "overflow": null,
            "overflow_x": null,
            "overflow_y": null,
            "padding": null,
            "right": null,
            "top": null,
            "visibility": null,
            "width": null
          }
        },
        "3076a19b35b1406eb45a84643c2206bb": {
          "model_module": "@jupyter-widgets/controls",
          "model_name": "ProgressStyleModel",
          "model_module_version": "1.5.0",
          "state": {
            "_model_module": "@jupyter-widgets/controls",
            "_model_module_version": "1.5.0",
            "_model_name": "ProgressStyleModel",
            "_view_count": null,
            "_view_module": "@jupyter-widgets/base",
            "_view_module_version": "1.2.0",
            "_view_name": "StyleView",
            "bar_color": null,
            "description_width": ""
          }
        },
        "82823115d92d4cf0bad6e1078d5656da": {
          "model_module": "@jupyter-widgets/base",
          "model_name": "LayoutModel",
          "model_module_version": "1.2.0",
          "state": {
            "_model_module": "@jupyter-widgets/base",
            "_model_module_version": "1.2.0",
            "_model_name": "LayoutModel",
            "_view_count": null,
            "_view_module": "@jupyter-widgets/base",
            "_view_module_version": "1.2.0",
            "_view_name": "LayoutView",
            "align_content": null,
            "align_items": null,
            "align_self": null,
            "border": null,
            "bottom": null,
            "display": null,
            "flex": null,
            "flex_flow": null,
            "grid_area": null,
            "grid_auto_columns": null,
            "grid_auto_flow": null,
            "grid_auto_rows": null,
            "grid_column": null,
            "grid_gap": null,
            "grid_row": null,
            "grid_template_areas": null,
            "grid_template_columns": null,
            "grid_template_rows": null,
            "height": null,
            "justify_content": null,
            "justify_items": null,
            "left": null,
            "margin": null,
            "max_height": null,
            "max_width": null,
            "min_height": null,
            "min_width": null,
            "object_fit": null,
            "object_position": null,
            "order": null,
            "overflow": null,
            "overflow_x": null,
            "overflow_y": null,
            "padding": null,
            "right": null,
            "top": null,
            "visibility": null,
            "width": null
          }
        },
        "f7ea22bb7cd94c9ca38f72701bd5df07": {
          "model_module": "@jupyter-widgets/controls",
          "model_name": "DescriptionStyleModel",
          "model_module_version": "1.5.0",
          "state": {
            "_model_module": "@jupyter-widgets/controls",
            "_model_module_version": "1.5.0",
            "_model_name": "DescriptionStyleModel",
            "_view_count": null,
            "_view_module": "@jupyter-widgets/base",
            "_view_module_version": "1.2.0",
            "_view_name": "StyleView",
            "description_width": ""
          }
        },
        "575765261d5048f08fc979a20ef120c0": {
          "model_module": "@jupyter-widgets/controls",
          "model_name": "HBoxModel",
          "model_module_version": "1.5.0",
          "state": {
            "_dom_classes": [],
            "_model_module": "@jupyter-widgets/controls",
            "_model_module_version": "1.5.0",
            "_model_name": "HBoxModel",
            "_view_count": null,
            "_view_module": "@jupyter-widgets/controls",
            "_view_module_version": "1.5.0",
            "_view_name": "HBoxView",
            "box_style": "",
            "children": [
              "IPY_MODEL_d182254213714bb39e5ebbae3bc53578",
              "IPY_MODEL_8b7a6bf1ae624e77ae439940832e9f02",
              "IPY_MODEL_6f3dffa76f3d47ac80b8028e568828c3"
            ],
            "layout": "IPY_MODEL_3834a46cea534abba5a0ac243cbe11c1"
          }
        },
        "d182254213714bb39e5ebbae3bc53578": {
          "model_module": "@jupyter-widgets/controls",
          "model_name": "HTMLModel",
          "model_module_version": "1.5.0",
          "state": {
            "_dom_classes": [],
            "_model_module": "@jupyter-widgets/controls",
            "_model_module_version": "1.5.0",
            "_model_name": "HTMLModel",
            "_view_count": null,
            "_view_module": "@jupyter-widgets/controls",
            "_view_module_version": "1.5.0",
            "_view_name": "HTMLView",
            "description": "",
            "description_tooltip": null,
            "layout": "IPY_MODEL_c5d74944e76644a087e61925bea78954",
            "placeholder": "​",
            "style": "IPY_MODEL_1ead993ae35c4878a4f3f122ce9851cd",
            "value": "config.json: 100%"
          }
        },
        "8b7a6bf1ae624e77ae439940832e9f02": {
          "model_module": "@jupyter-widgets/controls",
          "model_name": "FloatProgressModel",
          "model_module_version": "1.5.0",
          "state": {
            "_dom_classes": [],
            "_model_module": "@jupyter-widgets/controls",
            "_model_module_version": "1.5.0",
            "_model_name": "FloatProgressModel",
            "_view_count": null,
            "_view_module": "@jupyter-widgets/controls",
            "_view_module_version": "1.5.0",
            "_view_name": "ProgressView",
            "bar_style": "success",
            "description": "",
            "description_tooltip": null,
            "layout": "IPY_MODEL_2dbf3c7f0dba437c93c2284d4857c439",
            "max": 1206,
            "min": 0,
            "orientation": "horizontal",
            "style": "IPY_MODEL_d3e881ce61e948499bb57b3b375b2230",
            "value": 1206
          }
        },
        "6f3dffa76f3d47ac80b8028e568828c3": {
          "model_module": "@jupyter-widgets/controls",
          "model_name": "HTMLModel",
          "model_module_version": "1.5.0",
          "state": {
            "_dom_classes": [],
            "_model_module": "@jupyter-widgets/controls",
            "_model_module_version": "1.5.0",
            "_model_name": "HTMLModel",
            "_view_count": null,
            "_view_module": "@jupyter-widgets/controls",
            "_view_module_version": "1.5.0",
            "_view_name": "HTMLView",
            "description": "",
            "description_tooltip": null,
            "layout": "IPY_MODEL_0c4e9137c5eb425099b1c177a7a707c2",
            "placeholder": "​",
            "style": "IPY_MODEL_16ce1c07fb454bbca5b2e6695873c56f",
            "value": " 1.21k/1.21k [00:00&lt;00:00, 60.1kB/s]"
          }
        },
        "3834a46cea534abba5a0ac243cbe11c1": {
          "model_module": "@jupyter-widgets/base",
          "model_name": "LayoutModel",
          "model_module_version": "1.2.0",
          "state": {
            "_model_module": "@jupyter-widgets/base",
            "_model_module_version": "1.2.0",
            "_model_name": "LayoutModel",
            "_view_count": null,
            "_view_module": "@jupyter-widgets/base",
            "_view_module_version": "1.2.0",
            "_view_name": "LayoutView",
            "align_content": null,
            "align_items": null,
            "align_self": null,
            "border": null,
            "bottom": null,
            "display": null,
            "flex": null,
            "flex_flow": null,
            "grid_area": null,
            "grid_auto_columns": null,
            "grid_auto_flow": null,
            "grid_auto_rows": null,
            "grid_column": null,
            "grid_gap": null,
            "grid_row": null,
            "grid_template_areas": null,
            "grid_template_columns": null,
            "grid_template_rows": null,
            "height": null,
            "justify_content": null,
            "justify_items": null,
            "left": null,
            "margin": null,
            "max_height": null,
            "max_width": null,
            "min_height": null,
            "min_width": null,
            "object_fit": null,
            "object_position": null,
            "order": null,
            "overflow": null,
            "overflow_x": null,
            "overflow_y": null,
            "padding": null,
            "right": null,
            "top": null,
            "visibility": null,
            "width": null
          }
        },
        "c5d74944e76644a087e61925bea78954": {
          "model_module": "@jupyter-widgets/base",
          "model_name": "LayoutModel",
          "model_module_version": "1.2.0",
          "state": {
            "_model_module": "@jupyter-widgets/base",
            "_model_module_version": "1.2.0",
            "_model_name": "LayoutModel",
            "_view_count": null,
            "_view_module": "@jupyter-widgets/base",
            "_view_module_version": "1.2.0",
            "_view_name": "LayoutView",
            "align_content": null,
            "align_items": null,
            "align_self": null,
            "border": null,
            "bottom": null,
            "display": null,
            "flex": null,
            "flex_flow": null,
            "grid_area": null,
            "grid_auto_columns": null,
            "grid_auto_flow": null,
            "grid_auto_rows": null,
            "grid_column": null,
            "grid_gap": null,
            "grid_row": null,
            "grid_template_areas": null,
            "grid_template_columns": null,
            "grid_template_rows": null,
            "height": null,
            "justify_content": null,
            "justify_items": null,
            "left": null,
            "margin": null,
            "max_height": null,
            "max_width": null,
            "min_height": null,
            "min_width": null,
            "object_fit": null,
            "object_position": null,
            "order": null,
            "overflow": null,
            "overflow_x": null,
            "overflow_y": null,
            "padding": null,
            "right": null,
            "top": null,
            "visibility": null,
            "width": null
          }
        },
        "1ead993ae35c4878a4f3f122ce9851cd": {
          "model_module": "@jupyter-widgets/controls",
          "model_name": "DescriptionStyleModel",
          "model_module_version": "1.5.0",
          "state": {
            "_model_module": "@jupyter-widgets/controls",
            "_model_module_version": "1.5.0",
            "_model_name": "DescriptionStyleModel",
            "_view_count": null,
            "_view_module": "@jupyter-widgets/base",
            "_view_module_version": "1.2.0",
            "_view_name": "StyleView",
            "description_width": ""
          }
        },
        "2dbf3c7f0dba437c93c2284d4857c439": {
          "model_module": "@jupyter-widgets/base",
          "model_name": "LayoutModel",
          "model_module_version": "1.2.0",
          "state": {
            "_model_module": "@jupyter-widgets/base",
            "_model_module_version": "1.2.0",
            "_model_name": "LayoutModel",
            "_view_count": null,
            "_view_module": "@jupyter-widgets/base",
            "_view_module_version": "1.2.0",
            "_view_name": "LayoutView",
            "align_content": null,
            "align_items": null,
            "align_self": null,
            "border": null,
            "bottom": null,
            "display": null,
            "flex": null,
            "flex_flow": null,
            "grid_area": null,
            "grid_auto_columns": null,
            "grid_auto_flow": null,
            "grid_auto_rows": null,
            "grid_column": null,
            "grid_gap": null,
            "grid_row": null,
            "grid_template_areas": null,
            "grid_template_columns": null,
            "grid_template_rows": null,
            "height": null,
            "justify_content": null,
            "justify_items": null,
            "left": null,
            "margin": null,
            "max_height": null,
            "max_width": null,
            "min_height": null,
            "min_width": null,
            "object_fit": null,
            "object_position": null,
            "order": null,
            "overflow": null,
            "overflow_x": null,
            "overflow_y": null,
            "padding": null,
            "right": null,
            "top": null,
            "visibility": null,
            "width": null
          }
        },
        "d3e881ce61e948499bb57b3b375b2230": {
          "model_module": "@jupyter-widgets/controls",
          "model_name": "ProgressStyleModel",
          "model_module_version": "1.5.0",
          "state": {
            "_model_module": "@jupyter-widgets/controls",
            "_model_module_version": "1.5.0",
            "_model_name": "ProgressStyleModel",
            "_view_count": null,
            "_view_module": "@jupyter-widgets/base",
            "_view_module_version": "1.2.0",
            "_view_name": "StyleView",
            "bar_color": null,
            "description_width": ""
          }
        },
        "0c4e9137c5eb425099b1c177a7a707c2": {
          "model_module": "@jupyter-widgets/base",
          "model_name": "LayoutModel",
          "model_module_version": "1.2.0",
          "state": {
            "_model_module": "@jupyter-widgets/base",
            "_model_module_version": "1.2.0",
            "_model_name": "LayoutModel",
            "_view_count": null,
            "_view_module": "@jupyter-widgets/base",
            "_view_module_version": "1.2.0",
            "_view_name": "LayoutView",
            "align_content": null,
            "align_items": null,
            "align_self": null,
            "border": null,
            "bottom": null,
            "display": null,
            "flex": null,
            "flex_flow": null,
            "grid_area": null,
            "grid_auto_columns": null,
            "grid_auto_flow": null,
            "grid_auto_rows": null,
            "grid_column": null,
            "grid_gap": null,
            "grid_row": null,
            "grid_template_areas": null,
            "grid_template_columns": null,
            "grid_template_rows": null,
            "height": null,
            "justify_content": null,
            "justify_items": null,
            "left": null,
            "margin": null,
            "max_height": null,
            "max_width": null,
            "min_height": null,
            "min_width": null,
            "object_fit": null,
            "object_position": null,
            "order": null,
            "overflow": null,
            "overflow_x": null,
            "overflow_y": null,
            "padding": null,
            "right": null,
            "top": null,
            "visibility": null,
            "width": null
          }
        },
        "16ce1c07fb454bbca5b2e6695873c56f": {
          "model_module": "@jupyter-widgets/controls",
          "model_name": "DescriptionStyleModel",
          "model_module_version": "1.5.0",
          "state": {
            "_model_module": "@jupyter-widgets/controls",
            "_model_module_version": "1.5.0",
            "_model_name": "DescriptionStyleModel",
            "_view_count": null,
            "_view_module": "@jupyter-widgets/base",
            "_view_module_version": "1.2.0",
            "_view_name": "StyleView",
            "description_width": ""
          }
        },
        "9fa2496d91884734bb5583f067de8303": {
          "model_module": "@jupyter-widgets/controls",
          "model_name": "HBoxModel",
          "model_module_version": "1.5.0",
          "state": {
            "_dom_classes": [],
            "_model_module": "@jupyter-widgets/controls",
            "_model_module_version": "1.5.0",
            "_model_name": "HBoxModel",
            "_view_count": null,
            "_view_module": "@jupyter-widgets/controls",
            "_view_module_version": "1.5.0",
            "_view_name": "HBoxView",
            "box_style": "",
            "children": [
              "IPY_MODEL_024a731351f84d3b99195d19a7be3981",
              "IPY_MODEL_2a0d489f110d43acbb23ab6b0a59f16b",
              "IPY_MODEL_eb410caf425e489e8c35a4c4cd111e87"
            ],
            "layout": "IPY_MODEL_f37ce13e23734deeb2c43e9d2ee8fae3"
          }
        },
        "024a731351f84d3b99195d19a7be3981": {
          "model_module": "@jupyter-widgets/controls",
          "model_name": "HTMLModel",
          "model_module_version": "1.5.0",
          "state": {
            "_dom_classes": [],
            "_model_module": "@jupyter-widgets/controls",
            "_model_module_version": "1.5.0",
            "_model_name": "HTMLModel",
            "_view_count": null,
            "_view_module": "@jupyter-widgets/controls",
            "_view_module_version": "1.5.0",
            "_view_name": "HTMLView",
            "description": "",
            "description_tooltip": null,
            "layout": "IPY_MODEL_7eae1747772c4518b22711b9abe38c42",
            "placeholder": "​",
            "style": "IPY_MODEL_8d367170d22943fca57191d281b6672e",
            "value": "model.safetensors: 100%"
          }
        },
        "2a0d489f110d43acbb23ab6b0a59f16b": {
          "model_module": "@jupyter-widgets/controls",
          "model_name": "FloatProgressModel",
          "model_module_version": "1.5.0",
          "state": {
            "_dom_classes": [],
            "_model_module": "@jupyter-widgets/controls",
            "_model_module_version": "1.5.0",
            "_model_name": "FloatProgressModel",
            "_view_count": null,
            "_view_module": "@jupyter-widgets/controls",
            "_view_module_version": "1.5.0",
            "_view_name": "ProgressView",
            "bar_style": "success",
            "description": "",
            "description_tooltip": null,
            "layout": "IPY_MODEL_9c29c4ceec5b4c9b8a5dd0ea5b07127c",
            "max": 242043056,
            "min": 0,
            "orientation": "horizontal",
            "style": "IPY_MODEL_a84bc3d5b68f486fb8b95fca3e2c8fb1",
            "value": 242043056
          }
        },
        "eb410caf425e489e8c35a4c4cd111e87": {
          "model_module": "@jupyter-widgets/controls",
          "model_name": "HTMLModel",
          "model_module_version": "1.5.0",
          "state": {
            "_dom_classes": [],
            "_model_module": "@jupyter-widgets/controls",
            "_model_module_version": "1.5.0",
            "_model_name": "HTMLModel",
            "_view_count": null,
            "_view_module": "@jupyter-widgets/controls",
            "_view_module_version": "1.5.0",
            "_view_name": "HTMLView",
            "description": "",
            "description_tooltip": null,
            "layout": "IPY_MODEL_b30db22c442a4ac9ade8b4440cc5386a",
            "placeholder": "​",
            "style": "IPY_MODEL_5ffc62d9a15b48fbb3503650adacf094",
            "value": " 242M/242M [00:01&lt;00:00, 163MB/s]"
          }
        },
        "f37ce13e23734deeb2c43e9d2ee8fae3": {
          "model_module": "@jupyter-widgets/base",
          "model_name": "LayoutModel",
          "model_module_version": "1.2.0",
          "state": {
            "_model_module": "@jupyter-widgets/base",
            "_model_module_version": "1.2.0",
            "_model_name": "LayoutModel",
            "_view_count": null,
            "_view_module": "@jupyter-widgets/base",
            "_view_module_version": "1.2.0",
            "_view_name": "LayoutView",
            "align_content": null,
            "align_items": null,
            "align_self": null,
            "border": null,
            "bottom": null,
            "display": null,
            "flex": null,
            "flex_flow": null,
            "grid_area": null,
            "grid_auto_columns": null,
            "grid_auto_flow": null,
            "grid_auto_rows": null,
            "grid_column": null,
            "grid_gap": null,
            "grid_row": null,
            "grid_template_areas": null,
            "grid_template_columns": null,
            "grid_template_rows": null,
            "height": null,
            "justify_content": null,
            "justify_items": null,
            "left": null,
            "margin": null,
            "max_height": null,
            "max_width": null,
            "min_height": null,
            "min_width": null,
            "object_fit": null,
            "object_position": null,
            "order": null,
            "overflow": null,
            "overflow_x": null,
            "overflow_y": null,
            "padding": null,
            "right": null,
            "top": null,
            "visibility": null,
            "width": null
          }
        },
        "7eae1747772c4518b22711b9abe38c42": {
          "model_module": "@jupyter-widgets/base",
          "model_name": "LayoutModel",
          "model_module_version": "1.2.0",
          "state": {
            "_model_module": "@jupyter-widgets/base",
            "_model_module_version": "1.2.0",
            "_model_name": "LayoutModel",
            "_view_count": null,
            "_view_module": "@jupyter-widgets/base",
            "_view_module_version": "1.2.0",
            "_view_name": "LayoutView",
            "align_content": null,
            "align_items": null,
            "align_self": null,
            "border": null,
            "bottom": null,
            "display": null,
            "flex": null,
            "flex_flow": null,
            "grid_area": null,
            "grid_auto_columns": null,
            "grid_auto_flow": null,
            "grid_auto_rows": null,
            "grid_column": null,
            "grid_gap": null,
            "grid_row": null,
            "grid_template_areas": null,
            "grid_template_columns": null,
            "grid_template_rows": null,
            "height": null,
            "justify_content": null,
            "justify_items": null,
            "left": null,
            "margin": null,
            "max_height": null,
            "max_width": null,
            "min_height": null,
            "min_width": null,
            "object_fit": null,
            "object_position": null,
            "order": null,
            "overflow": null,
            "overflow_x": null,
            "overflow_y": null,
            "padding": null,
            "right": null,
            "top": null,
            "visibility": null,
            "width": null
          }
        },
        "8d367170d22943fca57191d281b6672e": {
          "model_module": "@jupyter-widgets/controls",
          "model_name": "DescriptionStyleModel",
          "model_module_version": "1.5.0",
          "state": {
            "_model_module": "@jupyter-widgets/controls",
            "_model_module_version": "1.5.0",
            "_model_name": "DescriptionStyleModel",
            "_view_count": null,
            "_view_module": "@jupyter-widgets/base",
            "_view_module_version": "1.2.0",
            "_view_name": "StyleView",
            "description_width": ""
          }
        },
        "9c29c4ceec5b4c9b8a5dd0ea5b07127c": {
          "model_module": "@jupyter-widgets/base",
          "model_name": "LayoutModel",
          "model_module_version": "1.2.0",
          "state": {
            "_model_module": "@jupyter-widgets/base",
            "_model_module_version": "1.2.0",
            "_model_name": "LayoutModel",
            "_view_count": null,
            "_view_module": "@jupyter-widgets/base",
            "_view_module_version": "1.2.0",
            "_view_name": "LayoutView",
            "align_content": null,
            "align_items": null,
            "align_self": null,
            "border": null,
            "bottom": null,
            "display": null,
            "flex": null,
            "flex_flow": null,
            "grid_area": null,
            "grid_auto_columns": null,
            "grid_auto_flow": null,
            "grid_auto_rows": null,
            "grid_column": null,
            "grid_gap": null,
            "grid_row": null,
            "grid_template_areas": null,
            "grid_template_columns": null,
            "grid_template_rows": null,
            "height": null,
            "justify_content": null,
            "justify_items": null,
            "left": null,
            "margin": null,
            "max_height": null,
            "max_width": null,
            "min_height": null,
            "min_width": null,
            "object_fit": null,
            "object_position": null,
            "order": null,
            "overflow": null,
            "overflow_x": null,
            "overflow_y": null,
            "padding": null,
            "right": null,
            "top": null,
            "visibility": null,
            "width": null
          }
        },
        "a84bc3d5b68f486fb8b95fca3e2c8fb1": {
          "model_module": "@jupyter-widgets/controls",
          "model_name": "ProgressStyleModel",
          "model_module_version": "1.5.0",
          "state": {
            "_model_module": "@jupyter-widgets/controls",
            "_model_module_version": "1.5.0",
            "_model_name": "ProgressStyleModel",
            "_view_count": null,
            "_view_module": "@jupyter-widgets/base",
            "_view_module_version": "1.2.0",
            "_view_name": "StyleView",
            "bar_color": null,
            "description_width": ""
          }
        },
        "b30db22c442a4ac9ade8b4440cc5386a": {
          "model_module": "@jupyter-widgets/base",
          "model_name": "LayoutModel",
          "model_module_version": "1.2.0",
          "state": {
            "_model_module": "@jupyter-widgets/base",
            "_model_module_version": "1.2.0",
            "_model_name": "LayoutModel",
            "_view_count": null,
            "_view_module": "@jupyter-widgets/base",
            "_view_module_version": "1.2.0",
            "_view_name": "LayoutView",
            "align_content": null,
            "align_items": null,
            "align_self": null,
            "border": null,
            "bottom": null,
            "display": null,
            "flex": null,
            "flex_flow": null,
            "grid_area": null,
            "grid_auto_columns": null,
            "grid_auto_flow": null,
            "grid_auto_rows": null,
            "grid_column": null,
            "grid_gap": null,
            "grid_row": null,
            "grid_template_areas": null,
            "grid_template_columns": null,
            "grid_template_rows": null,
            "height": null,
            "justify_content": null,
            "justify_items": null,
            "left": null,
            "margin": null,
            "max_height": null,
            "max_width": null,
            "min_height": null,
            "min_width": null,
            "object_fit": null,
            "object_position": null,
            "order": null,
            "overflow": null,
            "overflow_x": null,
            "overflow_y": null,
            "padding": null,
            "right": null,
            "top": null,
            "visibility": null,
            "width": null
          }
        },
        "5ffc62d9a15b48fbb3503650adacf094": {
          "model_module": "@jupyter-widgets/controls",
          "model_name": "DescriptionStyleModel",
          "model_module_version": "1.5.0",
          "state": {
            "_model_module": "@jupyter-widgets/controls",
            "_model_module_version": "1.5.0",
            "_model_name": "DescriptionStyleModel",
            "_view_count": null,
            "_view_module": "@jupyter-widgets/base",
            "_view_module_version": "1.2.0",
            "_view_name": "StyleView",
            "description_width": ""
          }
        },
        "fbcd972e71694416a28a54e04a622c37": {
          "model_module": "@jupyter-widgets/controls",
          "model_name": "HBoxModel",
          "model_module_version": "1.5.0",
          "state": {
            "_dom_classes": [],
            "_model_module": "@jupyter-widgets/controls",
            "_model_module_version": "1.5.0",
            "_model_name": "HBoxModel",
            "_view_count": null,
            "_view_module": "@jupyter-widgets/controls",
            "_view_module_version": "1.5.0",
            "_view_name": "HBoxView",
            "box_style": "",
            "children": [
              "IPY_MODEL_57a56ac2aa1e4e24a392aa593e5178e0",
              "IPY_MODEL_1a8bc8320f5b4bd7ae300f467961b2b6",
              "IPY_MODEL_b1e7ca2c9e5c421e815d21818cfcc253"
            ],
            "layout": "IPY_MODEL_3f710a4af71a483ea8afcbd9280fc815"
          }
        },
        "57a56ac2aa1e4e24a392aa593e5178e0": {
          "model_module": "@jupyter-widgets/controls",
          "model_name": "HTMLModel",
          "model_module_version": "1.5.0",
          "state": {
            "_dom_classes": [],
            "_model_module": "@jupyter-widgets/controls",
            "_model_module_version": "1.5.0",
            "_model_name": "HTMLModel",
            "_view_count": null,
            "_view_module": "@jupyter-widgets/controls",
            "_view_module_version": "1.5.0",
            "_view_name": "HTMLView",
            "description": "",
            "description_tooltip": null,
            "layout": "IPY_MODEL_a612e8fb7e5448eaa926b523379449b8",
            "placeholder": "​",
            "style": "IPY_MODEL_e53605ee09af45458ff3ca538d49a50b",
            "value": "generation_config.json: 100%"
          }
        },
        "1a8bc8320f5b4bd7ae300f467961b2b6": {
          "model_module": "@jupyter-widgets/controls",
          "model_name": "FloatProgressModel",
          "model_module_version": "1.5.0",
          "state": {
            "_dom_classes": [],
            "_model_module": "@jupyter-widgets/controls",
            "_model_module_version": "1.5.0",
            "_model_name": "FloatProgressModel",
            "_view_count": null,
            "_view_module": "@jupyter-widgets/controls",
            "_view_module_version": "1.5.0",
            "_view_name": "ProgressView",
            "bar_style": "success",
            "description": "",
            "description_tooltip": null,
            "layout": "IPY_MODEL_23f91dd2988d4c9a84b2cd7dff99edb4",
            "max": 147,
            "min": 0,
            "orientation": "horizontal",
            "style": "IPY_MODEL_812fc30cd8e846bbb99fbfd4ac276d27",
            "value": 147
          }
        },
        "b1e7ca2c9e5c421e815d21818cfcc253": {
          "model_module": "@jupyter-widgets/controls",
          "model_name": "HTMLModel",
          "model_module_version": "1.5.0",
          "state": {
            "_dom_classes": [],
            "_model_module": "@jupyter-widgets/controls",
            "_model_module_version": "1.5.0",
            "_model_name": "HTMLModel",
            "_view_count": null,
            "_view_module": "@jupyter-widgets/controls",
            "_view_module_version": "1.5.0",
            "_view_name": "HTMLView",
            "description": "",
            "description_tooltip": null,
            "layout": "IPY_MODEL_e1bdb868ad3942a2b16f91cf163084da",
            "placeholder": "​",
            "style": "IPY_MODEL_1ca65c71c38e4450bbcb77c7bb4e063e",
            "value": " 147/147 [00:00&lt;00:00, 9.25kB/s]"
          }
        },
        "3f710a4af71a483ea8afcbd9280fc815": {
          "model_module": "@jupyter-widgets/base",
          "model_name": "LayoutModel",
          "model_module_version": "1.2.0",
          "state": {
            "_model_module": "@jupyter-widgets/base",
            "_model_module_version": "1.2.0",
            "_model_name": "LayoutModel",
            "_view_count": null,
            "_view_module": "@jupyter-widgets/base",
            "_view_module_version": "1.2.0",
            "_view_name": "LayoutView",
            "align_content": null,
            "align_items": null,
            "align_self": null,
            "border": null,
            "bottom": null,
            "display": null,
            "flex": null,
            "flex_flow": null,
            "grid_area": null,
            "grid_auto_columns": null,
            "grid_auto_flow": null,
            "grid_auto_rows": null,
            "grid_column": null,
            "grid_gap": null,
            "grid_row": null,
            "grid_template_areas": null,
            "grid_template_columns": null,
            "grid_template_rows": null,
            "height": null,
            "justify_content": null,
            "justify_items": null,
            "left": null,
            "margin": null,
            "max_height": null,
            "max_width": null,
            "min_height": null,
            "min_width": null,
            "object_fit": null,
            "object_position": null,
            "order": null,
            "overflow": null,
            "overflow_x": null,
            "overflow_y": null,
            "padding": null,
            "right": null,
            "top": null,
            "visibility": null,
            "width": null
          }
        },
        "a612e8fb7e5448eaa926b523379449b8": {
          "model_module": "@jupyter-widgets/base",
          "model_name": "LayoutModel",
          "model_module_version": "1.2.0",
          "state": {
            "_model_module": "@jupyter-widgets/base",
            "_model_module_version": "1.2.0",
            "_model_name": "LayoutModel",
            "_view_count": null,
            "_view_module": "@jupyter-widgets/base",
            "_view_module_version": "1.2.0",
            "_view_name": "LayoutView",
            "align_content": null,
            "align_items": null,
            "align_self": null,
            "border": null,
            "bottom": null,
            "display": null,
            "flex": null,
            "flex_flow": null,
            "grid_area": null,
            "grid_auto_columns": null,
            "grid_auto_flow": null,
            "grid_auto_rows": null,
            "grid_column": null,
            "grid_gap": null,
            "grid_row": null,
            "grid_template_areas": null,
            "grid_template_columns": null,
            "grid_template_rows": null,
            "height": null,
            "justify_content": null,
            "justify_items": null,
            "left": null,
            "margin": null,
            "max_height": null,
            "max_width": null,
            "min_height": null,
            "min_width": null,
            "object_fit": null,
            "object_position": null,
            "order": null,
            "overflow": null,
            "overflow_x": null,
            "overflow_y": null,
            "padding": null,
            "right": null,
            "top": null,
            "visibility": null,
            "width": null
          }
        },
        "e53605ee09af45458ff3ca538d49a50b": {
          "model_module": "@jupyter-widgets/controls",
          "model_name": "DescriptionStyleModel",
          "model_module_version": "1.5.0",
          "state": {
            "_model_module": "@jupyter-widgets/controls",
            "_model_module_version": "1.5.0",
            "_model_name": "DescriptionStyleModel",
            "_view_count": null,
            "_view_module": "@jupyter-widgets/base",
            "_view_module_version": "1.2.0",
            "_view_name": "StyleView",
            "description_width": ""
          }
        },
        "23f91dd2988d4c9a84b2cd7dff99edb4": {
          "model_module": "@jupyter-widgets/base",
          "model_name": "LayoutModel",
          "model_module_version": "1.2.0",
          "state": {
            "_model_module": "@jupyter-widgets/base",
            "_model_module_version": "1.2.0",
            "_model_name": "LayoutModel",
            "_view_count": null,
            "_view_module": "@jupyter-widgets/base",
            "_view_module_version": "1.2.0",
            "_view_name": "LayoutView",
            "align_content": null,
            "align_items": null,
            "align_self": null,
            "border": null,
            "bottom": null,
            "display": null,
            "flex": null,
            "flex_flow": null,
            "grid_area": null,
            "grid_auto_columns": null,
            "grid_auto_flow": null,
            "grid_auto_rows": null,
            "grid_column": null,
            "grid_gap": null,
            "grid_row": null,
            "grid_template_areas": null,
            "grid_template_columns": null,
            "grid_template_rows": null,
            "height": null,
            "justify_content": null,
            "justify_items": null,
            "left": null,
            "margin": null,
            "max_height": null,
            "max_width": null,
            "min_height": null,
            "min_width": null,
            "object_fit": null,
            "object_position": null,
            "order": null,
            "overflow": null,
            "overflow_x": null,
            "overflow_y": null,
            "padding": null,
            "right": null,
            "top": null,
            "visibility": null,
            "width": null
          }
        },
        "812fc30cd8e846bbb99fbfd4ac276d27": {
          "model_module": "@jupyter-widgets/controls",
          "model_name": "ProgressStyleModel",
          "model_module_version": "1.5.0",
          "state": {
            "_model_module": "@jupyter-widgets/controls",
            "_model_module_version": "1.5.0",
            "_model_name": "ProgressStyleModel",
            "_view_count": null,
            "_view_module": "@jupyter-widgets/base",
            "_view_module_version": "1.2.0",
            "_view_name": "StyleView",
            "bar_color": null,
            "description_width": ""
          }
        },
        "e1bdb868ad3942a2b16f91cf163084da": {
          "model_module": "@jupyter-widgets/base",
          "model_name": "LayoutModel",
          "model_module_version": "1.2.0",
          "state": {
            "_model_module": "@jupyter-widgets/base",
            "_model_module_version": "1.2.0",
            "_model_name": "LayoutModel",
            "_view_count": null,
            "_view_module": "@jupyter-widgets/base",
            "_view_module_version": "1.2.0",
            "_view_name": "LayoutView",
            "align_content": null,
            "align_items": null,
            "align_self": null,
            "border": null,
            "bottom": null,
            "display": null,
            "flex": null,
            "flex_flow": null,
            "grid_area": null,
            "grid_auto_columns": null,
            "grid_auto_flow": null,
            "grid_auto_rows": null,
            "grid_column": null,
            "grid_gap": null,
            "grid_row": null,
            "grid_template_areas": null,
            "grid_template_columns": null,
            "grid_template_rows": null,
            "height": null,
            "justify_content": null,
            "justify_items": null,
            "left": null,
            "margin": null,
            "max_height": null,
            "max_width": null,
            "min_height": null,
            "min_width": null,
            "object_fit": null,
            "object_position": null,
            "order": null,
            "overflow": null,
            "overflow_x": null,
            "overflow_y": null,
            "padding": null,
            "right": null,
            "top": null,
            "visibility": null,
            "width": null
          }
        },
        "1ca65c71c38e4450bbcb77c7bb4e063e": {
          "model_module": "@jupyter-widgets/controls",
          "model_name": "DescriptionStyleModel",
          "model_module_version": "1.5.0",
          "state": {
            "_model_module": "@jupyter-widgets/controls",
            "_model_module_version": "1.5.0",
            "_model_name": "DescriptionStyleModel",
            "_view_count": null,
            "_view_module": "@jupyter-widgets/base",
            "_view_module_version": "1.2.0",
            "_view_name": "StyleView",
            "description_width": ""
          }
        }
      }
    }
  },
  "cells": [
    {
      "cell_type": "markdown",
      "source": [
        "Create a virtual environment:\n"
      ],
      "metadata": {
        "id": "juh4ufxeXmfk"
      }
    },
    {
      "cell_type": "code",
      "execution_count": 41,
      "metadata": {
        "colab": {
          "base_uri": "https://localhost:8080/"
        },
        "id": "6vKRHQZdXiwW",
        "outputId": "8de51387-cf46-4b11-9bcb-92e51780a4c6"
      },
      "outputs": [
        {
          "output_type": "stream",
          "name": "stdout",
          "text": [
            "The virtual environment was not created successfully because ensurepip is not\n",
            "available.  On Debian/Ubuntu systems, you need to install the python3-venv\n",
            "package using the following command.\n",
            "\n",
            "    apt install python3.10-venv\n",
            "\n",
            "You may need to use sudo with that command.  After installing the python3-venv\n",
            "package, recreate your virtual environment.\n",
            "\n",
            "Failing command: /content/rag_env/bin/python3\n",
            "\n",
            "/bin/bash: line 1: rag_env/bin/activate: No such file or directory\n"
          ]
        }
      ],
      "source": [
        "!python -m venv rag_env\n",
        "!source rag_env/bin/activate"
      ]
    },
    {
      "cell_type": "code",
      "source": [
        "pip install pandas numpy streamlit sentence-transformers langchain milvus pymilvus openai PyPDF2 SpeechRecognition ffmpeg\n"
      ],
      "metadata": {
        "colab": {
          "base_uri": "https://localhost:8080/"
        },
        "collapsed": true,
        "id": "caJQ867UXymz",
        "outputId": "0724683e-4bee-4b58-ec4f-23a586203fa6"
      },
      "execution_count": 42,
      "outputs": [
        {
          "output_type": "stream",
          "name": "stdout",
          "text": [
            "Requirement already satisfied: pandas in /usr/local/lib/python3.10/dist-packages (2.2.2)\n",
            "Requirement already satisfied: numpy in /usr/local/lib/python3.10/dist-packages (1.26.4)\n",
            "Requirement already satisfied: streamlit in /usr/local/lib/python3.10/dist-packages (1.40.2)\n",
            "Requirement already satisfied: sentence-transformers in /usr/local/lib/python3.10/dist-packages (3.2.1)\n",
            "Requirement already satisfied: langchain in /usr/local/lib/python3.10/dist-packages (0.3.7)\n",
            "Requirement already satisfied: milvus in /usr/local/lib/python3.10/dist-packages (2.3.5)\n",
            "Requirement already satisfied: pymilvus in /usr/local/lib/python3.10/dist-packages (2.5.0)\n",
            "Requirement already satisfied: openai in /usr/local/lib/python3.10/dist-packages (1.54.4)\n",
            "Requirement already satisfied: PyPDF2 in /usr/local/lib/python3.10/dist-packages (3.0.1)\n",
            "Requirement already satisfied: SpeechRecognition in /usr/local/lib/python3.10/dist-packages (3.11.0)\n",
            "Requirement already satisfied: ffmpeg in /usr/local/lib/python3.10/dist-packages (1.4)\n",
            "Requirement already satisfied: python-dateutil>=2.8.2 in /usr/local/lib/python3.10/dist-packages (from pandas) (2.8.2)\n",
            "Requirement already satisfied: pytz>=2020.1 in /usr/local/lib/python3.10/dist-packages (from pandas) (2024.2)\n",
            "Requirement already satisfied: tzdata>=2022.7 in /usr/local/lib/python3.10/dist-packages (from pandas) (2024.2)\n",
            "Requirement already satisfied: altair<6,>=4.0 in /usr/local/lib/python3.10/dist-packages (from streamlit) (4.2.2)\n",
            "Requirement already satisfied: blinker<2,>=1.0.0 in /usr/local/lib/python3.10/dist-packages (from streamlit) (1.9.0)\n",
            "Requirement already satisfied: cachetools<6,>=4.0 in /usr/local/lib/python3.10/dist-packages (from streamlit) (5.5.0)\n",
            "Requirement already satisfied: click<9,>=7.0 in /usr/local/lib/python3.10/dist-packages (from streamlit) (8.1.7)\n",
            "Requirement already satisfied: packaging<25,>=20 in /usr/local/lib/python3.10/dist-packages (from streamlit) (24.2)\n",
            "Requirement already satisfied: pillow<12,>=7.1.0 in /usr/local/lib/python3.10/dist-packages (from streamlit) (11.0.0)\n",
            "Requirement already satisfied: protobuf<6,>=3.20 in /usr/local/lib/python3.10/dist-packages (from streamlit) (4.25.5)\n",
            "Requirement already satisfied: pyarrow>=7.0 in /usr/local/lib/python3.10/dist-packages (from streamlit) (17.0.0)\n",
            "Requirement already satisfied: requests<3,>=2.27 in /usr/local/lib/python3.10/dist-packages (from streamlit) (2.32.3)\n",
            "Requirement already satisfied: rich<14,>=10.14.0 in /usr/local/lib/python3.10/dist-packages (from streamlit) (13.9.4)\n",
            "Requirement already satisfied: tenacity<10,>=8.1.0 in /usr/local/lib/python3.10/dist-packages (from streamlit) (9.0.0)\n",
            "Requirement already satisfied: toml<2,>=0.10.1 in /usr/local/lib/python3.10/dist-packages (from streamlit) (0.10.2)\n",
            "Requirement already satisfied: typing-extensions<5,>=4.3.0 in /usr/local/lib/python3.10/dist-packages (from streamlit) (4.12.2)\n",
            "Requirement already satisfied: watchdog<7,>=2.1.5 in /usr/local/lib/python3.10/dist-packages (from streamlit) (6.0.0)\n",
            "Requirement already satisfied: gitpython!=3.1.19,<4,>=3.0.7 in /usr/local/lib/python3.10/dist-packages (from streamlit) (3.1.43)\n",
            "Requirement already satisfied: pydeck<1,>=0.8.0b4 in /usr/local/lib/python3.10/dist-packages (from streamlit) (0.9.1)\n",
            "Requirement already satisfied: tornado<7,>=6.0.3 in /usr/local/lib/python3.10/dist-packages (from streamlit) (6.3.3)\n",
            "Requirement already satisfied: transformers<5.0.0,>=4.41.0 in /usr/local/lib/python3.10/dist-packages (from sentence-transformers) (4.46.2)\n",
            "Requirement already satisfied: tqdm in /usr/local/lib/python3.10/dist-packages (from sentence-transformers) (4.66.6)\n",
            "Requirement already satisfied: torch>=1.11.0 in /usr/local/lib/python3.10/dist-packages (from sentence-transformers) (2.5.1+cu121)\n",
            "Requirement already satisfied: scikit-learn in /usr/local/lib/python3.10/dist-packages (from sentence-transformers) (1.5.2)\n",
            "Requirement already satisfied: scipy in /usr/local/lib/python3.10/dist-packages (from sentence-transformers) (1.13.1)\n",
            "Requirement already satisfied: huggingface-hub>=0.20.0 in /usr/local/lib/python3.10/dist-packages (from sentence-transformers) (0.26.2)\n",
            "Requirement already satisfied: PyYAML>=5.3 in /usr/local/lib/python3.10/dist-packages (from langchain) (6.0.2)\n",
            "Requirement already satisfied: SQLAlchemy<3,>=1.4 in /usr/local/lib/python3.10/dist-packages (from langchain) (2.0.36)\n",
            "Requirement already satisfied: aiohttp<4.0.0,>=3.8.3 in /usr/local/lib/python3.10/dist-packages (from langchain) (3.11.2)\n",
            "Requirement already satisfied: async-timeout<5.0.0,>=4.0.0 in /usr/local/lib/python3.10/dist-packages (from langchain) (4.0.3)\n",
            "Requirement already satisfied: langchain-core<0.4.0,>=0.3.15 in /usr/local/lib/python3.10/dist-packages (from langchain) (0.3.19)\n",
            "Requirement already satisfied: langchain-text-splitters<0.4.0,>=0.3.0 in /usr/local/lib/python3.10/dist-packages (from langchain) (0.3.2)\n",
            "Requirement already satisfied: langsmith<0.2.0,>=0.1.17 in /usr/local/lib/python3.10/dist-packages (from langchain) (0.1.143)\n",
            "Requirement already satisfied: pydantic<3.0.0,>=2.7.4 in /usr/local/lib/python3.10/dist-packages (from langchain) (2.9.2)\n",
            "Requirement already satisfied: setuptools>69 in /usr/local/lib/python3.10/dist-packages (from pymilvus) (75.1.0)\n",
            "Requirement already satisfied: grpcio<=1.67.1,>=1.49.1 in /usr/local/lib/python3.10/dist-packages (from pymilvus) (1.67.1)\n",
            "Requirement already satisfied: python-dotenv<2.0.0,>=1.0.1 in /usr/local/lib/python3.10/dist-packages (from pymilvus) (1.0.1)\n",
            "Requirement already satisfied: ujson>=2.0.0 in /usr/local/lib/python3.10/dist-packages (from pymilvus) (5.10.0)\n",
            "Requirement already satisfied: milvus-lite>=2.4.0 in /usr/local/lib/python3.10/dist-packages (from pymilvus) (2.4.10)\n",
            "Requirement already satisfied: anyio<5,>=3.5.0 in /usr/local/lib/python3.10/dist-packages (from openai) (3.7.1)\n",
            "Requirement already satisfied: distro<2,>=1.7.0 in /usr/local/lib/python3.10/dist-packages (from openai) (1.9.0)\n",
            "Requirement already satisfied: httpx<1,>=0.23.0 in /usr/local/lib/python3.10/dist-packages (from openai) (0.27.2)\n",
            "Requirement already satisfied: jiter<1,>=0.4.0 in /usr/local/lib/python3.10/dist-packages (from openai) (0.7.1)\n",
            "Requirement already satisfied: sniffio in /usr/local/lib/python3.10/dist-packages (from openai) (1.3.1)\n",
            "Requirement already satisfied: aiohappyeyeballs>=2.3.0 in /usr/local/lib/python3.10/dist-packages (from aiohttp<4.0.0,>=3.8.3->langchain) (2.4.3)\n",
            "Requirement already satisfied: aiosignal>=1.1.2 in /usr/local/lib/python3.10/dist-packages (from aiohttp<4.0.0,>=3.8.3->langchain) (1.3.1)\n",
            "Requirement already satisfied: attrs>=17.3.0 in /usr/local/lib/python3.10/dist-packages (from aiohttp<4.0.0,>=3.8.3->langchain) (24.2.0)\n",
            "Requirement already satisfied: frozenlist>=1.1.1 in /usr/local/lib/python3.10/dist-packages (from aiohttp<4.0.0,>=3.8.3->langchain) (1.5.0)\n",
            "Requirement already satisfied: multidict<7.0,>=4.5 in /usr/local/lib/python3.10/dist-packages (from aiohttp<4.0.0,>=3.8.3->langchain) (6.1.0)\n",
            "Requirement already satisfied: propcache>=0.2.0 in /usr/local/lib/python3.10/dist-packages (from aiohttp<4.0.0,>=3.8.3->langchain) (0.2.0)\n",
            "Requirement already satisfied: yarl<2.0,>=1.17.0 in /usr/local/lib/python3.10/dist-packages (from aiohttp<4.0.0,>=3.8.3->langchain) (1.17.2)\n",
            "Requirement already satisfied: entrypoints in /usr/local/lib/python3.10/dist-packages (from altair<6,>=4.0->streamlit) (0.4)\n",
            "Requirement already satisfied: jinja2 in /usr/local/lib/python3.10/dist-packages (from altair<6,>=4.0->streamlit) (3.1.4)\n",
            "Requirement already satisfied: jsonschema>=3.0 in /usr/local/lib/python3.10/dist-packages (from altair<6,>=4.0->streamlit) (4.23.0)\n",
            "Requirement already satisfied: toolz in /usr/local/lib/python3.10/dist-packages (from altair<6,>=4.0->streamlit) (0.12.1)\n",
            "Requirement already satisfied: idna>=2.8 in /usr/local/lib/python3.10/dist-packages (from anyio<5,>=3.5.0->openai) (3.10)\n",
            "Requirement already satisfied: exceptiongroup in /usr/local/lib/python3.10/dist-packages (from anyio<5,>=3.5.0->openai) (1.2.2)\n",
            "Requirement already satisfied: gitdb<5,>=4.0.1 in /usr/local/lib/python3.10/dist-packages (from gitpython!=3.1.19,<4,>=3.0.7->streamlit) (4.0.11)\n",
            "Requirement already satisfied: certifi in /usr/local/lib/python3.10/dist-packages (from httpx<1,>=0.23.0->openai) (2024.8.30)\n",
            "Requirement already satisfied: httpcore==1.* in /usr/local/lib/python3.10/dist-packages (from httpx<1,>=0.23.0->openai) (1.0.7)\n",
            "Requirement already satisfied: h11<0.15,>=0.13 in /usr/local/lib/python3.10/dist-packages (from httpcore==1.*->httpx<1,>=0.23.0->openai) (0.14.0)\n",
            "Requirement already satisfied: filelock in /usr/local/lib/python3.10/dist-packages (from huggingface-hub>=0.20.0->sentence-transformers) (3.16.1)\n",
            "Requirement already satisfied: fsspec>=2023.5.0 in /usr/local/lib/python3.10/dist-packages (from huggingface-hub>=0.20.0->sentence-transformers) (2024.10.0)\n",
            "Requirement already satisfied: jsonpatch<2.0,>=1.33 in /usr/local/lib/python3.10/dist-packages (from langchain-core<0.4.0,>=0.3.15->langchain) (1.33)\n",
            "Requirement already satisfied: orjson<4.0.0,>=3.9.14 in /usr/local/lib/python3.10/dist-packages (from langsmith<0.2.0,>=0.1.17->langchain) (3.10.11)\n",
            "Requirement already satisfied: requests-toolbelt<2.0.0,>=1.0.0 in /usr/local/lib/python3.10/dist-packages (from langsmith<0.2.0,>=0.1.17->langchain) (1.0.0)\n",
            "Requirement already satisfied: annotated-types>=0.6.0 in /usr/local/lib/python3.10/dist-packages (from pydantic<3.0.0,>=2.7.4->langchain) (0.7.0)\n",
            "Requirement already satisfied: pydantic-core==2.23.4 in /usr/local/lib/python3.10/dist-packages (from pydantic<3.0.0,>=2.7.4->langchain) (2.23.4)\n",
            "Requirement already satisfied: six>=1.5 in /usr/local/lib/python3.10/dist-packages (from python-dateutil>=2.8.2->pandas) (1.16.0)\n",
            "Requirement already satisfied: charset-normalizer<4,>=2 in /usr/local/lib/python3.10/dist-packages (from requests<3,>=2.27->streamlit) (3.4.0)\n",
            "Requirement already satisfied: urllib3<3,>=1.21.1 in /usr/local/lib/python3.10/dist-packages (from requests<3,>=2.27->streamlit) (2.2.3)\n",
            "Requirement already satisfied: markdown-it-py>=2.2.0 in /usr/local/lib/python3.10/dist-packages (from rich<14,>=10.14.0->streamlit) (3.0.0)\n",
            "Requirement already satisfied: pygments<3.0.0,>=2.13.0 in /usr/local/lib/python3.10/dist-packages (from rich<14,>=10.14.0->streamlit) (2.18.0)\n",
            "Requirement already satisfied: greenlet!=0.4.17 in /usr/local/lib/python3.10/dist-packages (from SQLAlchemy<3,>=1.4->langchain) (3.1.1)\n",
            "Requirement already satisfied: networkx in /usr/local/lib/python3.10/dist-packages (from torch>=1.11.0->sentence-transformers) (3.4.2)\n",
            "Requirement already satisfied: sympy==1.13.1 in /usr/local/lib/python3.10/dist-packages (from torch>=1.11.0->sentence-transformers) (1.13.1)\n",
            "Requirement already satisfied: mpmath<1.4,>=1.1.0 in /usr/local/lib/python3.10/dist-packages (from sympy==1.13.1->torch>=1.11.0->sentence-transformers) (1.3.0)\n",
            "Requirement already satisfied: regex!=2019.12.17 in /usr/local/lib/python3.10/dist-packages (from transformers<5.0.0,>=4.41.0->sentence-transformers) (2024.9.11)\n",
            "Requirement already satisfied: safetensors>=0.4.1 in /usr/local/lib/python3.10/dist-packages (from transformers<5.0.0,>=4.41.0->sentence-transformers) (0.4.5)\n",
            "Requirement already satisfied: tokenizers<0.21,>=0.20 in /usr/local/lib/python3.10/dist-packages (from transformers<5.0.0,>=4.41.0->sentence-transformers) (0.20.3)\n",
            "Requirement already satisfied: joblib>=1.2.0 in /usr/local/lib/python3.10/dist-packages (from scikit-learn->sentence-transformers) (1.4.2)\n",
            "Requirement already satisfied: threadpoolctl>=3.1.0 in /usr/local/lib/python3.10/dist-packages (from scikit-learn->sentence-transformers) (3.5.0)\n",
            "Requirement already satisfied: smmap<6,>=3.0.1 in /usr/local/lib/python3.10/dist-packages (from gitdb<5,>=4.0.1->gitpython!=3.1.19,<4,>=3.0.7->streamlit) (5.0.1)\n",
            "Requirement already satisfied: MarkupSafe>=2.0 in /usr/local/lib/python3.10/dist-packages (from jinja2->altair<6,>=4.0->streamlit) (3.0.2)\n",
            "Requirement already satisfied: jsonpointer>=1.9 in /usr/local/lib/python3.10/dist-packages (from jsonpatch<2.0,>=1.33->langchain-core<0.4.0,>=0.3.15->langchain) (3.0.0)\n",
            "Requirement already satisfied: jsonschema-specifications>=2023.03.6 in /usr/local/lib/python3.10/dist-packages (from jsonschema>=3.0->altair<6,>=4.0->streamlit) (2024.10.1)\n",
            "Requirement already satisfied: referencing>=0.28.4 in /usr/local/lib/python3.10/dist-packages (from jsonschema>=3.0->altair<6,>=4.0->streamlit) (0.35.1)\n",
            "Requirement already satisfied: rpds-py>=0.7.1 in /usr/local/lib/python3.10/dist-packages (from jsonschema>=3.0->altair<6,>=4.0->streamlit) (0.21.0)\n",
            "Requirement already satisfied: mdurl~=0.1 in /usr/local/lib/python3.10/dist-packages (from markdown-it-py>=2.2.0->rich<14,>=10.14.0->streamlit) (0.1.2)\n"
          ]
        }
      ]
    },
    {
      "cell_type": "markdown",
      "source": [
        "Create a RAG pipeline\n"
      ],
      "metadata": {
        "id": "FRfZguanYGaU"
      }
    },
    {
      "cell_type": "markdown",
      "source": [
        "Insstalling Dependencies\n"
      ],
      "metadata": {
        "id": "uGVu917PCQo6"
      }
    },
    {
      "cell_type": "code",
      "source": [
        "# Install necessary libraries\n",
        "!pip install sentence-transformers\n",
        "!pip install transformers\n",
        "!pip install pymilvus\n",
        "!pip install torch\n",
        "!pip install docker\n",
        "!pip install streamlit\n"
      ],
      "metadata": {
        "colab": {
          "base_uri": "https://localhost:8080/"
        },
        "collapsed": true,
        "id": "cyaB_zPxCTYw",
        "outputId": "f9871dc9-85af-4360-e7ef-f0753b8d50bf"
      },
      "execution_count": 43,
      "outputs": [
        {
          "output_type": "stream",
          "name": "stdout",
          "text": [
            "Requirement already satisfied: sentence-transformers in /usr/local/lib/python3.10/dist-packages (3.2.1)\n",
            "Requirement already satisfied: transformers<5.0.0,>=4.41.0 in /usr/local/lib/python3.10/dist-packages (from sentence-transformers) (4.46.2)\n",
            "Requirement already satisfied: tqdm in /usr/local/lib/python3.10/dist-packages (from sentence-transformers) (4.66.6)\n",
            "Requirement already satisfied: torch>=1.11.0 in /usr/local/lib/python3.10/dist-packages (from sentence-transformers) (2.5.1+cu121)\n",
            "Requirement already satisfied: scikit-learn in /usr/local/lib/python3.10/dist-packages (from sentence-transformers) (1.5.2)\n",
            "Requirement already satisfied: scipy in /usr/local/lib/python3.10/dist-packages (from sentence-transformers) (1.13.1)\n",
            "Requirement already satisfied: huggingface-hub>=0.20.0 in /usr/local/lib/python3.10/dist-packages (from sentence-transformers) (0.26.2)\n",
            "Requirement already satisfied: Pillow in /usr/local/lib/python3.10/dist-packages (from sentence-transformers) (11.0.0)\n",
            "Requirement already satisfied: filelock in /usr/local/lib/python3.10/dist-packages (from huggingface-hub>=0.20.0->sentence-transformers) (3.16.1)\n",
            "Requirement already satisfied: fsspec>=2023.5.0 in /usr/local/lib/python3.10/dist-packages (from huggingface-hub>=0.20.0->sentence-transformers) (2024.10.0)\n",
            "Requirement already satisfied: packaging>=20.9 in /usr/local/lib/python3.10/dist-packages (from huggingface-hub>=0.20.0->sentence-transformers) (24.2)\n",
            "Requirement already satisfied: pyyaml>=5.1 in /usr/local/lib/python3.10/dist-packages (from huggingface-hub>=0.20.0->sentence-transformers) (6.0.2)\n",
            "Requirement already satisfied: requests in /usr/local/lib/python3.10/dist-packages (from huggingface-hub>=0.20.0->sentence-transformers) (2.32.3)\n",
            "Requirement already satisfied: typing-extensions>=3.7.4.3 in /usr/local/lib/python3.10/dist-packages (from huggingface-hub>=0.20.0->sentence-transformers) (4.12.2)\n",
            "Requirement already satisfied: networkx in /usr/local/lib/python3.10/dist-packages (from torch>=1.11.0->sentence-transformers) (3.4.2)\n",
            "Requirement already satisfied: jinja2 in /usr/local/lib/python3.10/dist-packages (from torch>=1.11.0->sentence-transformers) (3.1.4)\n",
            "Requirement already satisfied: sympy==1.13.1 in /usr/local/lib/python3.10/dist-packages (from torch>=1.11.0->sentence-transformers) (1.13.1)\n",
            "Requirement already satisfied: mpmath<1.4,>=1.1.0 in /usr/local/lib/python3.10/dist-packages (from sympy==1.13.1->torch>=1.11.0->sentence-transformers) (1.3.0)\n",
            "Requirement already satisfied: numpy>=1.17 in /usr/local/lib/python3.10/dist-packages (from transformers<5.0.0,>=4.41.0->sentence-transformers) (1.26.4)\n",
            "Requirement already satisfied: regex!=2019.12.17 in /usr/local/lib/python3.10/dist-packages (from transformers<5.0.0,>=4.41.0->sentence-transformers) (2024.9.11)\n",
            "Requirement already satisfied: safetensors>=0.4.1 in /usr/local/lib/python3.10/dist-packages (from transformers<5.0.0,>=4.41.0->sentence-transformers) (0.4.5)\n",
            "Requirement already satisfied: tokenizers<0.21,>=0.20 in /usr/local/lib/python3.10/dist-packages (from transformers<5.0.0,>=4.41.0->sentence-transformers) (0.20.3)\n",
            "Requirement already satisfied: joblib>=1.2.0 in /usr/local/lib/python3.10/dist-packages (from scikit-learn->sentence-transformers) (1.4.2)\n",
            "Requirement already satisfied: threadpoolctl>=3.1.0 in /usr/local/lib/python3.10/dist-packages (from scikit-learn->sentence-transformers) (3.5.0)\n",
            "Requirement already satisfied: MarkupSafe>=2.0 in /usr/local/lib/python3.10/dist-packages (from jinja2->torch>=1.11.0->sentence-transformers) (3.0.2)\n",
            "Requirement already satisfied: charset-normalizer<4,>=2 in /usr/local/lib/python3.10/dist-packages (from requests->huggingface-hub>=0.20.0->sentence-transformers) (3.4.0)\n",
            "Requirement already satisfied: idna<4,>=2.5 in /usr/local/lib/python3.10/dist-packages (from requests->huggingface-hub>=0.20.0->sentence-transformers) (3.10)\n",
            "Requirement already satisfied: urllib3<3,>=1.21.1 in /usr/local/lib/python3.10/dist-packages (from requests->huggingface-hub>=0.20.0->sentence-transformers) (2.2.3)\n",
            "Requirement already satisfied: certifi>=2017.4.17 in /usr/local/lib/python3.10/dist-packages (from requests->huggingface-hub>=0.20.0->sentence-transformers) (2024.8.30)\n",
            "Requirement already satisfied: transformers in /usr/local/lib/python3.10/dist-packages (4.46.2)\n",
            "Requirement already satisfied: filelock in /usr/local/lib/python3.10/dist-packages (from transformers) (3.16.1)\n",
            "Requirement already satisfied: huggingface-hub<1.0,>=0.23.2 in /usr/local/lib/python3.10/dist-packages (from transformers) (0.26.2)\n",
            "Requirement already satisfied: numpy>=1.17 in /usr/local/lib/python3.10/dist-packages (from transformers) (1.26.4)\n",
            "Requirement already satisfied: packaging>=20.0 in /usr/local/lib/python3.10/dist-packages (from transformers) (24.2)\n",
            "Requirement already satisfied: pyyaml>=5.1 in /usr/local/lib/python3.10/dist-packages (from transformers) (6.0.2)\n",
            "Requirement already satisfied: regex!=2019.12.17 in /usr/local/lib/python3.10/dist-packages (from transformers) (2024.9.11)\n",
            "Requirement already satisfied: requests in /usr/local/lib/python3.10/dist-packages (from transformers) (2.32.3)\n",
            "Requirement already satisfied: safetensors>=0.4.1 in /usr/local/lib/python3.10/dist-packages (from transformers) (0.4.5)\n",
            "Requirement already satisfied: tokenizers<0.21,>=0.20 in /usr/local/lib/python3.10/dist-packages (from transformers) (0.20.3)\n",
            "Requirement already satisfied: tqdm>=4.27 in /usr/local/lib/python3.10/dist-packages (from transformers) (4.66.6)\n",
            "Requirement already satisfied: fsspec>=2023.5.0 in /usr/local/lib/python3.10/dist-packages (from huggingface-hub<1.0,>=0.23.2->transformers) (2024.10.0)\n",
            "Requirement already satisfied: typing-extensions>=3.7.4.3 in /usr/local/lib/python3.10/dist-packages (from huggingface-hub<1.0,>=0.23.2->transformers) (4.12.2)\n",
            "Requirement already satisfied: charset-normalizer<4,>=2 in /usr/local/lib/python3.10/dist-packages (from requests->transformers) (3.4.0)\n",
            "Requirement already satisfied: idna<4,>=2.5 in /usr/local/lib/python3.10/dist-packages (from requests->transformers) (3.10)\n",
            "Requirement already satisfied: urllib3<3,>=1.21.1 in /usr/local/lib/python3.10/dist-packages (from requests->transformers) (2.2.3)\n",
            "Requirement already satisfied: certifi>=2017.4.17 in /usr/local/lib/python3.10/dist-packages (from requests->transformers) (2024.8.30)\n",
            "Requirement already satisfied: pymilvus in /usr/local/lib/python3.10/dist-packages (2.5.0)\n",
            "Requirement already satisfied: setuptools>69 in /usr/local/lib/python3.10/dist-packages (from pymilvus) (75.1.0)\n",
            "Requirement already satisfied: grpcio<=1.67.1,>=1.49.1 in /usr/local/lib/python3.10/dist-packages (from pymilvus) (1.67.1)\n",
            "Requirement already satisfied: protobuf>=3.20.0 in /usr/local/lib/python3.10/dist-packages (from pymilvus) (4.25.5)\n",
            "Requirement already satisfied: python-dotenv<2.0.0,>=1.0.1 in /usr/local/lib/python3.10/dist-packages (from pymilvus) (1.0.1)\n",
            "Requirement already satisfied: ujson>=2.0.0 in /usr/local/lib/python3.10/dist-packages (from pymilvus) (5.10.0)\n",
            "Requirement already satisfied: pandas>=1.2.4 in /usr/local/lib/python3.10/dist-packages (from pymilvus) (2.2.2)\n",
            "Requirement already satisfied: milvus-lite>=2.4.0 in /usr/local/lib/python3.10/dist-packages (from pymilvus) (2.4.10)\n",
            "Requirement already satisfied: tqdm in /usr/local/lib/python3.10/dist-packages (from milvus-lite>=2.4.0->pymilvus) (4.66.6)\n",
            "Requirement already satisfied: numpy>=1.22.4 in /usr/local/lib/python3.10/dist-packages (from pandas>=1.2.4->pymilvus) (1.26.4)\n",
            "Requirement already satisfied: python-dateutil>=2.8.2 in /usr/local/lib/python3.10/dist-packages (from pandas>=1.2.4->pymilvus) (2.8.2)\n",
            "Requirement already satisfied: pytz>=2020.1 in /usr/local/lib/python3.10/dist-packages (from pandas>=1.2.4->pymilvus) (2024.2)\n",
            "Requirement already satisfied: tzdata>=2022.7 in /usr/local/lib/python3.10/dist-packages (from pandas>=1.2.4->pymilvus) (2024.2)\n",
            "Requirement already satisfied: six>=1.5 in /usr/local/lib/python3.10/dist-packages (from python-dateutil>=2.8.2->pandas>=1.2.4->pymilvus) (1.16.0)\n",
            "Requirement already satisfied: torch in /usr/local/lib/python3.10/dist-packages (2.5.1+cu121)\n",
            "Requirement already satisfied: filelock in /usr/local/lib/python3.10/dist-packages (from torch) (3.16.1)\n",
            "Requirement already satisfied: typing-extensions>=4.8.0 in /usr/local/lib/python3.10/dist-packages (from torch) (4.12.2)\n",
            "Requirement already satisfied: networkx in /usr/local/lib/python3.10/dist-packages (from torch) (3.4.2)\n",
            "Requirement already satisfied: jinja2 in /usr/local/lib/python3.10/dist-packages (from torch) (3.1.4)\n",
            "Requirement already satisfied: fsspec in /usr/local/lib/python3.10/dist-packages (from torch) (2024.10.0)\n",
            "Requirement already satisfied: sympy==1.13.1 in /usr/local/lib/python3.10/dist-packages (from torch) (1.13.1)\n",
            "Requirement already satisfied: mpmath<1.4,>=1.1.0 in /usr/local/lib/python3.10/dist-packages (from sympy==1.13.1->torch) (1.3.0)\n",
            "Requirement already satisfied: MarkupSafe>=2.0 in /usr/local/lib/python3.10/dist-packages (from jinja2->torch) (3.0.2)\n",
            "Requirement already satisfied: docker in /usr/local/lib/python3.10/dist-packages (7.1.0)\n",
            "Requirement already satisfied: requests>=2.26.0 in /usr/local/lib/python3.10/dist-packages (from docker) (2.32.3)\n",
            "Requirement already satisfied: urllib3>=1.26.0 in /usr/local/lib/python3.10/dist-packages (from docker) (2.2.3)\n",
            "Requirement already satisfied: charset-normalizer<4,>=2 in /usr/local/lib/python3.10/dist-packages (from requests>=2.26.0->docker) (3.4.0)\n",
            "Requirement already satisfied: idna<4,>=2.5 in /usr/local/lib/python3.10/dist-packages (from requests>=2.26.0->docker) (3.10)\n",
            "Requirement already satisfied: certifi>=2017.4.17 in /usr/local/lib/python3.10/dist-packages (from requests>=2.26.0->docker) (2024.8.30)\n",
            "Requirement already satisfied: streamlit in /usr/local/lib/python3.10/dist-packages (1.40.2)\n",
            "Requirement already satisfied: altair<6,>=4.0 in /usr/local/lib/python3.10/dist-packages (from streamlit) (4.2.2)\n",
            "Requirement already satisfied: blinker<2,>=1.0.0 in /usr/local/lib/python3.10/dist-packages (from streamlit) (1.9.0)\n",
            "Requirement already satisfied: cachetools<6,>=4.0 in /usr/local/lib/python3.10/dist-packages (from streamlit) (5.5.0)\n",
            "Requirement already satisfied: click<9,>=7.0 in /usr/local/lib/python3.10/dist-packages (from streamlit) (8.1.7)\n",
            "Requirement already satisfied: numpy<3,>=1.23 in /usr/local/lib/python3.10/dist-packages (from streamlit) (1.26.4)\n",
            "Requirement already satisfied: packaging<25,>=20 in /usr/local/lib/python3.10/dist-packages (from streamlit) (24.2)\n",
            "Requirement already satisfied: pandas<3,>=1.4.0 in /usr/local/lib/python3.10/dist-packages (from streamlit) (2.2.2)\n",
            "Requirement already satisfied: pillow<12,>=7.1.0 in /usr/local/lib/python3.10/dist-packages (from streamlit) (11.0.0)\n",
            "Requirement already satisfied: protobuf<6,>=3.20 in /usr/local/lib/python3.10/dist-packages (from streamlit) (4.25.5)\n",
            "Requirement already satisfied: pyarrow>=7.0 in /usr/local/lib/python3.10/dist-packages (from streamlit) (17.0.0)\n",
            "Requirement already satisfied: requests<3,>=2.27 in /usr/local/lib/python3.10/dist-packages (from streamlit) (2.32.3)\n",
            "Requirement already satisfied: rich<14,>=10.14.0 in /usr/local/lib/python3.10/dist-packages (from streamlit) (13.9.4)\n",
            "Requirement already satisfied: tenacity<10,>=8.1.0 in /usr/local/lib/python3.10/dist-packages (from streamlit) (9.0.0)\n",
            "Requirement already satisfied: toml<2,>=0.10.1 in /usr/local/lib/python3.10/dist-packages (from streamlit) (0.10.2)\n",
            "Requirement already satisfied: typing-extensions<5,>=4.3.0 in /usr/local/lib/python3.10/dist-packages (from streamlit) (4.12.2)\n",
            "Requirement already satisfied: watchdog<7,>=2.1.5 in /usr/local/lib/python3.10/dist-packages (from streamlit) (6.0.0)\n",
            "Requirement already satisfied: gitpython!=3.1.19,<4,>=3.0.7 in /usr/local/lib/python3.10/dist-packages (from streamlit) (3.1.43)\n",
            "Requirement already satisfied: pydeck<1,>=0.8.0b4 in /usr/local/lib/python3.10/dist-packages (from streamlit) (0.9.1)\n",
            "Requirement already satisfied: tornado<7,>=6.0.3 in /usr/local/lib/python3.10/dist-packages (from streamlit) (6.3.3)\n",
            "Requirement already satisfied: entrypoints in /usr/local/lib/python3.10/dist-packages (from altair<6,>=4.0->streamlit) (0.4)\n",
            "Requirement already satisfied: jinja2 in /usr/local/lib/python3.10/dist-packages (from altair<6,>=4.0->streamlit) (3.1.4)\n",
            "Requirement already satisfied: jsonschema>=3.0 in /usr/local/lib/python3.10/dist-packages (from altair<6,>=4.0->streamlit) (4.23.0)\n",
            "Requirement already satisfied: toolz in /usr/local/lib/python3.10/dist-packages (from altair<6,>=4.0->streamlit) (0.12.1)\n",
            "Requirement already satisfied: gitdb<5,>=4.0.1 in /usr/local/lib/python3.10/dist-packages (from gitpython!=3.1.19,<4,>=3.0.7->streamlit) (4.0.11)\n",
            "Requirement already satisfied: python-dateutil>=2.8.2 in /usr/local/lib/python3.10/dist-packages (from pandas<3,>=1.4.0->streamlit) (2.8.2)\n",
            "Requirement already satisfied: pytz>=2020.1 in /usr/local/lib/python3.10/dist-packages (from pandas<3,>=1.4.0->streamlit) (2024.2)\n",
            "Requirement already satisfied: tzdata>=2022.7 in /usr/local/lib/python3.10/dist-packages (from pandas<3,>=1.4.0->streamlit) (2024.2)\n",
            "Requirement already satisfied: charset-normalizer<4,>=2 in /usr/local/lib/python3.10/dist-packages (from requests<3,>=2.27->streamlit) (3.4.0)\n",
            "Requirement already satisfied: idna<4,>=2.5 in /usr/local/lib/python3.10/dist-packages (from requests<3,>=2.27->streamlit) (3.10)\n",
            "Requirement already satisfied: urllib3<3,>=1.21.1 in /usr/local/lib/python3.10/dist-packages (from requests<3,>=2.27->streamlit) (2.2.3)\n",
            "Requirement already satisfied: certifi>=2017.4.17 in /usr/local/lib/python3.10/dist-packages (from requests<3,>=2.27->streamlit) (2024.8.30)\n",
            "Requirement already satisfied: markdown-it-py>=2.2.0 in /usr/local/lib/python3.10/dist-packages (from rich<14,>=10.14.0->streamlit) (3.0.0)\n",
            "Requirement already satisfied: pygments<3.0.0,>=2.13.0 in /usr/local/lib/python3.10/dist-packages (from rich<14,>=10.14.0->streamlit) (2.18.0)\n",
            "Requirement already satisfied: smmap<6,>=3.0.1 in /usr/local/lib/python3.10/dist-packages (from gitdb<5,>=4.0.1->gitpython!=3.1.19,<4,>=3.0.7->streamlit) (5.0.1)\n",
            "Requirement already satisfied: MarkupSafe>=2.0 in /usr/local/lib/python3.10/dist-packages (from jinja2->altair<6,>=4.0->streamlit) (3.0.2)\n",
            "Requirement already satisfied: attrs>=22.2.0 in /usr/local/lib/python3.10/dist-packages (from jsonschema>=3.0->altair<6,>=4.0->streamlit) (24.2.0)\n",
            "Requirement already satisfied: jsonschema-specifications>=2023.03.6 in /usr/local/lib/python3.10/dist-packages (from jsonschema>=3.0->altair<6,>=4.0->streamlit) (2024.10.1)\n",
            "Requirement already satisfied: referencing>=0.28.4 in /usr/local/lib/python3.10/dist-packages (from jsonschema>=3.0->altair<6,>=4.0->streamlit) (0.35.1)\n",
            "Requirement already satisfied: rpds-py>=0.7.1 in /usr/local/lib/python3.10/dist-packages (from jsonschema>=3.0->altair<6,>=4.0->streamlit) (0.21.0)\n",
            "Requirement already satisfied: mdurl~=0.1 in /usr/local/lib/python3.10/dist-packages (from markdown-it-py>=2.2.0->rich<14,>=10.14.0->streamlit) (0.1.2)\n",
            "Requirement already satisfied: six>=1.5 in /usr/local/lib/python3.10/dist-packages (from python-dateutil>=2.8.2->pandas<3,>=1.4.0->streamlit) (1.16.0)\n"
          ]
        }
      ]
    },
    {
      "cell_type": "markdown",
      "source": [
        "Uplaoding the relavant documents\n"
      ],
      "metadata": {
        "id": "wrNqmy5wCnFZ"
      }
    },
    {
      "cell_type": "code",
      "source": [
        "from google.colab import drive\n",
        "drive.mount('/content/drive')\n"
      ],
      "metadata": {
        "colab": {
          "base_uri": "https://localhost:8080/"
        },
        "id": "UTmneqV2DM6Y",
        "outputId": "90dcfa4b-7bec-4cb6-bce9-84bbbb145134"
      },
      "execution_count": 44,
      "outputs": [
        {
          "output_type": "stream",
          "name": "stdout",
          "text": [
            "Drive already mounted at /content/drive; to attempt to forcibly remount, call drive.mount(\"/content/drive\", force_remount=True).\n"
          ]
        }
      ]
    },
    {
      "cell_type": "markdown",
      "source": [
        "data cleaning for text file"
      ],
      "metadata": {
        "id": "ws-5WP2SNCbO"
      }
    },
    {
      "cell_type": "code",
      "source": [
        "import nltk\n",
        "import string\n",
        "from nltk.corpus import stopwords\n",
        "from nltk.tokenize import word_tokenize\n",
        "\n",
        "# Download necessary NLTK data\n",
        "nltk.download('punkt')\n",
        "nltk.download('stopwords')\n",
        "nltk.download('punkt_tab') # Download the missing 'punkt_tab' data package\n",
        "\n",
        "# Load stop words\n",
        "stop_words = set(stopwords.words('english'))\n",
        "\n",
        "# Function to clean the text: Remove punctuation, stop words, and lowercasing\n",
        "def clean_text(text):\n",
        "    # Convert to lowercase\n",
        "    text = text.lower()\n",
        "\n",
        "    # Remove punctuation\n",
        "    text = ''.join([char for char in text if char not in string.punctuation])\n",
        "\n",
        "    # Tokenize the text\n",
        "    words = word_tokenize(text)\n",
        "\n",
        "    # Remove stop words\n",
        "    cleaned_words = [word for word in words if word not in stop_words]\n",
        "\n",
        "    # Rejoin words to form cleaned text\n",
        "    cleaned_text = ' '.join(cleaned_words)\n",
        "\n",
        "    return cleaned_text\n",
        "\n",
        "# Path to the text file\n",
        "text_file_path = '/content/drive/MyDrive/RAG_text.txt'\n",
        "\n",
        "# Read the text file\n",
        "with open(text_file_path, 'r') as file:\n",
        "    text_data = file.read()\n",
        "\n",
        "# Clean the text\n",
        "cleaned_text = clean_text(text_data)\n",
        "\n",
        "# Print cleaned text\n",
        "print(\"Cleaned Text from txt file:\\n\")\n",
        "print(cleaned_text[:500])  # Print the first 500 characters"
      ],
      "metadata": {
        "colab": {
          "base_uri": "https://localhost:8080/"
        },
        "id": "XCKK72GRMOXA",
        "outputId": "52b8c266-8e86-41e1-be96-9df6494ed350"
      },
      "execution_count": 45,
      "outputs": [
        {
          "output_type": "stream",
          "name": "stdout",
          "text": [
            "Cleaned Text from txt file:\n",
            "\n",
            "sky blue\n"
          ]
        },
        {
          "output_type": "stream",
          "name": "stderr",
          "text": [
            "[nltk_data] Downloading package punkt to /root/nltk_data...\n",
            "[nltk_data]   Package punkt is already up-to-date!\n",
            "[nltk_data] Downloading package stopwords to /root/nltk_data...\n",
            "[nltk_data]   Package stopwords is already up-to-date!\n",
            "[nltk_data] Downloading package punkt_tab to /root/nltk_data...\n",
            "[nltk_data]   Package punkt_tab is already up-to-date!\n"
          ]
        }
      ]
    },
    {
      "cell_type": "markdown",
      "source": [
        "Tokenize the Text (Optional but Recommended for Embeddings)\n",
        "Tokenizing helps break the cleaned text into smaller chunks (words or sub-words), which are often required for embedding models.\n"
      ],
      "metadata": {
        "id": "5vszajLCQs_I"
      }
    },
    {
      "cell_type": "code",
      "source": [
        "# Tokenize the cleaned text\n",
        "tokens = word_tokenize(cleaned_text)\n",
        "\n",
        "# Print the first few tokens\n",
        "print(\"Tokens from the cleaned text:\\n\")\n",
        "print(tokens[:50])  # Print first 50 tokens\n"
      ],
      "metadata": {
        "colab": {
          "base_uri": "https://localhost:8080/"
        },
        "id": "pvwDdIyBQyLg",
        "outputId": "886f5da4-bbbe-4845-a358-927e7ebadca2"
      },
      "execution_count": 46,
      "outputs": [
        {
          "output_type": "stream",
          "name": "stdout",
          "text": [
            "Tokens from the cleaned text:\n",
            "\n",
            "['sky', 'blue']\n"
          ]
        }
      ]
    },
    {
      "cell_type": "markdown",
      "source": [
        "Prepare for Embedding Generation\n",
        "Once the text is cleaned and tokenized, it’s ready for generating embeddings using a model like Sentence-Transformer. We can now prepare this data for that step"
      ],
      "metadata": {
        "id": "n4CgLtBoQ1rF"
      }
    },
    {
      "cell_type": "code",
      "source": [
        "# Prepare the cleaned and tokenized text for embeddings\n",
        "# You can save these tokens or cleaned text to a variable, or store them for future use\n",
        "processed_data = cleaned_text  # or tokens if you need them in tokenized form\n",
        "\n",
        "# Optionally, you can store it in a list or other data structure if needed\n",
        "documents = [processed_data]  # This list will contain the processed text\n",
        "\n",
        "# Print the final processed text (cleaned and tokenized)\n",
        "print(\"Final Processed Data (cleaned text):\\n\")\n",
        "print(processed_data[:500])  # Print first 500 characters\n"
      ],
      "metadata": {
        "colab": {
          "base_uri": "https://localhost:8080/"
        },
        "id": "mOWA5GXaQ3te",
        "outputId": "d13a1071-1b30-4aed-97c7-74eced73f486"
      },
      "execution_count": 47,
      "outputs": [
        {
          "output_type": "stream",
          "name": "stdout",
          "text": [
            "Final Processed Data (cleaned text):\n",
            "\n",
            "sky blue\n"
          ]
        }
      ]
    },
    {
      "cell_type": "markdown",
      "source": [
        " Save Processed Data for Future Use (Optional)\n",
        "You may want to save this cleaned and processed data for future steps (like embedding generation or storing in the vector database)."
      ],
      "metadata": {
        "id": "biBaz6x1Q835"
      }
    },
    {
      "cell_type": "code",
      "source": [
        "# Save cleaned text to a new file (if required)\n",
        "output_file_path = '/content/drive/MyDrive/MES_Files/RAG_processed_text.txt'\n",
        "with open(output_file_path, 'w') as output_file:\n",
        "    output_file.write(processed_data)\n",
        "\n",
        "print(f\"Processed text has been saved to {output_file_path}\")\n"
      ],
      "metadata": {
        "colab": {
          "base_uri": "https://localhost:8080/"
        },
        "id": "KiogHQe-Q-0N",
        "outputId": "00ed4d7d-bedd-4934-b2da-d2ffd3861b15"
      },
      "execution_count": 50,
      "outputs": [
        {
          "output_type": "stream",
          "name": "stdout",
          "text": [
            "Processed text has been saved to /content/drive/MyDrive/MES_Files/RAG_processed_text.txt\n"
          ]
        }
      ]
    },
    {
      "cell_type": "markdown",
      "source": [
        "**PDF FORMAT**"
      ],
      "metadata": {
        "id": "4t87qezzOOr_"
      }
    },
    {
      "cell_type": "code",
      "source": [
        "!pip install pymupdf\n",
        "!pip install nltk\n"
      ],
      "metadata": {
        "colab": {
          "base_uri": "https://localhost:8080/"
        },
        "collapsed": true,
        "id": "R7Xliz8rOR6r",
        "outputId": "8c0f59f7-69dc-4609-e108-17f846a109c5"
      },
      "execution_count": 51,
      "outputs": [
        {
          "output_type": "stream",
          "name": "stdout",
          "text": [
            "Requirement already satisfied: pymupdf in /usr/local/lib/python3.10/dist-packages (1.24.14)\n",
            "Requirement already satisfied: nltk in /usr/local/lib/python3.10/dist-packages (3.9.1)\n",
            "Requirement already satisfied: click in /usr/local/lib/python3.10/dist-packages (from nltk) (8.1.7)\n",
            "Requirement already satisfied: joblib in /usr/local/lib/python3.10/dist-packages (from nltk) (1.4.2)\n",
            "Requirement already satisfied: regex>=2021.8.3 in /usr/local/lib/python3.10/dist-packages (from nltk) (2024.9.11)\n",
            "Requirement already satisfied: tqdm in /usr/local/lib/python3.10/dist-packages (from nltk) (4.66.6)\n"
          ]
        }
      ]
    },
    {
      "cell_type": "code",
      "source": [
        "import fitz  # PyMuPDF\n",
        "import nltk\n",
        "import string\n",
        "from nltk.corpus import stopwords\n",
        "from nltk.tokenize import word_tokenize\n",
        "\n",
        "# Download necessary NLTK data\n",
        "nltk.download('punkt')\n",
        "nltk.download('stopwords')\n",
        "\n",
        "# Load stop words\n",
        "stop_words = set(stopwords.words('english'))\n"
      ],
      "metadata": {
        "colab": {
          "base_uri": "https://localhost:8080/"
        },
        "id": "qdusPdp0OcHX",
        "outputId": "6dd0b617-b618-4f71-aca1-48b14f94d4c0"
      },
      "execution_count": 52,
      "outputs": [
        {
          "output_type": "stream",
          "name": "stderr",
          "text": [
            "[nltk_data] Downloading package punkt to /root/nltk_data...\n",
            "[nltk_data]   Package punkt is already up-to-date!\n",
            "[nltk_data] Downloading package stopwords to /root/nltk_data...\n",
            "[nltk_data]   Package stopwords is already up-to-date!\n"
          ]
        }
      ]
    },
    {
      "cell_type": "markdown",
      "source": [
        "Extract Text from PDF"
      ],
      "metadata": {
        "id": "hkSiuEeHOiHd"
      }
    },
    {
      "cell_type": "code",
      "source": [
        "# Function to extract text from PDF\n",
        "def extract_text_from_pdf(pdf_path):\n",
        "    doc = fitz.open(pdf_path)\n",
        "    text = \"\"\n",
        "    for page in doc:\n",
        "        text += page.get_text()\n",
        "    return text\n",
        "\n",
        "# Path to the PDF file\n",
        "pdf_file_path = '/content/drive/MyDrive/RAG_text_pdf.pdf'\n",
        "\n",
        "# Extract text from the PDF\n",
        "pdf_text = extract_text_from_pdf(pdf_file_path)\n",
        "\n",
        "# Print the first 500 characters of the extracted text\n",
        "print(\"Extracted Text from PDF file:\\n\")\n",
        "print(pdf_text[:500])  # Print first 500 characters to preview\n"
      ],
      "metadata": {
        "colab": {
          "base_uri": "https://localhost:8080/"
        },
        "id": "q79dS8oFOgDL",
        "outputId": "800b1e14-ffa7-4d56-ecd1-65bcbf6a322a"
      },
      "execution_count": 53,
      "outputs": [
        {
          "output_type": "stream",
          "name": "stdout",
          "text": [
            "Extracted Text from PDF file:\n",
            "\n",
            "The sky is blue\n",
            "\n"
          ]
        }
      ]
    },
    {
      "cell_type": "markdown",
      "source": [
        "Clean the Text\n"
      ],
      "metadata": {
        "id": "xaEIKNf7Owja"
      }
    },
    {
      "cell_type": "code",
      "source": [
        "# Function to clean the text: Remove punctuation, stop words, and lowercasing\n",
        "def clean_text(text):\n",
        "    # Convert to lowercase\n",
        "    text = text.lower()\n",
        "\n",
        "    # Remove punctuation\n",
        "    text = ''.join([char for char in text if char not in string.punctuation])\n",
        "\n",
        "    # Tokenize the text\n",
        "    words = word_tokenize(text)\n",
        "\n",
        "    # Remove stop words\n",
        "    cleaned_words = [word for word in words if word not in stop_words]\n",
        "\n",
        "    # Rejoin words to form cleaned text\n",
        "    cleaned_text = ' '.join(cleaned_words)\n",
        "\n",
        "    return cleaned_text\n",
        "\n",
        "# Clean the extracted PDF text\n",
        "cleaned_pdf_text = clean_text(pdf_text)\n",
        "\n",
        "# Print cleaned text\n",
        "print(\"Cleaned Text from PDF file:\\n\")\n",
        "print(cleaned_pdf_text[:500])  # Print first 500 characters of cleaned text\n"
      ],
      "metadata": {
        "colab": {
          "base_uri": "https://localhost:8080/"
        },
        "id": "Xjkda9n7OxNl",
        "outputId": "7d35aa36-285e-4db2-c53d-d9eef44691ca"
      },
      "execution_count": 55,
      "outputs": [
        {
          "output_type": "stream",
          "name": "stdout",
          "text": [
            "Cleaned Text from PDF file:\n",
            "\n",
            "sky blue\n"
          ]
        }
      ]
    },
    {
      "cell_type": "markdown",
      "source": [
        "Tokenize the Cleaned Text"
      ],
      "metadata": {
        "id": "ir6sQYgvO0_z"
      }
    },
    {
      "cell_type": "code",
      "source": [
        "# Tokenize the cleaned text\n",
        "tokens = word_tokenize(cleaned_pdf_text)\n",
        "\n",
        "# Print the first few tokens\n",
        "print(\"Tokens from the cleaned PDF text:\\n\")\n",
        "print(tokens[:50])  # Print first 50 tokens\n"
      ],
      "metadata": {
        "colab": {
          "base_uri": "https://localhost:8080/"
        },
        "id": "78kGpSuMO4G5",
        "outputId": "5325a434-a20f-4afd-b578-351560dbab53"
      },
      "execution_count": 56,
      "outputs": [
        {
          "output_type": "stream",
          "name": "stdout",
          "text": [
            "Tokens from the cleaned PDF text:\n",
            "\n",
            "['sky', 'blue']\n"
          ]
        }
      ]
    },
    {
      "cell_type": "markdown",
      "source": [
        "Prepare for Further Use (Embedding Generation)\n",
        "Finally, you can store the cleaned and tokenized text, or the raw cleaned text, for future use like embedding generation."
      ],
      "metadata": {
        "id": "0_LVs4xDO6xQ"
      }
    },
    {
      "cell_type": "code",
      "source": [
        "# Store the processed data (cleaned text) for future use\n",
        "processed_pdf_data = cleaned_pdf_text  # Or tokens if needed\n",
        "\n",
        "# Print the processed data\n",
        "print(\"Processed Data (Cleaned Text):\\n\")\n",
        "print(processed_pdf_data[:500])  # Print first 500 characters of cleaned data\n"
      ],
      "metadata": {
        "colab": {
          "base_uri": "https://localhost:8080/"
        },
        "id": "TeFS3unwO90u",
        "outputId": "d31123ef-858b-459e-ecfc-f95dabdd7216"
      },
      "execution_count": 57,
      "outputs": [
        {
          "output_type": "stream",
          "name": "stdout",
          "text": [
            "Processed Data (Cleaned Text):\n",
            "\n",
            "sky blue\n"
          ]
        }
      ]
    },
    {
      "cell_type": "markdown",
      "source": [
        "Optionally Save the Cleaned PDF Text\n",
        "You might want to save the cleaned PDF text to a file for later use.\n",
        "\n",
        "python\n",
        "Copy code\n"
      ],
      "metadata": {
        "id": "B9k-xrkmPEAY"
      }
    },
    {
      "cell_type": "code",
      "source": [
        "import os\n",
        "\n",
        "# Save cleaned text to a new file (optional)\n",
        "output_pdf_path = '/content/drive/MyDrive/MES_Files/processed_pdf_text.txt'\n",
        "\n",
        "# Create the directory if it doesn't exist\n",
        "os.makedirs(os.path.dirname(output_pdf_path), exist_ok=True)\n",
        "\n",
        "with open(output_pdf_path, 'w') as output_file:\n",
        "    output_file.write(processed_pdf_data)\n",
        "\n",
        "print(f\"Processed PDF text has been saved to {output_pdf_path}\")"
      ],
      "metadata": {
        "colab": {
          "base_uri": "https://localhost:8080/"
        },
        "id": "xkBOmXVyPEnM",
        "outputId": "122b8f75-4767-4de4-cdd7-369fc6f0eff6"
      },
      "execution_count": 58,
      "outputs": [
        {
          "output_type": "stream",
          "name": "stdout",
          "text": [
            "Processed PDF text has been saved to /content/drive/MyDrive/MES_Files/processed_pdf_text.txt\n"
          ]
        }
      ]
    },
    {
      "cell_type": "markdown",
      "source": [
        "**AUDIO FORMAT**"
      ],
      "metadata": {
        "id": "JExA8fZXRIG3"
      }
    },
    {
      "cell_type": "code",
      "source": [
        "!apt-get install ffmpeg\n",
        "!pip install SpeechRecognition pydub\n",
        "!pip install nltk\n"
      ],
      "metadata": {
        "colab": {
          "base_uri": "https://localhost:8080/"
        },
        "collapsed": true,
        "id": "8xNzIuuqRT2e",
        "outputId": "940f5318-0959-4fc8-a4cd-e484a688c205"
      },
      "execution_count": 59,
      "outputs": [
        {
          "output_type": "stream",
          "name": "stdout",
          "text": [
            "Reading package lists... Done\n",
            "Building dependency tree... Done\n",
            "Reading state information... Done\n",
            "ffmpeg is already the newest version (7:4.4.2-0ubuntu0.22.04.1).\n",
            "0 upgraded, 0 newly installed, 0 to remove and 49 not upgraded.\n",
            "Requirement already satisfied: SpeechRecognition in /usr/local/lib/python3.10/dist-packages (3.11.0)\n",
            "Requirement already satisfied: pydub in /usr/local/lib/python3.10/dist-packages (0.25.1)\n",
            "Requirement already satisfied: requests>=2.26.0 in /usr/local/lib/python3.10/dist-packages (from SpeechRecognition) (2.32.3)\n",
            "Requirement already satisfied: typing-extensions in /usr/local/lib/python3.10/dist-packages (from SpeechRecognition) (4.12.2)\n",
            "Requirement already satisfied: charset-normalizer<4,>=2 in /usr/local/lib/python3.10/dist-packages (from requests>=2.26.0->SpeechRecognition) (3.4.0)\n",
            "Requirement already satisfied: idna<4,>=2.5 in /usr/local/lib/python3.10/dist-packages (from requests>=2.26.0->SpeechRecognition) (3.10)\n",
            "Requirement already satisfied: urllib3<3,>=1.21.1 in /usr/local/lib/python3.10/dist-packages (from requests>=2.26.0->SpeechRecognition) (2.2.3)\n",
            "Requirement already satisfied: certifi>=2017.4.17 in /usr/local/lib/python3.10/dist-packages (from requests>=2.26.0->SpeechRecognition) (2024.8.30)\n",
            "Requirement already satisfied: nltk in /usr/local/lib/python3.10/dist-packages (3.9.1)\n",
            "Requirement already satisfied: click in /usr/local/lib/python3.10/dist-packages (from nltk) (8.1.7)\n",
            "Requirement already satisfied: joblib in /usr/local/lib/python3.10/dist-packages (from nltk) (1.4.2)\n",
            "Requirement already satisfied: regex>=2021.8.3 in /usr/local/lib/python3.10/dist-packages (from nltk) (2024.9.11)\n",
            "Requirement already satisfied: tqdm in /usr/local/lib/python3.10/dist-packages (from nltk) (4.66.6)\n"
          ]
        }
      ]
    },
    {
      "cell_type": "markdown",
      "source": [
        "Extract Audio from Video\n",
        "We first extract the audio from the video file since transcription tools work on audio. Use FFmpeg for this."
      ],
      "metadata": {
        "id": "bBd4PcxGT9sY"
      }
    },
    {
      "cell_type": "code",
      "source": [
        "import os\n",
        "\n",
        "# Paths\n",
        "video_file_path = '/content/drive/MyDrive/RAG_video.mp4'  # Input video file\n",
        "audio_file_path = '/content/drive/MyDrive/MES_Files/audio_from_video.wav'  # Extracted audio file\n",
        "\n",
        "# Extract audio from video\n",
        "os.system(f\"ffmpeg -i {video_file_path} -q:a 0 -map a {audio_file_path}\")\n",
        "print(f\"Audio extracted and saved at {audio_file_path}\")\n"
      ],
      "metadata": {
        "colab": {
          "base_uri": "https://localhost:8080/"
        },
        "id": "548DIHhXT-aY",
        "outputId": "8311cf86-2a5b-4ae9-c0ed-2226abcbb47d"
      },
      "execution_count": 60,
      "outputs": [
        {
          "output_type": "stream",
          "name": "stdout",
          "text": [
            "Audio extracted and saved at /content/drive/MyDrive/MES_Files/audio_from_video.wav\n"
          ]
        }
      ]
    },
    {
      "cell_type": "markdown",
      "source": [
        "Enhance Audio Quality\n",
        "Enhance the audio to improve transcription accuracy. This involves noise reduction, normalization, and frequency filtering.\n",
        "\n",
        "Code for Noise Reduction:"
      ],
      "metadata": {
        "id": "ImdcyF1ZUL6K"
      }
    },
    {
      "cell_type": "code",
      "source": [
        "!pip uninstall noisereduce\n",
        "!pip uninstall ffmpeg-python\n",
        "!pip install noisereduce\n",
        "!pip install ffmpeg-python\n"
      ],
      "metadata": {
        "colab": {
          "base_uri": "https://localhost:8080/",
          "height": 993
        },
        "id": "3ViXi2xHni1T",
        "outputId": "4cf8148a-f2ca-4fb5-c90a-3acdc35add34"
      },
      "execution_count": 61,
      "outputs": [
        {
          "output_type": "stream",
          "name": "stdout",
          "text": [
            "Found existing installation: noisereduce 3.0.3\n",
            "Uninstalling noisereduce-3.0.3:\n",
            "  Would remove:\n",
            "    /usr/local/lib/python3.10/dist-packages/noisereduce-3.0.3.dist-info/*\n",
            "    /usr/local/lib/python3.10/dist-packages/noisereduce/*\n",
            "Proceed (Y/n)? y\n",
            "  Successfully uninstalled noisereduce-3.0.3\n",
            "Found existing installation: ffmpeg-python 0.2.0\n",
            "Uninstalling ffmpeg-python-0.2.0:\n",
            "  Would remove:\n",
            "    /usr/local/lib/python3.10/dist-packages/ffmpeg/*\n",
            "    /usr/local/lib/python3.10/dist-packages/ffmpeg_python-0.2.0.dist-info/*\n",
            "  Would not remove (might be manually added):\n",
            "    /usr/local/lib/python3.10/dist-packages/ffmpeg/audio.py\n",
            "    /usr/local/lib/python3.10/dist-packages/ffmpeg/image.py\n",
            "    /usr/local/lib/python3.10/dist-packages/ffmpeg/stream.py\n",
            "    /usr/local/lib/python3.10/dist-packages/ffmpeg/video.py\n",
            "Proceed (Y/n)? y\n",
            "  Successfully uninstalled ffmpeg-python-0.2.0\n",
            "Collecting noisereduce\n",
            "  Using cached noisereduce-3.0.3-py3-none-any.whl.metadata (14 kB)\n",
            "Requirement already satisfied: scipy in /usr/local/lib/python3.10/dist-packages (from noisereduce) (1.13.1)\n",
            "Requirement already satisfied: matplotlib in /usr/local/lib/python3.10/dist-packages (from noisereduce) (3.8.0)\n",
            "Requirement already satisfied: numpy in /usr/local/lib/python3.10/dist-packages (from noisereduce) (1.26.4)\n",
            "Requirement already satisfied: tqdm in /usr/local/lib/python3.10/dist-packages (from noisereduce) (4.66.6)\n",
            "Requirement already satisfied: joblib in /usr/local/lib/python3.10/dist-packages (from noisereduce) (1.4.2)\n",
            "Requirement already satisfied: contourpy>=1.0.1 in /usr/local/lib/python3.10/dist-packages (from matplotlib->noisereduce) (1.3.1)\n",
            "Requirement already satisfied: cycler>=0.10 in /usr/local/lib/python3.10/dist-packages (from matplotlib->noisereduce) (0.12.1)\n",
            "Requirement already satisfied: fonttools>=4.22.0 in /usr/local/lib/python3.10/dist-packages (from matplotlib->noisereduce) (4.55.0)\n",
            "Requirement already satisfied: kiwisolver>=1.0.1 in /usr/local/lib/python3.10/dist-packages (from matplotlib->noisereduce) (1.4.7)\n",
            "Requirement already satisfied: packaging>=20.0 in /usr/local/lib/python3.10/dist-packages (from matplotlib->noisereduce) (24.2)\n",
            "Requirement already satisfied: pillow>=6.2.0 in /usr/local/lib/python3.10/dist-packages (from matplotlib->noisereduce) (11.0.0)\n",
            "Requirement already satisfied: pyparsing>=2.3.1 in /usr/local/lib/python3.10/dist-packages (from matplotlib->noisereduce) (3.2.0)\n",
            "Requirement already satisfied: python-dateutil>=2.7 in /usr/local/lib/python3.10/dist-packages (from matplotlib->noisereduce) (2.8.2)\n",
            "Requirement already satisfied: six>=1.5 in /usr/local/lib/python3.10/dist-packages (from python-dateutil>=2.7->matplotlib->noisereduce) (1.16.0)\n",
            "Using cached noisereduce-3.0.3-py3-none-any.whl (22 kB)\n",
            "Installing collected packages: noisereduce\n",
            "Successfully installed noisereduce-3.0.3\n"
          ]
        },
        {
          "output_type": "display_data",
          "data": {
            "application/vnd.colab-display-data+json": {
              "pip_warning": {
                "packages": [
                  "noisereduce"
                ]
              },
              "id": "ed70ed7c352b4e7cb6585e0937083ff3"
            }
          },
          "metadata": {}
        },
        {
          "output_type": "stream",
          "name": "stdout",
          "text": [
            "Collecting ffmpeg-python\n",
            "  Using cached ffmpeg_python-0.2.0-py3-none-any.whl.metadata (1.7 kB)\n",
            "Requirement already satisfied: future in /usr/local/lib/python3.10/dist-packages (from ffmpeg-python) (1.0.0)\n",
            "Using cached ffmpeg_python-0.2.0-py3-none-any.whl (25 kB)\n",
            "Installing collected packages: ffmpeg-python\n",
            "Successfully installed ffmpeg-python-0.2.0\n"
          ]
        },
        {
          "output_type": "display_data",
          "data": {
            "application/vnd.colab-display-data+json": {
              "pip_warning": {
                "packages": [
                  "ffmpeg"
                ]
              },
              "id": "79cb86bc1d914c2389336425bc7b5624"
            }
          },
          "metadata": {}
        }
      ]
    },
    {
      "cell_type": "code",
      "source": [
        "# Install required libraries\n",
        "!pip install ffmpeg-python noisereduce pydub\n",
        "\n",
        "# Import necessary libraries\n",
        "import os\n",
        "import ffmpeg\n",
        "from pydub import AudioSegment\n",
        "from noisereduce import reduce_noise\n",
        "import numpy as np\n",
        "from google.colab import drive\n",
        "\n",
        "# Mount Google Drive\n",
        "drive.mount('/content/drive')\n",
        "\n",
        "# Path to the video file in Google Drive\n",
        "video_file_path = '/content/drive/My Drive/RAG_assignment/RAG_video.mp4'  # Replace with your file path\n",
        "\n",
        "# Extract audio from the video\n",
        "output_audio_path = '/content/extracted_audio.wav'\n",
        "(\n",
        "    ffmpeg\n",
        "    .input(video_file_path)\n",
        "    .output(output_audio_path, format='wav')\n",
        "    .run(overwrite_output=True)\n",
        ")\n",
        "print(f\"Audio extracted to: {output_audio_path}\")\n",
        "\n",
        "# Load the extracted audio\n",
        "audio = AudioSegment.from_file(output_audio_path)\n",
        "\n",
        "# Convert audio to numpy array\n",
        "samples = np.array(audio.get_array_of_samples())\n",
        "\n",
        "# Perform noise reduction\n",
        "# Here, we assume the first 1 second is noise for profile creation\n",
        "sample_rate = audio.frame_rate\n",
        "noise_sample = samples[:sample_rate]  # Use the first second as noise profile\n",
        "reduced_noise = reduce_noise(y=samples, sr=sample_rate, y_noise=noise_sample)\n",
        "\n",
        "# Save the noise-reduced audio\n",
        "os.makedirs('/content/drive/My Drive/MES_files/redused_audio.wav', exist_ok=True)\n",
        "reduced_audio_path = '/content/drive/My Drive/MES_Files/redused_audio.wav'\n",
        "reduced_audio = AudioSegment(\n",
        "    reduced_noise.tobytes(),\n",
        "    frame_rate=sample_rate,\n",
        "    sample_width=audio.sample_width,\n",
        "    channels=audio.channels\n",
        ")\n",
        "reduced_audio.export(reduced_audio_path, format='wav')\n",
        "print(f\"Noise-reduced audio saved to: {reduced_audio_path}\")\n"
      ],
      "metadata": {
        "colab": {
          "base_uri": "https://localhost:8080/"
        },
        "id": "omjtyEakUODr",
        "outputId": "716043cf-d25e-4532-ac44-443a98467e25"
      },
      "execution_count": 63,
      "outputs": [
        {
          "output_type": "stream",
          "name": "stdout",
          "text": [
            "Requirement already satisfied: ffmpeg-python in /usr/local/lib/python3.10/dist-packages (0.2.0)\n",
            "Requirement already satisfied: noisereduce in /usr/local/lib/python3.10/dist-packages (3.0.3)\n",
            "Requirement already satisfied: pydub in /usr/local/lib/python3.10/dist-packages (0.25.1)\n",
            "Requirement already satisfied: future in /usr/local/lib/python3.10/dist-packages (from ffmpeg-python) (1.0.0)\n",
            "Requirement already satisfied: scipy in /usr/local/lib/python3.10/dist-packages (from noisereduce) (1.13.1)\n",
            "Requirement already satisfied: matplotlib in /usr/local/lib/python3.10/dist-packages (from noisereduce) (3.8.0)\n",
            "Requirement already satisfied: numpy in /usr/local/lib/python3.10/dist-packages (from noisereduce) (1.26.4)\n",
            "Requirement already satisfied: tqdm in /usr/local/lib/python3.10/dist-packages (from noisereduce) (4.66.6)\n",
            "Requirement already satisfied: joblib in /usr/local/lib/python3.10/dist-packages (from noisereduce) (1.4.2)\n",
            "Requirement already satisfied: contourpy>=1.0.1 in /usr/local/lib/python3.10/dist-packages (from matplotlib->noisereduce) (1.3.1)\n",
            "Requirement already satisfied: cycler>=0.10 in /usr/local/lib/python3.10/dist-packages (from matplotlib->noisereduce) (0.12.1)\n",
            "Requirement already satisfied: fonttools>=4.22.0 in /usr/local/lib/python3.10/dist-packages (from matplotlib->noisereduce) (4.55.0)\n",
            "Requirement already satisfied: kiwisolver>=1.0.1 in /usr/local/lib/python3.10/dist-packages (from matplotlib->noisereduce) (1.4.7)\n",
            "Requirement already satisfied: packaging>=20.0 in /usr/local/lib/python3.10/dist-packages (from matplotlib->noisereduce) (24.2)\n",
            "Requirement already satisfied: pillow>=6.2.0 in /usr/local/lib/python3.10/dist-packages (from matplotlib->noisereduce) (11.0.0)\n",
            "Requirement already satisfied: pyparsing>=2.3.1 in /usr/local/lib/python3.10/dist-packages (from matplotlib->noisereduce) (3.2.0)\n",
            "Requirement already satisfied: python-dateutil>=2.7 in /usr/local/lib/python3.10/dist-packages (from matplotlib->noisereduce) (2.8.2)\n",
            "Requirement already satisfied: six>=1.5 in /usr/local/lib/python3.10/dist-packages (from python-dateutil>=2.7->matplotlib->noisereduce) (1.16.0)\n",
            "Drive already mounted at /content/drive; to attempt to forcibly remount, call drive.mount(\"/content/drive\", force_remount=True).\n",
            "Audio extracted to: /content/extracted_audio.wav\n",
            "Noise-reduced audio saved to: /content/drive/My Drive/MES_Files/redused_audio.wav\n"
          ]
        }
      ]
    },
    {
      "cell_type": "markdown",
      "source": [
        "(Optional) Split Audio into Smaller Chunks\n",
        "If the audio is long, split it into smaller chunks for better transcription results."
      ],
      "metadata": {
        "id": "CiXpf-IWUQmC"
      }
    },
    {
      "cell_type": "code",
      "source": [
        "from pydub import AudioSegment\n",
        "\n",
        "# Directory for audio chunks\n",
        "chunk_dir = '/content/drive/MyDrive/MES_Files/audio_chunks/'\n",
        "os.makedirs(chunk_dir, exist_ok=True)\n",
        "\n",
        "# Load the enhanced audio\n",
        "audio = AudioSegment.from_wav(\"/content/drive/My Drive/RAG_assignment/redused_audio.wav\")\n",
        "\n",
        "# Split into 30-second chunks\n",
        "chunk_length_ms = 30 * 1000  # 30 seconds in milliseconds\n",
        "chunks = [audio[i:i + chunk_length_ms] for i in range(0, len(audio), chunk_length_ms)]\n",
        "\n",
        "# Save each chunk\n",
        "chunk_paths = []\n",
        "for idx, chunk in enumerate(chunks):\n",
        "    chunk_path = os.path.join(chunk_dir, f'chunk_{idx}.wav')\n",
        "    chunk.export(chunk_path, format=\"wav\")\n",
        "    chunk_paths.append(chunk_path)\n",
        "    print(f\"Saved chunk {idx} to {chunk_path}\")\n",
        "\n",
        "print(f\"Audio has been split into {len(chunk_paths)} chunks.\")\n"
      ],
      "metadata": {
        "colab": {
          "base_uri": "https://localhost:8080/"
        },
        "id": "tmupkuToUPUi",
        "outputId": "4d051ac1-88dd-4797-b3d7-a91bbbf0be72"
      },
      "execution_count": 64,
      "outputs": [
        {
          "output_type": "stream",
          "name": "stdout",
          "text": [
            "Saved chunk 0 to /content/drive/MyDrive/MES_Files/audio_chunks/chunk_0.wav\n",
            "Saved chunk 1 to /content/drive/MyDrive/MES_Files/audio_chunks/chunk_1.wav\n",
            "Saved chunk 2 to /content/drive/MyDrive/MES_Files/audio_chunks/chunk_2.wav\n",
            "Saved chunk 3 to /content/drive/MyDrive/MES_Files/audio_chunks/chunk_3.wav\n",
            "Saved chunk 4 to /content/drive/MyDrive/MES_Files/audio_chunks/chunk_4.wav\n",
            "Saved chunk 5 to /content/drive/MyDrive/MES_Files/audio_chunks/chunk_5.wav\n",
            "Saved chunk 6 to /content/drive/MyDrive/MES_Files/audio_chunks/chunk_6.wav\n",
            "Saved chunk 7 to /content/drive/MyDrive/MES_Files/audio_chunks/chunk_7.wav\n",
            "Saved chunk 8 to /content/drive/MyDrive/MES_Files/audio_chunks/chunk_8.wav\n",
            "Saved chunk 9 to /content/drive/MyDrive/MES_Files/audio_chunks/chunk_9.wav\n",
            "Saved chunk 10 to /content/drive/MyDrive/MES_Files/audio_chunks/chunk_10.wav\n",
            "Audio has been split into 11 chunks.\n"
          ]
        }
      ]
    },
    {
      "cell_type": "markdown",
      "source": [
        "Transcribe Audio to Text\n",
        "Transcribe the enhanced audio or its chunks using Whisper for robust transcription.\n",
        "\n",
        "Install Whisper"
      ],
      "metadata": {
        "id": "lkEnus0RUV2D"
      }
    },
    {
      "cell_type": "code",
      "source": [
        "!pip install openai-whisper ffmpeg\n"
      ],
      "metadata": {
        "colab": {
          "base_uri": "https://localhost:8080/"
        },
        "id": "1eRNIwWjUUto",
        "outputId": "0ca03231-01e3-4f58-e60b-33cde5776d94"
      },
      "execution_count": 65,
      "outputs": [
        {
          "output_type": "stream",
          "name": "stdout",
          "text": [
            "Requirement already satisfied: openai-whisper in /usr/local/lib/python3.10/dist-packages (20240930)\n",
            "Requirement already satisfied: ffmpeg in /usr/local/lib/python3.10/dist-packages (1.4)\n",
            "Requirement already satisfied: numba in /usr/local/lib/python3.10/dist-packages (from openai-whisper) (0.60.0)\n",
            "Requirement already satisfied: numpy in /usr/local/lib/python3.10/dist-packages (from openai-whisper) (1.26.4)\n",
            "Requirement already satisfied: torch in /usr/local/lib/python3.10/dist-packages (from openai-whisper) (2.5.1+cu121)\n",
            "Requirement already satisfied: tqdm in /usr/local/lib/python3.10/dist-packages (from openai-whisper) (4.66.6)\n",
            "Requirement already satisfied: more-itertools in /usr/local/lib/python3.10/dist-packages (from openai-whisper) (10.5.0)\n",
            "Requirement already satisfied: tiktoken in /usr/local/lib/python3.10/dist-packages (from openai-whisper) (0.8.0)\n",
            "Requirement already satisfied: triton>=2.0.0 in /usr/local/lib/python3.10/dist-packages (from openai-whisper) (3.1.0)\n",
            "Requirement already satisfied: filelock in /usr/local/lib/python3.10/dist-packages (from triton>=2.0.0->openai-whisper) (3.16.1)\n",
            "Requirement already satisfied: llvmlite<0.44,>=0.43.0dev0 in /usr/local/lib/python3.10/dist-packages (from numba->openai-whisper) (0.43.0)\n",
            "Requirement already satisfied: regex>=2022.1.18 in /usr/local/lib/python3.10/dist-packages (from tiktoken->openai-whisper) (2024.9.11)\n",
            "Requirement already satisfied: requests>=2.26.0 in /usr/local/lib/python3.10/dist-packages (from tiktoken->openai-whisper) (2.32.3)\n",
            "Requirement already satisfied: typing-extensions>=4.8.0 in /usr/local/lib/python3.10/dist-packages (from torch->openai-whisper) (4.12.2)\n",
            "Requirement already satisfied: networkx in /usr/local/lib/python3.10/dist-packages (from torch->openai-whisper) (3.4.2)\n",
            "Requirement already satisfied: jinja2 in /usr/local/lib/python3.10/dist-packages (from torch->openai-whisper) (3.1.4)\n",
            "Requirement already satisfied: fsspec in /usr/local/lib/python3.10/dist-packages (from torch->openai-whisper) (2024.10.0)\n",
            "Requirement already satisfied: sympy==1.13.1 in /usr/local/lib/python3.10/dist-packages (from torch->openai-whisper) (1.13.1)\n",
            "Requirement already satisfied: mpmath<1.4,>=1.1.0 in /usr/local/lib/python3.10/dist-packages (from sympy==1.13.1->torch->openai-whisper) (1.3.0)\n",
            "Requirement already satisfied: charset-normalizer<4,>=2 in /usr/local/lib/python3.10/dist-packages (from requests>=2.26.0->tiktoken->openai-whisper) (3.4.0)\n",
            "Requirement already satisfied: idna<4,>=2.5 in /usr/local/lib/python3.10/dist-packages (from requests>=2.26.0->tiktoken->openai-whisper) (3.10)\n",
            "Requirement already satisfied: urllib3<3,>=1.21.1 in /usr/local/lib/python3.10/dist-packages (from requests>=2.26.0->tiktoken->openai-whisper) (2.2.3)\n",
            "Requirement already satisfied: certifi>=2017.4.17 in /usr/local/lib/python3.10/dist-packages (from requests>=2.26.0->tiktoken->openai-whisper) (2024.8.30)\n",
            "Requirement already satisfied: MarkupSafe>=2.0 in /usr/local/lib/python3.10/dist-packages (from jinja2->torch->openai-whisper) (3.0.2)\n"
          ]
        }
      ]
    },
    {
      "cell_type": "markdown",
      "source": [
        "Transcription code"
      ],
      "metadata": {
        "id": "xPDxejVRUiPB"
      }
    },
    {
      "cell_type": "code",
      "source": [
        "import whisper\n",
        "\n",
        "# Load the Whisper model\n",
        "model = whisper.load_model(\"base\")\n",
        "\n",
        "# Transcribe the enhanced audio\n",
        "result = model.transcribe(reduced_audio_path)\n",
        "transcribed_text = result[\"text\"]\n",
        "print(\"Transcribed Text:\\n\", transcribed_text)\n"
      ],
      "metadata": {
        "colab": {
          "base_uri": "https://localhost:8080/"
        },
        "id": "VD6anKq4UZyL",
        "outputId": "90690228-efd9-4936-ffe7-de231a334395"
      },
      "execution_count": 66,
      "outputs": [
        {
          "output_type": "stream",
          "name": "stderr",
          "text": [
            "WARNING:py.warnings:/usr/local/lib/python3.10/dist-packages/whisper/__init__.py:150: FutureWarning: You are using `torch.load` with `weights_only=False` (the current default value), which uses the default pickle module implicitly. It is possible to construct malicious pickle data which will execute arbitrary code during unpickling (See https://github.com/pytorch/pytorch/blob/main/SECURITY.md#untrusted-models for more details). In a future release, the default value for `weights_only` will be flipped to `True`. This limits the functions that could be executed during unpickling. Arbitrary objects will no longer be allowed to be loaded via this mode unless they are explicitly allowlisted by the user via `torch.serialization.add_safe_globals`. We recommend you start setting `weights_only=True` for any use case where you don't have full control of the loaded file. Please open an issue on GitHub for any issues related to this experimental feature.\n",
            "  checkpoint = torch.load(fp, map_location=device)\n",
            "\n",
            "WARNING:py.warnings:/usr/local/lib/python3.10/dist-packages/whisper/transcribe.py:126: UserWarning: FP16 is not supported on CPU; using FP32 instead\n",
            "  warnings.warn(\"FP16 is not supported on CPU; using FP32 instead\")\n",
            "\n"
          ]
        },
        {
          "output_type": "stream",
          "name": "stdout",
          "text": [
            "Transcribed Text:\n",
            "  What is MES? MES stands for Manufacturing Execution System, meaning a control system for monitoring and managing work and process on factory floor. But that's an oversimplification of what a successful MES software implementation can do for manufacturers. MES provides detailed resource scheduling and status, production, dispatching, sequencing, traceability, genealogy, inventory, quality assurance, and maintenance management, document control, performance, analysis, and work. MES is crucial for manufacturers because it exists in a space between business-oriented applications, like ERP and SCADA HMI systems designed to directly control plant or operations. While an ERP can help allocate resources, it lacks the level of detail that MES provides. MES allows real-time, minute to minute, or quicker resource scheduling, as well as handling execution and dispatch. MES connects production to executive decision making by controlling, tracking, and documenting the transformation of raw materials into finished goods in real-time. This information gives a current, accurate view of plant floor operations, especially when combined with dashboards that display current status and rates, which can be compared to both historical data, as well as scheduled production goals. Similarly, MES assists with recipe management, allowing organizations to formally consistent methods for creating products from batch to batch, reducing waste while streamlining processes. Additionally, recipes can be easily updated in order, quickly adding new products or adjusting the spec on current offers. MES manages work in progress, or WIP, inventory throughout various stages of production. By integrating with ERP and SCADA systems, MES automatically validates inventory levels at each stage, eliminating the need for manual verification. Related to WIP inventory is the concept of tracking tricks, which documents batches and individual products on their journey from raw materials to semi-managed goods, and finally to finish products. By tracking, organizations gain a complete picture of each unit and can instantly trace its path through production in the case of a quality fluctuation. All production facilities will have variations, deviations, and exceptions in terms of quality and accepted parameters, connecting MES to a more granular scale system allows operators to see a bond that indicate in real time when units are out of spec. While not technically part of the system itself, overall equipment effectiveness or OEE is closely linked to MES, OEE considers three ratios. Actual runtime to planned production time, the number of units started to the number of units processed at the standard rate, and good units produced to unit started. Using these ratios, organizations can analyze their operations, gain valuable insight, then improve production, and equip the throughput. A large factor in OEE is downtime tracking. Every minute of downtime on the planned floor means losing money, and puts production behind schedule. Reducing or even eliminating downtime is vital to meeting production goals and becoming a more efficient organization. One of the best ways to implement an MES solution is to use the Ignition Software Platform with sephasops suite of MES modules. Ignition acts as the base with built-in tools to develop best-in-class data, HMI solutions, where they serve a centered architecture paired with an unlimited licensing model. Ignition brings cutting-edge automation software to both the planned floor and the boardroom. A versatile solution like the Ignition Perspective Module can easily connect data sources from a process organization, displaying that information on flexible dynamic dashboards, and generating custom reports, all in a mobile responsive application. Sephasops Module can slot right into Ignition, expediting MES development, while delivering a powerful feature set including batch processing, downtime monitoring, procedure management, and more. MES can be complicated and creating a custom solution from scratch can be difficult to build and even harder to maintain. Alternatively, sephasops low-code solutions reduce development time, minimizing technical debt, and total cost of ownership. In one way or another, all organizations have a manufacturing execution system, whether it's automated, manual, or tracked completely in the mind of one person, but in a planned floor environment where consistency is vital, a downtime can be catastrophic. Implementing a true MES not only improve efficiency, it will help manufacturers become stronger businesses.\n"
          ]
        }
      ]
    },
    {
      "cell_type": "markdown",
      "source": [
        "For audio chunks"
      ],
      "metadata": {
        "id": "BCKGwuU8UqL_"
      }
    },
    {
      "cell_type": "code",
      "source": [
        "# Transcribe each chunk\n",
        "transcribed_chunks = []\n",
        "for chunk_path in chunk_paths:\n",
        "    result = model.transcribe(chunk_path)\n",
        "    transcribed_chunks.append(result[\"text\"])\n",
        "\n",
        "# Combine transcribed text\n",
        "final_transcribed_text = \" \".join(transcribed_chunks)\n",
        "print(\"Final Transcribed Text:\\n\", final_transcribed_text)\n"
      ],
      "metadata": {
        "colab": {
          "base_uri": "https://localhost:8080/"
        },
        "id": "pFKizyAcUj-M",
        "outputId": "9251a8e6-261d-4741-a381-9d410686e7b2"
      },
      "execution_count": 67,
      "outputs": [
        {
          "output_type": "stream",
          "name": "stderr",
          "text": [
            "WARNING:py.warnings:/usr/local/lib/python3.10/dist-packages/whisper/transcribe.py:126: UserWarning: FP16 is not supported on CPU; using FP32 instead\n",
            "  warnings.warn(\"FP16 is not supported on CPU; using FP32 instead\")\n",
            "\n",
            "WARNING:py.warnings:/usr/local/lib/python3.10/dist-packages/whisper/transcribe.py:126: UserWarning: FP16 is not supported on CPU; using FP32 instead\n",
            "  warnings.warn(\"FP16 is not supported on CPU; using FP32 instead\")\n",
            "\n",
            "WARNING:py.warnings:/usr/local/lib/python3.10/dist-packages/whisper/transcribe.py:126: UserWarning: FP16 is not supported on CPU; using FP32 instead\n",
            "  warnings.warn(\"FP16 is not supported on CPU; using FP32 instead\")\n",
            "\n",
            "WARNING:py.warnings:/usr/local/lib/python3.10/dist-packages/whisper/transcribe.py:126: UserWarning: FP16 is not supported on CPU; using FP32 instead\n",
            "  warnings.warn(\"FP16 is not supported on CPU; using FP32 instead\")\n",
            "\n",
            "WARNING:py.warnings:/usr/local/lib/python3.10/dist-packages/whisper/transcribe.py:126: UserWarning: FP16 is not supported on CPU; using FP32 instead\n",
            "  warnings.warn(\"FP16 is not supported on CPU; using FP32 instead\")\n",
            "\n",
            "WARNING:py.warnings:/usr/local/lib/python3.10/dist-packages/whisper/transcribe.py:126: UserWarning: FP16 is not supported on CPU; using FP32 instead\n",
            "  warnings.warn(\"FP16 is not supported on CPU; using FP32 instead\")\n",
            "\n",
            "WARNING:py.warnings:/usr/local/lib/python3.10/dist-packages/whisper/transcribe.py:126: UserWarning: FP16 is not supported on CPU; using FP32 instead\n",
            "  warnings.warn(\"FP16 is not supported on CPU; using FP32 instead\")\n",
            "\n",
            "WARNING:py.warnings:/usr/local/lib/python3.10/dist-packages/whisper/transcribe.py:126: UserWarning: FP16 is not supported on CPU; using FP32 instead\n",
            "  warnings.warn(\"FP16 is not supported on CPU; using FP32 instead\")\n",
            "\n",
            "WARNING:py.warnings:/usr/local/lib/python3.10/dist-packages/whisper/transcribe.py:126: UserWarning: FP16 is not supported on CPU; using FP32 instead\n",
            "  warnings.warn(\"FP16 is not supported on CPU; using FP32 instead\")\n",
            "\n",
            "WARNING:py.warnings:/usr/local/lib/python3.10/dist-packages/whisper/transcribe.py:126: UserWarning: FP16 is not supported on CPU; using FP32 instead\n",
            "  warnings.warn(\"FP16 is not supported on CPU; using FP32 instead\")\n",
            "\n",
            "WARNING:py.warnings:/usr/local/lib/python3.10/dist-packages/whisper/transcribe.py:126: UserWarning: FP16 is not supported on CPU; using FP32 instead\n",
            "  warnings.warn(\"FP16 is not supported on CPU; using FP32 instead\")\n",
            "\n"
          ]
        },
        {
          "output_type": "stream",
          "name": "stdout",
          "text": [
            "Final Transcribed Text:\n",
            "  What is MES? MES stands for Manufacturing Execution System, meaning a control system for monitoring and managing work and process on factory floor. But that's an oversimplification of what a successful MES software implementation can do for manufacturers. MES provides detailed resource scheduling and status, production dispassion sequences.  Traceability, Genealogy, Inventory, Quality Assurance, and Maintenance Management, Document Control, Performance, Analysis, and more. MES is crucial for manufacturers because it exists in a space between business-oriented applications like ERP and SCADA HMI systems designed to directly control plant or operations. All in ERP can help allocate resources. It lacks the level of detail that MES provides.  MES allows for real-time, minute to minute, or quicker, resource scheduling, as well as handling execution and dispatch. MES connects production to executive decision making by controlling, tracking, and documenting the transformation of raw materials into finished goods in real-time. This information gives a current, accurate view of plant-floor operations, especially when combined with dashboards that display current status and rates, which can be compared to both historical data as well.  as scheduled production goals. Similarly, MES assists with recipe management, allowing organizations to formally consistent methods for creating products from batch to batch, reducing waste while streamlining processes. Additionally, recipes can be easily updated and altered, quickly adding new products or adjusting the spec on current offers. MES manages work in progress, or WIP, inventory throughout various stages of production. By integrating with your key and skater system, MES auto-money.  that we validate inventory levels at each stage, eliminating the need for manual verification. Related to WIPM is the concept of track and tricks, which documents batches and individual products on their journey from raw materials to semi-managed goods, and finally to finish products. By tracking, organizations gain a complete picture of each unit and can instantly trace its path through production in the case of a quality fluctuation. All production facilities will have variations.  deviations and exceptions in terms of quality and accepted parameters, connecting MES to a more granular scale system allows operators to see a farm that indicate in real time when units are out of spec. While not technically part of this itself, overall equipment effectiveness or OEE is closely linked to MES, OEE considers three ratios. Actual runtime to plan production time, the number of units started to the number of units processed at the standard rate, and the number of units processed at the standard rate, the number of units processed at the standard rate, the number of units processed at the standard rate, the number of units processed at the standard rate, the number of units processed at the standard rate, the number of units processed at the standard rate,  produced to UNIS started. Using these ratios, organizations can analyze their operations, gain valuable insight, then improve production and equipment through fun. A large factor in the EU is downtime tracking. Every minute of downtime on the client floor means losing money and puts production behind schedule. Reducing or even eliminating downtime is vital to meeting production goals and becoming a more efficient organization. One of the best ways to implement an MES solution is to use the ignition software.  platform with sephasophists suite of MES modules, ignition acts as the base with built-in tools to develop best-in-class data, HMI solutions, where they serve a centered architecture paired with an unlimited licensing model. Ignition brings cutting-edge automation software to both the plant floor and the board. A versatile solution like the ignition perspective module can easily connect data sources from across the organization, displaying that information on flexible dynamic dashboards, and generating custom reports,  and mobile responsive application. Substance of module can slot right into ignition, expediting MES development, while delivering a powerful feature set including batch processing, downtime monitoring, procedure management, and more. MES can be complicated, and creating a custom solution from scratch can be difficult to build, and even harder to maintain. Alternatively, Substance Low Code Solutions reduced development time, minimizing technical debt, and total cost of ownership. In one way or another, all organizations.  having a manufacturing execution system, whether it's automated, manual, or tracked completely in the mind of one person, but in a plant-floor environment, where consistency is vital, a downtime can be catastrophic, implementing a true MES, not only in food efficiency, it will help manufacturers become stronger businesses. Weons are really powerful, our people can look at more sharing, let's talk about improved local resources. \n"
          ]
        }
      ]
    },
    {
      "cell_type": "markdown",
      "source": [
        "Clean the Transcribed Text\n",
        "Remove unnecessary noise like punctuation, stopwords, and convert to lowercase."
      ],
      "metadata": {
        "id": "e79kdAfQVA0-"
      }
    },
    {
      "cell_type": "code",
      "source": [
        "import nltk\n",
        "import string\n",
        "from nltk.corpus import stopwords\n",
        "from nltk.tokenize import word_tokenize\n",
        "\n",
        "# Download NLTK resources\n",
        "nltk.download('punkt')\n",
        "nltk.download('stopwords')\n",
        "\n",
        "# Stopwords and cleaning function\n",
        "stop_words = set(stopwords.words('english'))\n",
        "\n",
        "def clean_text(text):\n",
        "    text = text.lower()  # Convert to lowercase\n",
        "    text = ''.join([char for char in text if char not in string.punctuation])  # Remove punctuation\n",
        "    words = word_tokenize(text)  # Tokenize\n",
        "    words = [word for word in words if word not in stop_words]  # Remove stopwords\n",
        "    return ' '.join(words)\n",
        "\n",
        "# Clean the transcribed text\n",
        "cleaned_text = clean_text(transcribed_text if len(chunk_paths) == 0 else final_transcribed_text)\n",
        "print(\"Cleaned Transcribed Text:\\n\", cleaned_text)\n"
      ],
      "metadata": {
        "colab": {
          "base_uri": "https://localhost:8080/"
        },
        "id": "_Dtme3a-U36f",
        "outputId": "f43c81af-4026-4629-ce07-056a2760c64a"
      },
      "execution_count": 68,
      "outputs": [
        {
          "output_type": "stream",
          "name": "stdout",
          "text": [
            "Cleaned Transcribed Text:\n",
            " mes mes stands manufacturing execution system meaning control system monitoring managing work process factory floor thats oversimplification successful mes software implementation manufacturers mes provides detailed resource scheduling status production dispassion sequences traceability genealogy inventory quality assurance maintenance management document control performance analysis mes crucial manufacturers exists space businessoriented applications like erp scada hmi systems designed directly control plant operations erp help allocate resources lacks level detail mes provides mes allows realtime minute minute quicker resource scheduling well handling execution dispatch mes connects production executive decision making controlling tracking documenting transformation raw materials finished goods realtime information gives current accurate view plantfloor operations especially combined dashboards display current status rates compared historical data well scheduled production goals similarly mes assists recipe management allowing organizations formally consistent methods creating products batch batch reducing waste streamlining processes additionally recipes easily updated altered quickly adding new products adjusting spec current offers mes manages work progress wip inventory throughout various stages production integrating key skater system mes automoney validate inventory levels stage eliminating need manual verification related wipm concept track tricks documents batches individual products journey raw materials semimanaged goods finally finish products tracking organizations gain complete picture unit instantly trace path production case quality fluctuation production facilities variations deviations exceptions terms quality accepted parameters connecting mes granular scale system allows operators see farm indicate real time units spec technically part overall equipment effectiveness oee closely linked mes oee considers three ratios actual runtime plan production time number units started number units processed standard rate number units processed standard rate number units processed standard rate number units processed standard rate number units processed standard rate number units processed standard rate number units processed standard rate produced unis started using ratios organizations analyze operations gain valuable insight improve production equipment fun large factor eu downtime tracking every minute downtime client floor means losing money puts production behind schedule reducing even eliminating downtime vital meeting production goals becoming efficient organization one best ways implement mes solution use ignition software platform sephasophists suite mes modules ignition acts base builtin tools develop bestinclass data hmi solutions serve centered architecture paired unlimited licensing model ignition brings cuttingedge automation software plant floor board versatile solution like ignition perspective module easily connect data sources across organization displaying information flexible dynamic dashboards generating custom reports mobile responsive application substance module slot right ignition expediting mes development delivering powerful feature set including batch processing downtime monitoring procedure management mes complicated creating custom solution scratch difficult build even harder maintain alternatively substance low code solutions reduced development time minimizing technical debt total cost ownership one way another organizations manufacturing execution system whether automated manual tracked completely mind one person plantfloor environment consistency vital downtime catastrophic implementing true mes food efficiency help manufacturers become stronger businesses weons really powerful people look sharing lets talk improved local resources\n"
          ]
        },
        {
          "output_type": "stream",
          "name": "stderr",
          "text": [
            "[nltk_data] Downloading package punkt to /root/nltk_data...\n",
            "[nltk_data]   Package punkt is already up-to-date!\n",
            "[nltk_data] Downloading package stopwords to /root/nltk_data...\n",
            "[nltk_data]   Package stopwords is already up-to-date!\n"
          ]
        }
      ]
    },
    {
      "cell_type": "markdown",
      "source": [
        "Saving the Transcribed Text\n",
        "If you want to save the transcribed or cleaned text into a file for later use, use the following code:\n",
        "\n",
        "Save the Raw Transcription:"
      ],
      "metadata": {
        "id": "cEy48thaVuIu"
      }
    },
    {
      "cell_type": "code",
      "source": [
        "raw_text_path = '/content/drive/MyDrive/MES_Files/transcribed_text.txt'\n",
        "with open(raw_text_path, 'w') as f:\n",
        "    f.write(transcribed_text if len(chunk_paths) == 0 else final_transcribed_text)\n",
        "print(f\"Transcribed text saved at {raw_text_path}\")\n"
      ],
      "metadata": {
        "colab": {
          "base_uri": "https://localhost:8080/"
        },
        "id": "Mzc2oipFVFFY",
        "outputId": "397b390b-b7c1-4fd3-907a-577e60c52fd0"
      },
      "execution_count": 69,
      "outputs": [
        {
          "output_type": "stream",
          "name": "stdout",
          "text": [
            "Transcribed text saved at /content/drive/MyDrive/MES_Files/transcribed_text.txt\n"
          ]
        }
      ]
    },
    {
      "cell_type": "markdown",
      "source": [
        "Save the Cleaned Transcription:\n",
        "python\n",
        "Copy code\n"
      ],
      "metadata": {
        "id": "YL05hGP6Vxgr"
      }
    },
    {
      "cell_type": "code",
      "source": [
        "cleaned_text_path = '/content/drive/MyDrive/MES_Files/cleaned_transcribed_text.txt'\n",
        "with open(cleaned_text_path, 'w') as f:\n",
        "    f.write(cleaned_text)\n",
        "print(f\"Cleaned transcribed text saved at {cleaned_text_path}\")\n"
      ],
      "metadata": {
        "colab": {
          "base_uri": "https://localhost:8080/"
        },
        "id": "eLrlvXLIVweJ",
        "outputId": "3c1c6e26-ac6f-4fd3-ca79-f029ca4cdd41"
      },
      "execution_count": 70,
      "outputs": [
        {
          "output_type": "stream",
          "name": "stdout",
          "text": [
            "Cleaned transcribed text saved at /content/drive/MyDrive/MES_Files/cleaned_transcribed_text.txt\n"
          ]
        }
      ]
    },
    {
      "cell_type": "markdown",
      "source": [
        "MAKING EMBEDDINGS OUT OF THEM"
      ],
      "metadata": {
        "id": "eKCM8TUdia1a"
      }
    },
    {
      "cell_type": "code",
      "source": [
        "!pip install sentence-transformers\n"
      ],
      "metadata": {
        "colab": {
          "base_uri": "https://localhost:8080/"
        },
        "id": "xTIIvmyLie_q",
        "outputId": "12137524-f64e-452b-d9cf-ca9062267654"
      },
      "execution_count": 71,
      "outputs": [
        {
          "output_type": "stream",
          "name": "stdout",
          "text": [
            "Requirement already satisfied: sentence-transformers in /usr/local/lib/python3.10/dist-packages (3.2.1)\n",
            "Requirement already satisfied: transformers<5.0.0,>=4.41.0 in /usr/local/lib/python3.10/dist-packages (from sentence-transformers) (4.46.2)\n",
            "Requirement already satisfied: tqdm in /usr/local/lib/python3.10/dist-packages (from sentence-transformers) (4.66.6)\n",
            "Requirement already satisfied: torch>=1.11.0 in /usr/local/lib/python3.10/dist-packages (from sentence-transformers) (2.5.1+cu121)\n",
            "Requirement already satisfied: scikit-learn in /usr/local/lib/python3.10/dist-packages (from sentence-transformers) (1.5.2)\n",
            "Requirement already satisfied: scipy in /usr/local/lib/python3.10/dist-packages (from sentence-transformers) (1.13.1)\n",
            "Requirement already satisfied: huggingface-hub>=0.20.0 in /usr/local/lib/python3.10/dist-packages (from sentence-transformers) (0.26.2)\n",
            "Requirement already satisfied: Pillow in /usr/local/lib/python3.10/dist-packages (from sentence-transformers) (11.0.0)\n",
            "Requirement already satisfied: filelock in /usr/local/lib/python3.10/dist-packages (from huggingface-hub>=0.20.0->sentence-transformers) (3.16.1)\n",
            "Requirement already satisfied: fsspec>=2023.5.0 in /usr/local/lib/python3.10/dist-packages (from huggingface-hub>=0.20.0->sentence-transformers) (2024.10.0)\n",
            "Requirement already satisfied: packaging>=20.9 in /usr/local/lib/python3.10/dist-packages (from huggingface-hub>=0.20.0->sentence-transformers) (24.2)\n",
            "Requirement already satisfied: pyyaml>=5.1 in /usr/local/lib/python3.10/dist-packages (from huggingface-hub>=0.20.0->sentence-transformers) (6.0.2)\n",
            "Requirement already satisfied: requests in /usr/local/lib/python3.10/dist-packages (from huggingface-hub>=0.20.0->sentence-transformers) (2.32.3)\n",
            "Requirement already satisfied: typing-extensions>=3.7.4.3 in /usr/local/lib/python3.10/dist-packages (from huggingface-hub>=0.20.0->sentence-transformers) (4.12.2)\n",
            "Requirement already satisfied: networkx in /usr/local/lib/python3.10/dist-packages (from torch>=1.11.0->sentence-transformers) (3.4.2)\n",
            "Requirement already satisfied: jinja2 in /usr/local/lib/python3.10/dist-packages (from torch>=1.11.0->sentence-transformers) (3.1.4)\n",
            "Requirement already satisfied: sympy==1.13.1 in /usr/local/lib/python3.10/dist-packages (from torch>=1.11.0->sentence-transformers) (1.13.1)\n",
            "Requirement already satisfied: mpmath<1.4,>=1.1.0 in /usr/local/lib/python3.10/dist-packages (from sympy==1.13.1->torch>=1.11.0->sentence-transformers) (1.3.0)\n",
            "Requirement already satisfied: numpy>=1.17 in /usr/local/lib/python3.10/dist-packages (from transformers<5.0.0,>=4.41.0->sentence-transformers) (1.26.4)\n",
            "Requirement already satisfied: regex!=2019.12.17 in /usr/local/lib/python3.10/dist-packages (from transformers<5.0.0,>=4.41.0->sentence-transformers) (2024.9.11)\n",
            "Requirement already satisfied: safetensors>=0.4.1 in /usr/local/lib/python3.10/dist-packages (from transformers<5.0.0,>=4.41.0->sentence-transformers) (0.4.5)\n",
            "Requirement already satisfied: tokenizers<0.21,>=0.20 in /usr/local/lib/python3.10/dist-packages (from transformers<5.0.0,>=4.41.0->sentence-transformers) (0.20.3)\n",
            "Requirement already satisfied: joblib>=1.2.0 in /usr/local/lib/python3.10/dist-packages (from scikit-learn->sentence-transformers) (1.4.2)\n",
            "Requirement already satisfied: threadpoolctl>=3.1.0 in /usr/local/lib/python3.10/dist-packages (from scikit-learn->sentence-transformers) (3.5.0)\n",
            "Requirement already satisfied: MarkupSafe>=2.0 in /usr/local/lib/python3.10/dist-packages (from jinja2->torch>=1.11.0->sentence-transformers) (3.0.2)\n",
            "Requirement already satisfied: charset-normalizer<4,>=2 in /usr/local/lib/python3.10/dist-packages (from requests->huggingface-hub>=0.20.0->sentence-transformers) (3.4.0)\n",
            "Requirement already satisfied: idna<4,>=2.5 in /usr/local/lib/python3.10/dist-packages (from requests->huggingface-hub>=0.20.0->sentence-transformers) (3.10)\n",
            "Requirement already satisfied: urllib3<3,>=1.21.1 in /usr/local/lib/python3.10/dist-packages (from requests->huggingface-hub>=0.20.0->sentence-transformers) (2.2.3)\n",
            "Requirement already satisfied: certifi>=2017.4.17 in /usr/local/lib/python3.10/dist-packages (from requests->huggingface-hub>=0.20.0->sentence-transformers) (2024.8.30)\n"
          ]
        }
      ]
    },
    {
      "cell_type": "code",
      "source": [
        "from sentence_transformers import SentenceTransformer\n",
        "import numpy as np\n",
        "\n",
        "# Load the SentenceTransformer model\n",
        "model = SentenceTransformer('all-MiniLM-L6-v2')  # Efficient model for embeddings\n",
        "\n",
        "# Define paths for your cleaned text files\n",
        "# Define paths for your cleaned text files (check and update the paths if necessary)\n",
        "cleaned_text_files = {\n",
        "    'txt': '/content/drive/MyDrive/MES_Files/processed_output.txt',  # Cleaned text from TXT file\n",
        "    'pdf': '/content/drive/MyDrive/MES_Files/processed_pdf_text.txt', # Cleaned text from PDF\n",
        "    'audio': '/content/drive/MyDrive/MES_Files/cleaned_transcribed_text.txt'  # Cleaned text from Transcription\n",
        "}\n",
        "\n",
        "\n",
        "\n",
        "# Dictionary to hold the embeddings\n",
        "embeddings_dict = {}\n",
        "\n",
        "# Load and encode the text files\n",
        "for key, file_path in cleaned_text_files.items():\n",
        "    try:\n",
        "        with open(file_path, 'r') as f:\n",
        "            cleaned_text = f.read()\n",
        "\n",
        "        # Generate embeddings for each cleaned text\n",
        "        embeddings = model.encode([cleaned_text])\n",
        "\n",
        "        # Store embeddings in the dictionary\n",
        "        embeddings_dict[key] = embeddings\n",
        "\n",
        "        # Save embeddings for each format separately\n",
        "        embeddings_file_path = f\"/content/drive/MyDrive/MES_Files/embeddings_{key}.npy\"\n",
        "        np.save(embeddings_file_path, embeddings)\n",
        "        print(f\"Embeddings for {key} saved at {embeddings_file_path}\")\n",
        "\n",
        "    except FileNotFoundError:\n",
        "        print(f\"Error: File not found at {file_path}. Please check the file path and ensure the file exists.\")\n",
        "\n",
        "# Optionally: Print out the shape of embeddings to confirm\n",
        "for key, emb in embeddings_dict.items():\n",
        "    print(f\"Embeddings for {key} shape: {np.array(emb).shape}\")"
      ],
      "metadata": {
        "colab": {
          "base_uri": "https://localhost:8080/"
        },
        "id": "YWbkXxe-ifVw",
        "outputId": "2f71a1ae-7be7-402e-aba3-ea00311e15f0"
      },
      "execution_count": 78,
      "outputs": [
        {
          "output_type": "stream",
          "name": "stdout",
          "text": [
            "Embeddings for txt saved at /content/drive/MyDrive/MES_Files/embeddings_txt.npy\n",
            "Embeddings for pdf saved at /content/drive/MyDrive/MES_Files/embeddings_pdf.npy\n",
            "Embeddings for audio saved at /content/drive/MyDrive/MES_Files/embeddings_audio.npy\n",
            "Embeddings for txt shape: (1, 384)\n",
            "Embeddings for pdf shape: (1, 384)\n",
            "Embeddings for audio shape: (1, 384)\n"
          ]
        }
      ]
    },
    {
      "cell_type": "markdown",
      "source": [
        " FAISS VECTOR DATABASE"
      ],
      "metadata": {
        "id": "yZT8-Dddkt7O"
      }
    },
    {
      "cell_type": "code",
      "source": [
        "!pip install faiss-cpu  # For CPU-only version\n",
        "# or\n",
        "!pip install faiss-gpu  # For GPU-accelerated version (if you have a compatible GPU)\n"
      ],
      "metadata": {
        "colab": {
          "base_uri": "https://localhost:8080/"
        },
        "collapsed": true,
        "id": "kYoXDdFw1w55",
        "outputId": "264bddab-83be-44eb-a58c-e837f75ca802"
      },
      "execution_count": 79,
      "outputs": [
        {
          "output_type": "stream",
          "name": "stdout",
          "text": [
            "Requirement already satisfied: faiss-cpu in /usr/local/lib/python3.10/dist-packages (1.9.0.post1)\n",
            "Requirement already satisfied: numpy<3.0,>=1.25.0 in /usr/local/lib/python3.10/dist-packages (from faiss-cpu) (1.26.4)\n",
            "Requirement already satisfied: packaging in /usr/local/lib/python3.10/dist-packages (from faiss-cpu) (24.2)\n",
            "Requirement already satisfied: faiss-gpu in /usr/local/lib/python3.10/dist-packages (1.7.2)\n"
          ]
        }
      ]
    },
    {
      "cell_type": "code",
      "source": [
        "from google.colab import drive\n",
        "\n",
        "# Mount Google Drive\n",
        "drive.mount('/content/drive')\n",
        "\n",
        "# Your embeddings will likely be located at '/content/drive/My Drive/...'\n",
        "# Example path to your files on Google Drive\n",
        "path_to_txt_embeddings = '/content/drive/MyDrive/MES_Files/embeddings_txt.npy'\n",
        "path_to_pdf_embeddings = '/content/drive/MyDrive/MES_Files/embeddings_pdf.npy'\n",
        "path_to_audio_embeddings = '/content/drive/MyDrive/MES_Files/embeddings_audio.npy'\n"
      ],
      "metadata": {
        "colab": {
          "base_uri": "https://localhost:8080/"
        },
        "id": "5iWyUUvR1xtq",
        "outputId": "5c629c3b-31de-454f-ac83-2d9f0643d5cb"
      },
      "execution_count": 80,
      "outputs": [
        {
          "output_type": "stream",
          "name": "stdout",
          "text": [
            "Drive already mounted at /content/drive; to attempt to forcibly remount, call drive.mount(\"/content/drive\", force_remount=True).\n"
          ]
        }
      ]
    },
    {
      "cell_type": "code",
      "source": [
        "import numpy as np\n",
        "\n",
        "# Load the embeddings from Google Drive\n",
        "embeddings_txt = np.load(path_to_txt_embeddings)\n",
        "embeddings_pdf = np.load(path_to_pdf_embeddings)\n",
        "embeddings_audio = np.load(path_to_audio_embeddings)\n",
        "\n",
        "# Check their shapes to make sure they are compatible\n",
        "print(\"Text Embedding Shape:\", embeddings_txt.shape)\n",
        "print(\"PDF Embedding Shape:\", embeddings_pdf.shape)\n",
        "print(\"Audio Embedding Shape:\", embeddings_audio.shape)\n"
      ],
      "metadata": {
        "colab": {
          "base_uri": "https://localhost:8080/"
        },
        "id": "Zt0tLh_Q3TQO",
        "outputId": "0e529ba1-5451-437e-e5bd-2ce49e6ee7f8"
      },
      "execution_count": 82,
      "outputs": [
        {
          "output_type": "stream",
          "name": "stdout",
          "text": [
            "Text Embedding Shape: (1, 384)\n",
            "PDF Embedding Shape: (1, 384)\n",
            "Audio Embedding Shape: (1, 384)\n"
          ]
        }
      ]
    },
    {
      "cell_type": "code",
      "source": [
        "import faiss\n",
        "\n",
        "# Check the dimensionality of the embeddings (assuming all have the same dimension)\n",
        "embedding_dimension = embeddings_txt.shape[1]  # Example: 384\n",
        "\n",
        "# Create the FAISS index (using IndexFlatIP for cosine similarity)\n",
        "index = faiss.IndexFlatIP(embedding_dimension)\n",
        "\n",
        "# Combine all the embeddings into a single numpy array (stacking vertically)\n",
        "all_embeddings = np.vstack((embeddings_txt, embeddings_pdf, embeddings_audio))\n",
        "\n",
        "# Add all the embeddings to the FAISS index\n",
        "index.add(all_embeddings)\n",
        "\n",
        "# Verify the number of vectors in the index\n",
        "print(\"Number of vectors in the FAISS index:\", index.ntotal)\n"
      ],
      "metadata": {
        "colab": {
          "base_uri": "https://localhost:8080/"
        },
        "id": "ZIXJ8MbB3XsX",
        "outputId": "900ed264-9398-46b7-ba17-a928ed387787"
      },
      "execution_count": 83,
      "outputs": [
        {
          "output_type": "stream",
          "name": "stdout",
          "text": [
            "Number of vectors in the FAISS index: 3\n"
          ]
        }
      ]
    },
    {
      "cell_type": "code",
      "source": [
        "# Example query: create a random vector to simulate a query (this should ideally be an actual query embedding)\n",
        "query_embedding = np.random.random((1, embedding_dimension)).astype('float32')\n",
        "\n",
        "# Retrieve the top 5 nearest neighbors\n",
        "k = 5\n",
        "distances, indices = index.search(query_embedding, k)\n",
        "\n",
        "print(\"Top 5 nearest neighbors' indices:\", indices)\n",
        "print(\"Top 5 nearest neighbors' distances:\", distances)\n"
      ],
      "metadata": {
        "colab": {
          "base_uri": "https://localhost:8080/"
        },
        "id": "RS5CBsqN3a-J",
        "outputId": "b8ba30d4-90c5-4fff-cb5b-d0dff7a2a0b3"
      },
      "execution_count": 84,
      "outputs": [
        {
          "output_type": "stream",
          "name": "stdout",
          "text": [
            "Top 5 nearest neighbors' indices: [[ 1  0  2 -1 -1]]\n",
            "Top 5 nearest neighbors' distances: [[ 1.9852403e-01  1.9852403e-01 -5.7216984e-01 -3.4028235e+38\n",
            "  -3.4028235e+38]]\n"
          ]
        }
      ]
    },
    {
      "cell_type": "code",
      "source": [
        "# Save the FAISS index to a file\n",
        "faiss.write_index(index, '/content/drive/My Drive/faiss_index.index')\n",
        "\n",
        "# You can later read the index back from the saved file\n",
        "# index = faiss.read_index('/content/drive/My Drive/faiss_index.index')\n"
      ],
      "metadata": {
        "id": "L70McqIo3dfd"
      },
      "execution_count": 85,
      "outputs": []
    },
    {
      "cell_type": "code",
      "source": [
        "# Example query: Create a random query vector for testing (in real scenarios, this will be your query embedding)\n",
        "query_embedding = np.random.random((1, embedding_dimension)).astype('float32')\n",
        "\n",
        "# Retrieve the top 5 nearest neighbors\n",
        "k = 5\n",
        "distances, indices = index.search(query_embedding, k)\n",
        "\n",
        "# Display the results\n",
        "print(\"Top 5 nearest neighbors' indices:\", indices)\n",
        "print(\"Top 5 nearest neighbors' distances:\", distances)\n"
      ],
      "metadata": {
        "colab": {
          "base_uri": "https://localhost:8080/"
        },
        "id": "X4vAa9-43gPl",
        "outputId": "9186c5b9-8e28-4aa5-e773-8a32581d97cf"
      },
      "execution_count": 86,
      "outputs": [
        {
          "output_type": "stream",
          "name": "stdout",
          "text": [
            "Top 5 nearest neighbors' indices: [[ 1  0  2 -1 -1]]\n",
            "Top 5 nearest neighbors' distances: [[ 3.5174194e-01  3.5174194e-01 -7.1926439e-01 -3.4028235e+38\n",
            "  -3.4028235e+38]]\n"
          ]
        }
      ]
    },
    {
      "cell_type": "markdown",
      "source": [
        "**Prepare Query Embedding**"
      ],
      "metadata": {
        "id": "52ZGJInz4qDd"
      }
    },
    {
      "cell_type": "markdown",
      "source": [
        "Step 1: Load the necessary libraries and the embeddings\n",
        "python\n",
        "Copy code\n"
      ],
      "metadata": {
        "id": "jNLxKbKR5XMx"
      }
    },
    {
      "cell_type": "code",
      "source": [
        "!pip install SpeechRecognition\n"
      ],
      "metadata": {
        "colab": {
          "base_uri": "https://localhost:8080/"
        },
        "id": "ullqRiFj95V_",
        "outputId": "8f9195be-a2e0-4af5-ce16-502ada77b99e"
      },
      "execution_count": 87,
      "outputs": [
        {
          "output_type": "stream",
          "name": "stdout",
          "text": [
            "Requirement already satisfied: SpeechRecognition in /usr/local/lib/python3.10/dist-packages (3.11.0)\n",
            "Requirement already satisfied: requests>=2.26.0 in /usr/local/lib/python3.10/dist-packages (from SpeechRecognition) (2.32.3)\n",
            "Requirement already satisfied: typing-extensions in /usr/local/lib/python3.10/dist-packages (from SpeechRecognition) (4.12.2)\n",
            "Requirement already satisfied: charset-normalizer<4,>=2 in /usr/local/lib/python3.10/dist-packages (from requests>=2.26.0->SpeechRecognition) (3.4.0)\n",
            "Requirement already satisfied: idna<4,>=2.5 in /usr/local/lib/python3.10/dist-packages (from requests>=2.26.0->SpeechRecognition) (3.10)\n",
            "Requirement already satisfied: urllib3<3,>=1.21.1 in /usr/local/lib/python3.10/dist-packages (from requests>=2.26.0->SpeechRecognition) (2.2.3)\n",
            "Requirement already satisfied: certifi>=2017.4.17 in /usr/local/lib/python3.10/dist-packages (from requests>=2.26.0->SpeechRecognition) (2024.8.30)\n"
          ]
        }
      ]
    },
    {
      "cell_type": "code",
      "source": [
        "!pip install pydub\n",
        "!pip install SpeechRecognition\n",
        "!apt-get install ffmpeg  # Install ffmpeg if you are using MP3 files\n"
      ],
      "metadata": {
        "colab": {
          "base_uri": "https://localhost:8080/"
        },
        "id": "0i16ki1Z-kFz",
        "outputId": "52451abd-264f-4c36-c247-543a2b1bb572"
      },
      "execution_count": 88,
      "outputs": [
        {
          "output_type": "stream",
          "name": "stdout",
          "text": [
            "Requirement already satisfied: pydub in /usr/local/lib/python3.10/dist-packages (0.25.1)\n",
            "Requirement already satisfied: SpeechRecognition in /usr/local/lib/python3.10/dist-packages (3.11.0)\n",
            "Requirement already satisfied: requests>=2.26.0 in /usr/local/lib/python3.10/dist-packages (from SpeechRecognition) (2.32.3)\n",
            "Requirement already satisfied: typing-extensions in /usr/local/lib/python3.10/dist-packages (from SpeechRecognition) (4.12.2)\n",
            "Requirement already satisfied: charset-normalizer<4,>=2 in /usr/local/lib/python3.10/dist-packages (from requests>=2.26.0->SpeechRecognition) (3.4.0)\n",
            "Requirement already satisfied: idna<4,>=2.5 in /usr/local/lib/python3.10/dist-packages (from requests>=2.26.0->SpeechRecognition) (3.10)\n",
            "Requirement already satisfied: urllib3<3,>=1.21.1 in /usr/local/lib/python3.10/dist-packages (from requests>=2.26.0->SpeechRecognition) (2.2.3)\n",
            "Requirement already satisfied: certifi>=2017.4.17 in /usr/local/lib/python3.10/dist-packages (from requests>=2.26.0->SpeechRecognition) (2024.8.30)\n",
            "Reading package lists... Done\n",
            "Building dependency tree... Done\n",
            "Reading state information... Done\n",
            "ffmpeg is already the newest version (7:4.4.2-0ubuntu0.22.04.1).\n",
            "0 upgraded, 0 newly installed, 0 to remove and 49 not upgraded.\n"
          ]
        }
      ]
    },
    {
      "cell_type": "code",
      "source": [
        "import numpy as np\n",
        "import faiss\n",
        "from sentence_transformers import SentenceTransformer\n",
        "import pickle\n",
        "import os\n",
        "\n",
        "# Step 1: Load the Sentence Transformer model\n",
        "model = SentenceTransformer('all-MiniLM-L6-v2')\n",
        "\n",
        "# Step 2: Load your embeddings from Google Drive (make sure they are in numpy format)\n",
        "embeddings_txt = np.load('/content/drive/MyDrive/MES_Files/embeddings_txt.npy')\n",
        "embeddings_pdf = np.load('/content/drive/MyDrive/MES_Files/embeddings_pdf.npy')\n",
        "embeddings_audio = np.load('/content/drive/MyDrive/MES_Files/embeddings_audio.npy')\n",
        "\n",
        "# Step 3: Load the original documents (actual text files or other formats)\n",
        "documents_txt = [\"RAG_text\"\n",
        "\n",
        "]  # Example for text documents\n",
        "\n",
        "documents_pdf = [\"RAG_text_pdf\"\n",
        "\n",
        "]  # Example for PDF documents\n",
        "\n",
        "documents_audio = [\"RAG_video\"\n",
        "\n",
        "]  # Example for audio documents\n",
        "\n",
        "# Step 4: Combine all embeddings and documents\n",
        "all_embeddings = np.concatenate([embeddings_txt, embeddings_pdf, embeddings_audio], axis=0)\n",
        "all_documents = documents_txt + documents_pdf + documents_audio  # Combine all document contents\n",
        "\n",
        "# Step 5: Create or load FAISS index\n",
        "dim = all_embeddings.shape[1]  # Dimensionality of the embeddings\n",
        "index = faiss.IndexFlatL2(dim)  # Using L2 distance metric\n",
        "index.add(all_embeddings)  # Add embeddings to the index\n",
        "\n",
        "# Step 6: Map FAISS indices to documents\n",
        "document_map = {i: all_documents[i] for i in range(len(all_documents))}\n",
        "\n",
        "# Step 7: Save the document_map for later retrieval (in case you want to load it later)\n",
        "with open('/content/drive/MyDrive/document_map.pkl', 'wb') as f:\n",
        "    pickle.dump(document_map, f)\n",
        "\n",
        "# Step 8: Function to retrieve corresponding document based on FAISS search result\n",
        "def retrieve_documents_from_faiss(query_embedding, index, document_map, k=5):\n",
        "    # Perform the search\n",
        "    _, indices = index.search(query_embedding, k)  # Get top k results\n",
        "\n",
        "    # Retrieve the documents based on the FAISS indices, ignoring -1 indices\n",
        "    retrieved_documents = [document_map[i] for i in indices[0] if i != -1]\n",
        "    return retrieved_documents\n",
        "# step 9\n",
        "file_path = \"/content/drive/MyDrive/MES_Files/cleaned_transcribed_text.txt\"  # Update with the correct path\n",
        "if not os.path.exists(file_path):\n",
        "    raise FileNotFoundError(f\"The file '{file_path}' does not exist. \"\n",
        "                            f\"Please make sure the file is present or provide the correct path.\")\n",
        "\n",
        "with open(file_path, \"r\") as file:\n",
        "    transcribed_text = file.read()\n",
        "\n",
        "# Step 10: Generate the embedding for the transcribed text\n",
        "query_embedding = model.encode([transcribed_text])\n",
        "\n",
        "# Step 11: Retrieve relevant documents based on the query embedding\n",
        "retrieved_docs = retrieve_documents_from_faiss(query_embedding, index, document_map)\n",
        "\n",
        "# Step 12: Print the retrieved documents\n",
        "for doc in retrieved_docs:\n",
        "    print(doc)"
      ],
      "metadata": {
        "colab": {
          "base_uri": "https://localhost:8080/"
        },
        "id": "koKXxDqS5X9M",
        "outputId": "cabb1636-7f37-49d9-f4af-b597d5bfadcb"
      },
      "execution_count": 90,
      "outputs": [
        {
          "output_type": "stream",
          "name": "stdout",
          "text": [
            "RAG_video\n",
            "RAG_text\n",
            "RAG_text_pdf\n"
          ]
        }
      ]
    },
    {
      "cell_type": "markdown",
      "source": [
        "Step 2: Write a function to process the query and search the database"
      ],
      "metadata": {
        "id": "wffH8AkS5qkU"
      }
    },
    {
      "cell_type": "code",
      "source": [
        "def search_query(query, index, model, top_k=5):\n",
        "    # Convert query to embedding\n",
        "    query_embedding = model.encode([query])\n",
        "\n",
        "    # Perform the search in the FAISS index\n",
        "    distances, indices = index.search(query_embedding, top_k)\n",
        "\n",
        "    return distances, indices\n"
      ],
      "metadata": {
        "id": "NNYeQVFg5aJI"
      },
      "execution_count": 91,
      "outputs": []
    },
    {
      "cell_type": "markdown",
      "source": [
        "Step 3: Retrieve the most relevant results from FAISS"
      ],
      "metadata": {
        "id": "WhJGrMpK5vrO"
      }
    },
    {
      "cell_type": "code",
      "source": [
        "# Example query related to MES\n",
        "query = \"What is the process of material management in MES?\"\n",
        "\n",
        "# Search the query in the FAISS index\n",
        "distances, indices = search_query(query, index, model)\n",
        "\n",
        "# Print the most relevant results (top_k closest documents)\n",
        "print(\"Top results for query:\", query)\n",
        "for i, idx in enumerate(indices[0]):\n",
        "    print(f\"Result {i+1}:\")\n",
        "    if idx < len(embeddings_txt):\n",
        "        source = 'Text (TXT)'\n",
        "    elif idx < len(embeddings_txt) + len(embeddings_pdf):\n",
        "        source = 'Text (PDF)'\n",
        "    else:\n",
        "        source = 'Text (Audio)'\n",
        "\n",
        "    print(f\"Source: {source} | Distance: {distances[0][i]}\")\n",
        "    # You can return the actual document or text associated with the embedding (you would need to store the documents in a list)\n",
        "    print(f\"Document Content: {all_embeddings[idx]} \\n\\n\")\n"
      ],
      "metadata": {
        "colab": {
          "base_uri": "https://localhost:8080/"
        },
        "id": "ZRNCtbpI5ssU",
        "outputId": "9a24b27c-c929-4da4-c14f-ee888aa3059f"
      },
      "execution_count": 92,
      "outputs": [
        {
          "output_type": "stream",
          "name": "stdout",
          "text": [
            "Top results for query: What is the process of material management in MES?\n",
            "Result 1:\n",
            "Source: Text (Audio) | Distance: 0.7817662954330444\n",
            "Document Content: [-2.81377193e-02  1.08364159e-02 -1.68290976e-02  8.96473229e-03\n",
            " -1.91974621e-02 -5.60550019e-02  5.99054396e-02  1.10962495e-01\n",
            " -5.02063185e-02  5.70579022e-02 -2.01693010e-02 -6.16779067e-02\n",
            " -2.13465709e-02  6.18569599e-03 -4.46746573e-02  1.49200056e-02\n",
            "  1.22437462e-01 -5.58001511e-02 -5.03663011e-02 -2.17202753e-02\n",
            "  7.73597835e-03 -3.19604501e-02 -6.65669590e-02  2.67106108e-03\n",
            " -1.31063893e-01  2.59651872e-03 -8.40959772e-02  2.72645261e-02\n",
            "  3.65814776e-04 -1.05566032e-01 -4.58217040e-02  3.08121573e-02\n",
            "  1.31280765e-01  3.19057405e-02  5.69830835e-03  5.82956187e-02\n",
            "  7.89410099e-02 -8.47371016e-03 -9.36729833e-03 -7.55671933e-02\n",
            " -9.70806852e-02 -4.53101881e-02 -3.26452293e-02  2.01059170e-02\n",
            "  2.81315763e-02  3.52940038e-02 -6.04527779e-02 -1.22288465e-02\n",
            "  4.56640571e-02  1.59336962e-02 -6.68828934e-02 -1.75219271e-02\n",
            "  1.85099784e-02  3.61406766e-02  3.45843695e-02  5.70838191e-02\n",
            "  1.96973644e-02  4.46085371e-02 -2.96399910e-02 -3.42543572e-02\n",
            " -1.10785961e-02 -2.58308630e-02 -2.42478168e-03  4.62014833e-03\n",
            " -7.82663841e-03  2.76758019e-02 -8.96712840e-02  5.72373271e-02\n",
            " -6.73368424e-02 -3.34176607e-02 -3.45220007e-02 -4.46604341e-02\n",
            " -1.01525284e-01  5.48230037e-02  1.42052220e-02  7.91513268e-03\n",
            "  2.47625150e-02 -7.30638355e-02 -2.25643395e-03 -5.75148985e-02\n",
            " -5.95708229e-02  3.92224118e-02 -3.92615199e-02 -7.22219273e-02\n",
            " -3.31623219e-02  9.42316186e-03  4.97606508e-02 -1.14493223e-03\n",
            "  3.68571430e-02  1.09435245e-03  5.62728569e-03 -9.46693122e-02\n",
            " -1.06289908e-02 -8.55800807e-02  1.07374471e-02 -2.23386753e-02\n",
            "  1.24847563e-02  5.62887192e-02  3.14624719e-02 -5.07621728e-02\n",
            "  7.13508800e-02  2.89278403e-02 -2.10850816e-02 -2.85977926e-02\n",
            " -1.23015307e-01 -2.99033476e-03 -2.93719862e-02  3.45270224e-02\n",
            "  2.57817935e-02  2.31513977e-02 -5.82563952e-02  5.43309841e-03\n",
            " -1.24086745e-01 -1.29733756e-01  6.09292015e-02 -1.74809396e-02\n",
            " -4.42727916e-02  8.66120085e-02  7.71338716e-02  1.03374780e-03\n",
            "  1.25973048e-02  1.73766017e-02  1.70133747e-02 -7.60264993e-02\n",
            " -2.13834345e-02  4.84296493e-02  2.91370731e-02  2.12474498e-32\n",
            " -8.93004909e-02 -1.23568689e-02 -7.34345093e-02  7.51423240e-02\n",
            "  1.38006685e-02 -2.86723990e-02 -3.20149213e-02  4.17232960e-02\n",
            " -1.68148316e-02 -1.78547017e-02 -2.19769459e-02  7.68347755e-02\n",
            " -6.64105415e-02  4.03476097e-02  5.28770611e-02 -5.07309102e-02\n",
            "  3.89125086e-02  4.29142220e-03  1.75128167e-03  8.73854908e-04\n",
            " -2.08307207e-02 -3.54955047e-02 -6.67561824e-03 -3.84141281e-02\n",
            "  1.15804926e-01 -1.14214988e-02  2.76917331e-02  3.25787216e-02\n",
            "  8.94949213e-03  1.39139069e-03 -4.57484089e-03  3.73090282e-02\n",
            " -8.44984800e-02 -2.47132536e-02 -3.78016010e-02  2.82753129e-02\n",
            " -7.68662840e-02 -6.24976046e-02  3.86752523e-02 -7.15065002e-02\n",
            " -4.45653908e-02  4.06517684e-02 -3.74471918e-02 -2.53946260e-02\n",
            "  2.52461769e-02 -1.80529174e-03  5.80405556e-02 -3.00020166e-03\n",
            " -1.15386595e-03  1.40216073e-03 -3.74408290e-02  2.08815876e-02\n",
            "  1.19981132e-01 -7.79295638e-02  7.99720734e-03 -2.34198514e-02\n",
            "  4.32309099e-02 -5.69893122e-02  4.36202586e-02  9.44502577e-02\n",
            " -1.05929479e-01  2.65765991e-02 -5.74239343e-02  7.60196075e-02\n",
            "  2.06528232e-02 -3.68233435e-02  4.39048074e-02  1.84479710e-02\n",
            "  8.44605044e-02  1.27820969e-01 -5.90229891e-02 -5.77215217e-02\n",
            "  5.87416813e-02  4.44763824e-02 -7.48802861e-03  1.48789035e-02\n",
            " -5.73235331e-03  2.50119753e-02 -1.29032031e-01 -8.55312031e-03\n",
            " -1.86293237e-02  6.79189935e-02  1.15290387e-02  6.61815004e-03\n",
            "  5.37383072e-02 -2.98316739e-02  3.01283244e-02  7.01098703e-03\n",
            "  1.12068746e-02  1.66518446e-02 -6.39130697e-02  4.51670773e-03\n",
            " -3.30758058e-02  9.34360698e-02 -6.67700619e-02 -2.16430962e-32\n",
            "  6.82726270e-03 -6.31410163e-03 -3.30258656e-04  6.88132038e-03\n",
            "  1.55257806e-02  1.51863545e-02  3.43514346e-02 -8.17462951e-02\n",
            "  2.98958234e-02  2.35356931e-02 -6.17775647e-03 -1.82833839e-02\n",
            " -7.35237673e-02 -7.02169677e-03 -7.20500648e-02 -1.61572527e-02\n",
            " -6.16357215e-02 -3.92168686e-02 -1.60820931e-02 -3.51295359e-02\n",
            " -5.54789640e-02  1.55608878e-01 -3.96399014e-02  6.04048837e-03\n",
            " -4.41707522e-02  3.80970375e-03 -5.03683090e-02 -9.04686004e-03\n",
            "  6.21293001e-02 -5.57375513e-02  2.69896369e-02 -1.05342478e-01\n",
            " -2.61509754e-02  1.86847430e-02 -4.90217395e-02 -9.19286832e-02\n",
            " -2.99320836e-02 -4.60514501e-02  2.34110095e-02  3.90210673e-02\n",
            "  1.00166768e-01  1.52788535e-02 -3.46764438e-02  4.21226956e-02\n",
            " -8.72701257e-02 -7.71374404e-02 -5.18616801e-03 -3.02334186e-02\n",
            "  1.98898185e-03 -1.47891808e-02 -6.88486472e-02 -3.86622138e-02\n",
            " -2.51588728e-02 -4.11136001e-02  2.16214405e-03 -2.05395911e-02\n",
            "  8.97334367e-02 -5.96814230e-02 -4.68989313e-02 -1.15386192e-02\n",
            " -2.29848805e-03  2.75493823e-02  1.05918169e-01  3.08213383e-02\n",
            "  3.71277109e-02 -2.00232342e-02  6.35308325e-02 -1.07369795e-01\n",
            " -2.33405139e-02 -1.85734592e-02  2.39730105e-02 -1.78795941e-02\n",
            " -8.12218431e-03 -2.86871940e-02  2.55528074e-02 -3.51864174e-02\n",
            " -2.63131000e-02 -6.12584651e-02 -3.24698165e-02 -5.79164885e-02\n",
            " -5.28426617e-02 -4.59354185e-02  2.21356563e-03  2.55646668e-02\n",
            " -2.41355933e-02  1.13291796e-02 -4.59882580e-02  2.23369021e-02\n",
            "  7.27170110e-02  2.77150478e-02 -7.72780972e-03 -8.41446035e-03\n",
            " -6.06411919e-02  7.72836059e-02 -6.29066601e-02 -5.88943045e-08\n",
            " -2.12807562e-02 -1.10504786e-02  1.18505962e-01  4.64289971e-02\n",
            " -2.17891335e-02 -7.11545125e-02 -4.64605503e-02  6.12117797e-02\n",
            " -2.54696002e-03  6.32372722e-02  3.27644944e-02 -6.93704858e-02\n",
            " -3.32840011e-02  9.92169953e-04  8.87541920e-02  1.93743613e-02\n",
            "  4.71095107e-02  8.27557519e-02 -3.99673879e-02 -4.88243327e-02\n",
            "  2.55321842e-02  1.66918058e-03  2.90452922e-03  5.39862588e-02\n",
            "  1.05085736e-02 -4.12734188e-02 -3.33154351e-02  6.12682551e-02\n",
            "  6.47795899e-03  5.82917593e-02  4.75316644e-02  2.67203115e-02\n",
            "  4.67242077e-02 -1.94092542e-02  2.45653801e-02 -8.84537846e-02\n",
            " -4.53791842e-02  4.86606173e-03  2.04640385e-02 -1.61449909e-02\n",
            " -8.29117000e-03  3.51197645e-02  4.13471684e-02  9.19032767e-02\n",
            " -1.75819863e-02  2.38360539e-02 -1.47897333e-01 -1.18536996e-02\n",
            " -3.23684067e-02  6.35520183e-03  2.84890532e-02 -8.26345310e-02\n",
            "  1.04279347e-01  8.53681043e-02  4.75740843e-02  6.24664426e-02\n",
            "  5.26668876e-02 -4.66427170e-02  1.22619778e-01 -1.96146145e-02\n",
            "  9.51888561e-02  8.04003794e-03  7.64975324e-04 -2.92732511e-02] \n",
            "\n",
            "\n",
            "Result 2:\n",
            "Source: Text (TXT) | Distance: 1.9272916316986084\n",
            "Document Content: [-4.41044047e-02 -2.72892788e-03 -1.45913046e-02  3.20033776e-03\n",
            "  4.15496342e-02  1.32006025e-02  1.67839974e-01 -4.68231663e-02\n",
            "  4.79920283e-02 -2.91355792e-02 -3.33277918e-02 -2.94932611e-02\n",
            "  1.42698940e-02 -5.04993126e-02 -1.81409493e-02  1.36536837e-01\n",
            "  3.13233174e-02 -1.49606183e-01 -1.10669345e-01 -3.62861454e-02\n",
            " -5.57800345e-02  6.17712513e-02 -8.21157992e-02  7.15824664e-02\n",
            " -5.89261129e-02  7.37961680e-02 -1.42028891e-02  4.13233824e-02\n",
            "  1.20790973e-02 -4.91684861e-02 -2.19017994e-02  9.92533788e-02\n",
            "  4.63224463e-02  2.58830469e-03 -5.68044931e-02 -7.11563081e-02\n",
            "  3.04925209e-03 -8.97285156e-03 -7.35042095e-02 -1.55429384e-02\n",
            " -2.39273589e-02 -8.61127526e-02 -3.08729019e-02 -2.17366368e-02\n",
            "  1.04667665e-02  1.66057460e-02 -1.75650418e-02  3.28126997e-02\n",
            "  2.51186248e-02  2.30975132e-02 -1.51554961e-02 -2.24319752e-02\n",
            " -7.05966949e-02  3.22031975e-02  4.00214083e-02  1.33420035e-01\n",
            " -3.27963792e-02 -2.63980273e-02  7.70291463e-02 -1.71737541e-02\n",
            " -1.47235002e-02  5.78692295e-02 -4.41945903e-02  2.30970122e-02\n",
            "  8.74766409e-02  3.35996635e-02 -8.78513828e-02  2.86327787e-02\n",
            " -5.12238853e-02 -5.13525382e-02 -4.07120809e-02  1.49873528e-03\n",
            "  5.11537455e-02 -2.02648094e-04  7.70585760e-02 -1.99910928e-03\n",
            "  6.18436225e-02 -9.81296748e-02  1.13882646e-02 -5.77582568e-02\n",
            "  4.34173457e-02 -1.01039581e-01 -9.99789461e-02  6.41879216e-02\n",
            "  2.19871718e-02  2.47578118e-02 -3.07699461e-02  6.68334588e-02\n",
            " -7.23862275e-02  1.67727694e-02 -5.06056510e-02 -3.85110523e-03\n",
            " -2.02789009e-02 -9.55702644e-03 -1.07847445e-01  5.99542968e-02\n",
            "  4.46673594e-02 -1.30280867e-01  1.24020465e-02  1.23021007e-01\n",
            "  4.76988442e-02 -3.19613107e-02 -2.26260163e-02 -3.29752341e-02\n",
            "  1.54353073e-02 -3.44055146e-02  7.51951039e-02  3.28253359e-02\n",
            "  7.52335712e-02 -2.85331402e-02 -1.63403191e-02 -6.22081235e-02\n",
            " -2.71565318e-02 -3.48324999e-02 -2.72439681e-02  7.71650299e-02\n",
            " -6.13304647e-03  1.39759080e-02 -5.30622937e-02 -9.43382159e-02\n",
            "  6.06814772e-02 -1.85688734e-02  5.66729493e-02 -2.83418526e-03\n",
            " -4.83716018e-02 -4.98511456e-02 -4.68559414e-02 -3.60641887e-33\n",
            "  1.15862004e-01  4.41035116e-03  7.52681643e-02  6.16581254e-02\n",
            "  6.45632371e-02 -1.96428318e-02 -1.60002206e-02  1.49344848e-02\n",
            " -4.91524450e-02  2.61460673e-02 -1.34663610e-02  2.05836911e-02\n",
            " -4.06993777e-02 -7.49998465e-02  1.30782381e-01 -3.98004577e-02\n",
            " -4.99333953e-03 -3.52398939e-02 -1.07946977e-01  5.34465723e-02\n",
            " -1.19320087e-01  8.89115334e-02 -5.98066673e-02  4.11916636e-02\n",
            "  1.98813677e-02 -6.16703741e-02  4.76852432e-02  2.87651308e-02\n",
            "  6.10261820e-02  3.45219299e-02  9.02433097e-02  6.51451871e-02\n",
            " -5.85846510e-03  2.73884423e-02 -2.96755061e-02 -4.81156558e-02\n",
            " -3.08513083e-02 -3.65908705e-02 -5.63024804e-02  4.88516502e-03\n",
            " -2.49838457e-02  4.39977609e-02 -7.98247233e-02  4.13938612e-02\n",
            " -1.88606803e-03  7.63002923e-03  7.64515474e-02 -1.44258030e-02\n",
            " -4.38956209e-02  3.31012867e-02 -6.23019114e-02  2.56535150e-02\n",
            " -1.89861376e-02 -5.60784228e-02  3.87846828e-02  1.69539750e-02\n",
            "  5.73366210e-02  2.76646186e-02 -1.15009556e-02  1.15079544e-02\n",
            "  5.87939620e-02 -1.10893222e-02  1.21237785e-02  3.14977393e-02\n",
            "  1.98868755e-02 -1.01636415e-02  3.70528325e-02  3.61869088e-03\n",
            " -2.96961702e-02 -9.69320387e-02 -2.29527541e-02  1.00489315e-02\n",
            "  8.46822783e-02 -2.24865153e-02 -1.09473504e-02 -7.76226595e-02\n",
            "  6.64348826e-02 -1.47834597e-02 -4.24558222e-02 -1.39535032e-02\n",
            " -4.25128266e-02  1.67031903e-05  9.00806338e-02 -1.02116801e-02\n",
            " -2.38587521e-02  1.99413653e-02 -1.85896344e-02 -1.73470378e-02\n",
            " -2.76581682e-02 -7.46377259e-02 -6.44884780e-02 -3.96594517e-02\n",
            "  5.95286414e-02 -9.71317515e-02 -1.01904601e-01  2.19190317e-33\n",
            " -5.95068373e-03 -3.59731205e-02 -3.17395218e-02  6.76075071e-02\n",
            "  3.45461369e-02 -2.91043594e-02  3.00903954e-02  7.44287819e-02\n",
            "  8.83508660e-03  4.49407361e-02  1.29795987e-02  8.87164026e-02\n",
            "  4.08030488e-02  3.94183621e-02  3.25991362e-02  1.93811543e-02\n",
            "  5.04755080e-02  3.03025823e-02 -1.88645106e-02  2.74370629e-02\n",
            " -6.31273072e-03 -1.41211562e-02  5.06599620e-02 -2.95025427e-02\n",
            " -4.63505797e-02  5.83603606e-02  4.76034768e-02  6.44765645e-02\n",
            " -6.12813383e-05  9.55875125e-03 -7.77796563e-03  5.48437387e-02\n",
            " -1.80284511e-02  3.53190973e-02  1.90012511e-02  9.19965059e-02\n",
            "  4.24840078e-02 -1.29084334e-01 -8.15862790e-02  4.73051555e-02\n",
            " -6.33241385e-02 -3.51583697e-02  2.48934515e-02 -7.97693804e-03\n",
            " -4.68728319e-02 -3.07258591e-02 -2.80537736e-02  1.08155519e-01\n",
            "  2.99206786e-02 -4.35270369e-02  8.25757440e-03 -6.55391254e-03\n",
            " -6.01952570e-03  7.32161030e-02  3.38126048e-02 -3.11761163e-02\n",
            " -2.42567752e-02  8.53853226e-02  4.35847193e-02  8.58640857e-03\n",
            "  1.74553934e-02  4.16511158e-03 -2.61500999e-02  2.61029997e-03\n",
            " -1.31692858e-02  3.81804481e-02 -2.59605236e-03  1.29734483e-02\n",
            " -4.53095101e-02 -1.93565562e-02 -2.89223231e-02 -9.12918523e-02\n",
            " -5.44234850e-02  9.45305005e-02  2.55002193e-02 -1.32698165e-02\n",
            "  1.21355131e-02  7.11243786e-03 -7.88746625e-02  5.68291806e-02\n",
            " -4.92420048e-02 -4.09237156e-03  2.45355461e-02  6.91670030e-02\n",
            " -3.15083191e-02 -9.78745427e-03  4.58274558e-02 -8.23834725e-03\n",
            " -4.93423976e-02 -9.36851352e-02 -3.40111600e-03  4.03905474e-02\n",
            "  1.53541323e-02  3.74964885e-02 -5.06748892e-02 -1.24307959e-08\n",
            "  4.35789675e-03 -3.11176721e-02 -1.50113879e-02 -1.10895820e-02\n",
            "  1.38243823e-03  8.06686562e-03  3.74331661e-02 -5.07589467e-02\n",
            "  4.51671481e-02  1.84672829e-02 -4.14026752e-02  5.28005883e-03\n",
            " -4.38491628e-03  8.63808021e-02  1.57859817e-03 -5.69058619e-02\n",
            " -1.27154037e-01 -4.20439094e-02  5.15238522e-03  5.76790236e-02\n",
            " -8.77570733e-03  1.01858536e-02  3.00267799e-04 -1.23783788e-02\n",
            " -9.39241704e-03  1.65512357e-02 -5.01741208e-02  2.33264826e-03\n",
            "  9.10780430e-02  4.69482876e-02  3.51801626e-02  1.31009161e-01\n",
            "  1.83170605e-02 -5.18304817e-02 -6.95679188e-02 -1.11165475e-02\n",
            " -3.40755247e-02  9.74753052e-02 -1.90229062e-02  1.80217009e-02\n",
            "  5.39736114e-02  3.90635468e-02 -3.40933762e-02 -2.28302702e-02\n",
            "  1.30213555e-02 -3.05019449e-02  4.86667119e-02  3.21983732e-02\n",
            " -5.18947244e-02 -5.76373115e-02 -6.95691351e-03  1.13958828e-02\n",
            "  3.61123718e-02 -9.86927003e-03  5.98406978e-02 -7.85137340e-02\n",
            "  1.54400552e-02  5.18336594e-02  6.72317576e-03  6.14625309e-03\n",
            "  7.31631443e-02  6.04488095e-03 -8.91587883e-02  4.75452989e-02] \n",
            "\n",
            "\n",
            "Result 3:\n",
            "Source: Text (PDF) | Distance: 1.9272916316986084\n",
            "Document Content: [-4.41044047e-02 -2.72892788e-03 -1.45913046e-02  3.20033776e-03\n",
            "  4.15496342e-02  1.32006025e-02  1.67839974e-01 -4.68231663e-02\n",
            "  4.79920283e-02 -2.91355792e-02 -3.33277918e-02 -2.94932611e-02\n",
            "  1.42698940e-02 -5.04993126e-02 -1.81409493e-02  1.36536837e-01\n",
            "  3.13233174e-02 -1.49606183e-01 -1.10669345e-01 -3.62861454e-02\n",
            " -5.57800345e-02  6.17712513e-02 -8.21157992e-02  7.15824664e-02\n",
            " -5.89261129e-02  7.37961680e-02 -1.42028891e-02  4.13233824e-02\n",
            "  1.20790973e-02 -4.91684861e-02 -2.19017994e-02  9.92533788e-02\n",
            "  4.63224463e-02  2.58830469e-03 -5.68044931e-02 -7.11563081e-02\n",
            "  3.04925209e-03 -8.97285156e-03 -7.35042095e-02 -1.55429384e-02\n",
            " -2.39273589e-02 -8.61127526e-02 -3.08729019e-02 -2.17366368e-02\n",
            "  1.04667665e-02  1.66057460e-02 -1.75650418e-02  3.28126997e-02\n",
            "  2.51186248e-02  2.30975132e-02 -1.51554961e-02 -2.24319752e-02\n",
            " -7.05966949e-02  3.22031975e-02  4.00214083e-02  1.33420035e-01\n",
            " -3.27963792e-02 -2.63980273e-02  7.70291463e-02 -1.71737541e-02\n",
            " -1.47235002e-02  5.78692295e-02 -4.41945903e-02  2.30970122e-02\n",
            "  8.74766409e-02  3.35996635e-02 -8.78513828e-02  2.86327787e-02\n",
            " -5.12238853e-02 -5.13525382e-02 -4.07120809e-02  1.49873528e-03\n",
            "  5.11537455e-02 -2.02648094e-04  7.70585760e-02 -1.99910928e-03\n",
            "  6.18436225e-02 -9.81296748e-02  1.13882646e-02 -5.77582568e-02\n",
            "  4.34173457e-02 -1.01039581e-01 -9.99789461e-02  6.41879216e-02\n",
            "  2.19871718e-02  2.47578118e-02 -3.07699461e-02  6.68334588e-02\n",
            " -7.23862275e-02  1.67727694e-02 -5.06056510e-02 -3.85110523e-03\n",
            " -2.02789009e-02 -9.55702644e-03 -1.07847445e-01  5.99542968e-02\n",
            "  4.46673594e-02 -1.30280867e-01  1.24020465e-02  1.23021007e-01\n",
            "  4.76988442e-02 -3.19613107e-02 -2.26260163e-02 -3.29752341e-02\n",
            "  1.54353073e-02 -3.44055146e-02  7.51951039e-02  3.28253359e-02\n",
            "  7.52335712e-02 -2.85331402e-02 -1.63403191e-02 -6.22081235e-02\n",
            " -2.71565318e-02 -3.48324999e-02 -2.72439681e-02  7.71650299e-02\n",
            " -6.13304647e-03  1.39759080e-02 -5.30622937e-02 -9.43382159e-02\n",
            "  6.06814772e-02 -1.85688734e-02  5.66729493e-02 -2.83418526e-03\n",
            " -4.83716018e-02 -4.98511456e-02 -4.68559414e-02 -3.60641887e-33\n",
            "  1.15862004e-01  4.41035116e-03  7.52681643e-02  6.16581254e-02\n",
            "  6.45632371e-02 -1.96428318e-02 -1.60002206e-02  1.49344848e-02\n",
            " -4.91524450e-02  2.61460673e-02 -1.34663610e-02  2.05836911e-02\n",
            " -4.06993777e-02 -7.49998465e-02  1.30782381e-01 -3.98004577e-02\n",
            " -4.99333953e-03 -3.52398939e-02 -1.07946977e-01  5.34465723e-02\n",
            " -1.19320087e-01  8.89115334e-02 -5.98066673e-02  4.11916636e-02\n",
            "  1.98813677e-02 -6.16703741e-02  4.76852432e-02  2.87651308e-02\n",
            "  6.10261820e-02  3.45219299e-02  9.02433097e-02  6.51451871e-02\n",
            " -5.85846510e-03  2.73884423e-02 -2.96755061e-02 -4.81156558e-02\n",
            " -3.08513083e-02 -3.65908705e-02 -5.63024804e-02  4.88516502e-03\n",
            " -2.49838457e-02  4.39977609e-02 -7.98247233e-02  4.13938612e-02\n",
            " -1.88606803e-03  7.63002923e-03  7.64515474e-02 -1.44258030e-02\n",
            " -4.38956209e-02  3.31012867e-02 -6.23019114e-02  2.56535150e-02\n",
            " -1.89861376e-02 -5.60784228e-02  3.87846828e-02  1.69539750e-02\n",
            "  5.73366210e-02  2.76646186e-02 -1.15009556e-02  1.15079544e-02\n",
            "  5.87939620e-02 -1.10893222e-02  1.21237785e-02  3.14977393e-02\n",
            "  1.98868755e-02 -1.01636415e-02  3.70528325e-02  3.61869088e-03\n",
            " -2.96961702e-02 -9.69320387e-02 -2.29527541e-02  1.00489315e-02\n",
            "  8.46822783e-02 -2.24865153e-02 -1.09473504e-02 -7.76226595e-02\n",
            "  6.64348826e-02 -1.47834597e-02 -4.24558222e-02 -1.39535032e-02\n",
            " -4.25128266e-02  1.67031903e-05  9.00806338e-02 -1.02116801e-02\n",
            " -2.38587521e-02  1.99413653e-02 -1.85896344e-02 -1.73470378e-02\n",
            " -2.76581682e-02 -7.46377259e-02 -6.44884780e-02 -3.96594517e-02\n",
            "  5.95286414e-02 -9.71317515e-02 -1.01904601e-01  2.19190317e-33\n",
            " -5.95068373e-03 -3.59731205e-02 -3.17395218e-02  6.76075071e-02\n",
            "  3.45461369e-02 -2.91043594e-02  3.00903954e-02  7.44287819e-02\n",
            "  8.83508660e-03  4.49407361e-02  1.29795987e-02  8.87164026e-02\n",
            "  4.08030488e-02  3.94183621e-02  3.25991362e-02  1.93811543e-02\n",
            "  5.04755080e-02  3.03025823e-02 -1.88645106e-02  2.74370629e-02\n",
            " -6.31273072e-03 -1.41211562e-02  5.06599620e-02 -2.95025427e-02\n",
            " -4.63505797e-02  5.83603606e-02  4.76034768e-02  6.44765645e-02\n",
            " -6.12813383e-05  9.55875125e-03 -7.77796563e-03  5.48437387e-02\n",
            " -1.80284511e-02  3.53190973e-02  1.90012511e-02  9.19965059e-02\n",
            "  4.24840078e-02 -1.29084334e-01 -8.15862790e-02  4.73051555e-02\n",
            " -6.33241385e-02 -3.51583697e-02  2.48934515e-02 -7.97693804e-03\n",
            " -4.68728319e-02 -3.07258591e-02 -2.80537736e-02  1.08155519e-01\n",
            "  2.99206786e-02 -4.35270369e-02  8.25757440e-03 -6.55391254e-03\n",
            " -6.01952570e-03  7.32161030e-02  3.38126048e-02 -3.11761163e-02\n",
            " -2.42567752e-02  8.53853226e-02  4.35847193e-02  8.58640857e-03\n",
            "  1.74553934e-02  4.16511158e-03 -2.61500999e-02  2.61029997e-03\n",
            " -1.31692858e-02  3.81804481e-02 -2.59605236e-03  1.29734483e-02\n",
            " -4.53095101e-02 -1.93565562e-02 -2.89223231e-02 -9.12918523e-02\n",
            " -5.44234850e-02  9.45305005e-02  2.55002193e-02 -1.32698165e-02\n",
            "  1.21355131e-02  7.11243786e-03 -7.88746625e-02  5.68291806e-02\n",
            " -4.92420048e-02 -4.09237156e-03  2.45355461e-02  6.91670030e-02\n",
            " -3.15083191e-02 -9.78745427e-03  4.58274558e-02 -8.23834725e-03\n",
            " -4.93423976e-02 -9.36851352e-02 -3.40111600e-03  4.03905474e-02\n",
            "  1.53541323e-02  3.74964885e-02 -5.06748892e-02 -1.24307959e-08\n",
            "  4.35789675e-03 -3.11176721e-02 -1.50113879e-02 -1.10895820e-02\n",
            "  1.38243823e-03  8.06686562e-03  3.74331661e-02 -5.07589467e-02\n",
            "  4.51671481e-02  1.84672829e-02 -4.14026752e-02  5.28005883e-03\n",
            " -4.38491628e-03  8.63808021e-02  1.57859817e-03 -5.69058619e-02\n",
            " -1.27154037e-01 -4.20439094e-02  5.15238522e-03  5.76790236e-02\n",
            " -8.77570733e-03  1.01858536e-02  3.00267799e-04 -1.23783788e-02\n",
            " -9.39241704e-03  1.65512357e-02 -5.01741208e-02  2.33264826e-03\n",
            "  9.10780430e-02  4.69482876e-02  3.51801626e-02  1.31009161e-01\n",
            "  1.83170605e-02 -5.18304817e-02 -6.95679188e-02 -1.11165475e-02\n",
            " -3.40755247e-02  9.74753052e-02 -1.90229062e-02  1.80217009e-02\n",
            "  5.39736114e-02  3.90635468e-02 -3.40933762e-02 -2.28302702e-02\n",
            "  1.30213555e-02 -3.05019449e-02  4.86667119e-02  3.21983732e-02\n",
            " -5.18947244e-02 -5.76373115e-02 -6.95691351e-03  1.13958828e-02\n",
            "  3.61123718e-02 -9.86927003e-03  5.98406978e-02 -7.85137340e-02\n",
            "  1.54400552e-02  5.18336594e-02  6.72317576e-03  6.14625309e-03\n",
            "  7.31631443e-02  6.04488095e-03 -8.91587883e-02  4.75452989e-02] \n",
            "\n",
            "\n",
            "Result 4:\n",
            "Source: Text (TXT) | Distance: 3.4028234663852886e+38\n",
            "Document Content: [-2.81377193e-02  1.08364159e-02 -1.68290976e-02  8.96473229e-03\n",
            " -1.91974621e-02 -5.60550019e-02  5.99054396e-02  1.10962495e-01\n",
            " -5.02063185e-02  5.70579022e-02 -2.01693010e-02 -6.16779067e-02\n",
            " -2.13465709e-02  6.18569599e-03 -4.46746573e-02  1.49200056e-02\n",
            "  1.22437462e-01 -5.58001511e-02 -5.03663011e-02 -2.17202753e-02\n",
            "  7.73597835e-03 -3.19604501e-02 -6.65669590e-02  2.67106108e-03\n",
            " -1.31063893e-01  2.59651872e-03 -8.40959772e-02  2.72645261e-02\n",
            "  3.65814776e-04 -1.05566032e-01 -4.58217040e-02  3.08121573e-02\n",
            "  1.31280765e-01  3.19057405e-02  5.69830835e-03  5.82956187e-02\n",
            "  7.89410099e-02 -8.47371016e-03 -9.36729833e-03 -7.55671933e-02\n",
            " -9.70806852e-02 -4.53101881e-02 -3.26452293e-02  2.01059170e-02\n",
            "  2.81315763e-02  3.52940038e-02 -6.04527779e-02 -1.22288465e-02\n",
            "  4.56640571e-02  1.59336962e-02 -6.68828934e-02 -1.75219271e-02\n",
            "  1.85099784e-02  3.61406766e-02  3.45843695e-02  5.70838191e-02\n",
            "  1.96973644e-02  4.46085371e-02 -2.96399910e-02 -3.42543572e-02\n",
            " -1.10785961e-02 -2.58308630e-02 -2.42478168e-03  4.62014833e-03\n",
            " -7.82663841e-03  2.76758019e-02 -8.96712840e-02  5.72373271e-02\n",
            " -6.73368424e-02 -3.34176607e-02 -3.45220007e-02 -4.46604341e-02\n",
            " -1.01525284e-01  5.48230037e-02  1.42052220e-02  7.91513268e-03\n",
            "  2.47625150e-02 -7.30638355e-02 -2.25643395e-03 -5.75148985e-02\n",
            " -5.95708229e-02  3.92224118e-02 -3.92615199e-02 -7.22219273e-02\n",
            " -3.31623219e-02  9.42316186e-03  4.97606508e-02 -1.14493223e-03\n",
            "  3.68571430e-02  1.09435245e-03  5.62728569e-03 -9.46693122e-02\n",
            " -1.06289908e-02 -8.55800807e-02  1.07374471e-02 -2.23386753e-02\n",
            "  1.24847563e-02  5.62887192e-02  3.14624719e-02 -5.07621728e-02\n",
            "  7.13508800e-02  2.89278403e-02 -2.10850816e-02 -2.85977926e-02\n",
            " -1.23015307e-01 -2.99033476e-03 -2.93719862e-02  3.45270224e-02\n",
            "  2.57817935e-02  2.31513977e-02 -5.82563952e-02  5.43309841e-03\n",
            " -1.24086745e-01 -1.29733756e-01  6.09292015e-02 -1.74809396e-02\n",
            " -4.42727916e-02  8.66120085e-02  7.71338716e-02  1.03374780e-03\n",
            "  1.25973048e-02  1.73766017e-02  1.70133747e-02 -7.60264993e-02\n",
            " -2.13834345e-02  4.84296493e-02  2.91370731e-02  2.12474498e-32\n",
            " -8.93004909e-02 -1.23568689e-02 -7.34345093e-02  7.51423240e-02\n",
            "  1.38006685e-02 -2.86723990e-02 -3.20149213e-02  4.17232960e-02\n",
            " -1.68148316e-02 -1.78547017e-02 -2.19769459e-02  7.68347755e-02\n",
            " -6.64105415e-02  4.03476097e-02  5.28770611e-02 -5.07309102e-02\n",
            "  3.89125086e-02  4.29142220e-03  1.75128167e-03  8.73854908e-04\n",
            " -2.08307207e-02 -3.54955047e-02 -6.67561824e-03 -3.84141281e-02\n",
            "  1.15804926e-01 -1.14214988e-02  2.76917331e-02  3.25787216e-02\n",
            "  8.94949213e-03  1.39139069e-03 -4.57484089e-03  3.73090282e-02\n",
            " -8.44984800e-02 -2.47132536e-02 -3.78016010e-02  2.82753129e-02\n",
            " -7.68662840e-02 -6.24976046e-02  3.86752523e-02 -7.15065002e-02\n",
            " -4.45653908e-02  4.06517684e-02 -3.74471918e-02 -2.53946260e-02\n",
            "  2.52461769e-02 -1.80529174e-03  5.80405556e-02 -3.00020166e-03\n",
            " -1.15386595e-03  1.40216073e-03 -3.74408290e-02  2.08815876e-02\n",
            "  1.19981132e-01 -7.79295638e-02  7.99720734e-03 -2.34198514e-02\n",
            "  4.32309099e-02 -5.69893122e-02  4.36202586e-02  9.44502577e-02\n",
            " -1.05929479e-01  2.65765991e-02 -5.74239343e-02  7.60196075e-02\n",
            "  2.06528232e-02 -3.68233435e-02  4.39048074e-02  1.84479710e-02\n",
            "  8.44605044e-02  1.27820969e-01 -5.90229891e-02 -5.77215217e-02\n",
            "  5.87416813e-02  4.44763824e-02 -7.48802861e-03  1.48789035e-02\n",
            " -5.73235331e-03  2.50119753e-02 -1.29032031e-01 -8.55312031e-03\n",
            " -1.86293237e-02  6.79189935e-02  1.15290387e-02  6.61815004e-03\n",
            "  5.37383072e-02 -2.98316739e-02  3.01283244e-02  7.01098703e-03\n",
            "  1.12068746e-02  1.66518446e-02 -6.39130697e-02  4.51670773e-03\n",
            " -3.30758058e-02  9.34360698e-02 -6.67700619e-02 -2.16430962e-32\n",
            "  6.82726270e-03 -6.31410163e-03 -3.30258656e-04  6.88132038e-03\n",
            "  1.55257806e-02  1.51863545e-02  3.43514346e-02 -8.17462951e-02\n",
            "  2.98958234e-02  2.35356931e-02 -6.17775647e-03 -1.82833839e-02\n",
            " -7.35237673e-02 -7.02169677e-03 -7.20500648e-02 -1.61572527e-02\n",
            " -6.16357215e-02 -3.92168686e-02 -1.60820931e-02 -3.51295359e-02\n",
            " -5.54789640e-02  1.55608878e-01 -3.96399014e-02  6.04048837e-03\n",
            " -4.41707522e-02  3.80970375e-03 -5.03683090e-02 -9.04686004e-03\n",
            "  6.21293001e-02 -5.57375513e-02  2.69896369e-02 -1.05342478e-01\n",
            " -2.61509754e-02  1.86847430e-02 -4.90217395e-02 -9.19286832e-02\n",
            " -2.99320836e-02 -4.60514501e-02  2.34110095e-02  3.90210673e-02\n",
            "  1.00166768e-01  1.52788535e-02 -3.46764438e-02  4.21226956e-02\n",
            " -8.72701257e-02 -7.71374404e-02 -5.18616801e-03 -3.02334186e-02\n",
            "  1.98898185e-03 -1.47891808e-02 -6.88486472e-02 -3.86622138e-02\n",
            " -2.51588728e-02 -4.11136001e-02  2.16214405e-03 -2.05395911e-02\n",
            "  8.97334367e-02 -5.96814230e-02 -4.68989313e-02 -1.15386192e-02\n",
            " -2.29848805e-03  2.75493823e-02  1.05918169e-01  3.08213383e-02\n",
            "  3.71277109e-02 -2.00232342e-02  6.35308325e-02 -1.07369795e-01\n",
            " -2.33405139e-02 -1.85734592e-02  2.39730105e-02 -1.78795941e-02\n",
            " -8.12218431e-03 -2.86871940e-02  2.55528074e-02 -3.51864174e-02\n",
            " -2.63131000e-02 -6.12584651e-02 -3.24698165e-02 -5.79164885e-02\n",
            " -5.28426617e-02 -4.59354185e-02  2.21356563e-03  2.55646668e-02\n",
            " -2.41355933e-02  1.13291796e-02 -4.59882580e-02  2.23369021e-02\n",
            "  7.27170110e-02  2.77150478e-02 -7.72780972e-03 -8.41446035e-03\n",
            " -6.06411919e-02  7.72836059e-02 -6.29066601e-02 -5.88943045e-08\n",
            " -2.12807562e-02 -1.10504786e-02  1.18505962e-01  4.64289971e-02\n",
            " -2.17891335e-02 -7.11545125e-02 -4.64605503e-02  6.12117797e-02\n",
            " -2.54696002e-03  6.32372722e-02  3.27644944e-02 -6.93704858e-02\n",
            " -3.32840011e-02  9.92169953e-04  8.87541920e-02  1.93743613e-02\n",
            "  4.71095107e-02  8.27557519e-02 -3.99673879e-02 -4.88243327e-02\n",
            "  2.55321842e-02  1.66918058e-03  2.90452922e-03  5.39862588e-02\n",
            "  1.05085736e-02 -4.12734188e-02 -3.33154351e-02  6.12682551e-02\n",
            "  6.47795899e-03  5.82917593e-02  4.75316644e-02  2.67203115e-02\n",
            "  4.67242077e-02 -1.94092542e-02  2.45653801e-02 -8.84537846e-02\n",
            " -4.53791842e-02  4.86606173e-03  2.04640385e-02 -1.61449909e-02\n",
            " -8.29117000e-03  3.51197645e-02  4.13471684e-02  9.19032767e-02\n",
            " -1.75819863e-02  2.38360539e-02 -1.47897333e-01 -1.18536996e-02\n",
            " -3.23684067e-02  6.35520183e-03  2.84890532e-02 -8.26345310e-02\n",
            "  1.04279347e-01  8.53681043e-02  4.75740843e-02  6.24664426e-02\n",
            "  5.26668876e-02 -4.66427170e-02  1.22619778e-01 -1.96146145e-02\n",
            "  9.51888561e-02  8.04003794e-03  7.64975324e-04 -2.92732511e-02] \n",
            "\n",
            "\n",
            "Result 5:\n",
            "Source: Text (TXT) | Distance: 3.4028234663852886e+38\n",
            "Document Content: [-2.81377193e-02  1.08364159e-02 -1.68290976e-02  8.96473229e-03\n",
            " -1.91974621e-02 -5.60550019e-02  5.99054396e-02  1.10962495e-01\n",
            " -5.02063185e-02  5.70579022e-02 -2.01693010e-02 -6.16779067e-02\n",
            " -2.13465709e-02  6.18569599e-03 -4.46746573e-02  1.49200056e-02\n",
            "  1.22437462e-01 -5.58001511e-02 -5.03663011e-02 -2.17202753e-02\n",
            "  7.73597835e-03 -3.19604501e-02 -6.65669590e-02  2.67106108e-03\n",
            " -1.31063893e-01  2.59651872e-03 -8.40959772e-02  2.72645261e-02\n",
            "  3.65814776e-04 -1.05566032e-01 -4.58217040e-02  3.08121573e-02\n",
            "  1.31280765e-01  3.19057405e-02  5.69830835e-03  5.82956187e-02\n",
            "  7.89410099e-02 -8.47371016e-03 -9.36729833e-03 -7.55671933e-02\n",
            " -9.70806852e-02 -4.53101881e-02 -3.26452293e-02  2.01059170e-02\n",
            "  2.81315763e-02  3.52940038e-02 -6.04527779e-02 -1.22288465e-02\n",
            "  4.56640571e-02  1.59336962e-02 -6.68828934e-02 -1.75219271e-02\n",
            "  1.85099784e-02  3.61406766e-02  3.45843695e-02  5.70838191e-02\n",
            "  1.96973644e-02  4.46085371e-02 -2.96399910e-02 -3.42543572e-02\n",
            " -1.10785961e-02 -2.58308630e-02 -2.42478168e-03  4.62014833e-03\n",
            " -7.82663841e-03  2.76758019e-02 -8.96712840e-02  5.72373271e-02\n",
            " -6.73368424e-02 -3.34176607e-02 -3.45220007e-02 -4.46604341e-02\n",
            " -1.01525284e-01  5.48230037e-02  1.42052220e-02  7.91513268e-03\n",
            "  2.47625150e-02 -7.30638355e-02 -2.25643395e-03 -5.75148985e-02\n",
            " -5.95708229e-02  3.92224118e-02 -3.92615199e-02 -7.22219273e-02\n",
            " -3.31623219e-02  9.42316186e-03  4.97606508e-02 -1.14493223e-03\n",
            "  3.68571430e-02  1.09435245e-03  5.62728569e-03 -9.46693122e-02\n",
            " -1.06289908e-02 -8.55800807e-02  1.07374471e-02 -2.23386753e-02\n",
            "  1.24847563e-02  5.62887192e-02  3.14624719e-02 -5.07621728e-02\n",
            "  7.13508800e-02  2.89278403e-02 -2.10850816e-02 -2.85977926e-02\n",
            " -1.23015307e-01 -2.99033476e-03 -2.93719862e-02  3.45270224e-02\n",
            "  2.57817935e-02  2.31513977e-02 -5.82563952e-02  5.43309841e-03\n",
            " -1.24086745e-01 -1.29733756e-01  6.09292015e-02 -1.74809396e-02\n",
            " -4.42727916e-02  8.66120085e-02  7.71338716e-02  1.03374780e-03\n",
            "  1.25973048e-02  1.73766017e-02  1.70133747e-02 -7.60264993e-02\n",
            " -2.13834345e-02  4.84296493e-02  2.91370731e-02  2.12474498e-32\n",
            " -8.93004909e-02 -1.23568689e-02 -7.34345093e-02  7.51423240e-02\n",
            "  1.38006685e-02 -2.86723990e-02 -3.20149213e-02  4.17232960e-02\n",
            " -1.68148316e-02 -1.78547017e-02 -2.19769459e-02  7.68347755e-02\n",
            " -6.64105415e-02  4.03476097e-02  5.28770611e-02 -5.07309102e-02\n",
            "  3.89125086e-02  4.29142220e-03  1.75128167e-03  8.73854908e-04\n",
            " -2.08307207e-02 -3.54955047e-02 -6.67561824e-03 -3.84141281e-02\n",
            "  1.15804926e-01 -1.14214988e-02  2.76917331e-02  3.25787216e-02\n",
            "  8.94949213e-03  1.39139069e-03 -4.57484089e-03  3.73090282e-02\n",
            " -8.44984800e-02 -2.47132536e-02 -3.78016010e-02  2.82753129e-02\n",
            " -7.68662840e-02 -6.24976046e-02  3.86752523e-02 -7.15065002e-02\n",
            " -4.45653908e-02  4.06517684e-02 -3.74471918e-02 -2.53946260e-02\n",
            "  2.52461769e-02 -1.80529174e-03  5.80405556e-02 -3.00020166e-03\n",
            " -1.15386595e-03  1.40216073e-03 -3.74408290e-02  2.08815876e-02\n",
            "  1.19981132e-01 -7.79295638e-02  7.99720734e-03 -2.34198514e-02\n",
            "  4.32309099e-02 -5.69893122e-02  4.36202586e-02  9.44502577e-02\n",
            " -1.05929479e-01  2.65765991e-02 -5.74239343e-02  7.60196075e-02\n",
            "  2.06528232e-02 -3.68233435e-02  4.39048074e-02  1.84479710e-02\n",
            "  8.44605044e-02  1.27820969e-01 -5.90229891e-02 -5.77215217e-02\n",
            "  5.87416813e-02  4.44763824e-02 -7.48802861e-03  1.48789035e-02\n",
            " -5.73235331e-03  2.50119753e-02 -1.29032031e-01 -8.55312031e-03\n",
            " -1.86293237e-02  6.79189935e-02  1.15290387e-02  6.61815004e-03\n",
            "  5.37383072e-02 -2.98316739e-02  3.01283244e-02  7.01098703e-03\n",
            "  1.12068746e-02  1.66518446e-02 -6.39130697e-02  4.51670773e-03\n",
            " -3.30758058e-02  9.34360698e-02 -6.67700619e-02 -2.16430962e-32\n",
            "  6.82726270e-03 -6.31410163e-03 -3.30258656e-04  6.88132038e-03\n",
            "  1.55257806e-02  1.51863545e-02  3.43514346e-02 -8.17462951e-02\n",
            "  2.98958234e-02  2.35356931e-02 -6.17775647e-03 -1.82833839e-02\n",
            " -7.35237673e-02 -7.02169677e-03 -7.20500648e-02 -1.61572527e-02\n",
            " -6.16357215e-02 -3.92168686e-02 -1.60820931e-02 -3.51295359e-02\n",
            " -5.54789640e-02  1.55608878e-01 -3.96399014e-02  6.04048837e-03\n",
            " -4.41707522e-02  3.80970375e-03 -5.03683090e-02 -9.04686004e-03\n",
            "  6.21293001e-02 -5.57375513e-02  2.69896369e-02 -1.05342478e-01\n",
            " -2.61509754e-02  1.86847430e-02 -4.90217395e-02 -9.19286832e-02\n",
            " -2.99320836e-02 -4.60514501e-02  2.34110095e-02  3.90210673e-02\n",
            "  1.00166768e-01  1.52788535e-02 -3.46764438e-02  4.21226956e-02\n",
            " -8.72701257e-02 -7.71374404e-02 -5.18616801e-03 -3.02334186e-02\n",
            "  1.98898185e-03 -1.47891808e-02 -6.88486472e-02 -3.86622138e-02\n",
            " -2.51588728e-02 -4.11136001e-02  2.16214405e-03 -2.05395911e-02\n",
            "  8.97334367e-02 -5.96814230e-02 -4.68989313e-02 -1.15386192e-02\n",
            " -2.29848805e-03  2.75493823e-02  1.05918169e-01  3.08213383e-02\n",
            "  3.71277109e-02 -2.00232342e-02  6.35308325e-02 -1.07369795e-01\n",
            " -2.33405139e-02 -1.85734592e-02  2.39730105e-02 -1.78795941e-02\n",
            " -8.12218431e-03 -2.86871940e-02  2.55528074e-02 -3.51864174e-02\n",
            " -2.63131000e-02 -6.12584651e-02 -3.24698165e-02 -5.79164885e-02\n",
            " -5.28426617e-02 -4.59354185e-02  2.21356563e-03  2.55646668e-02\n",
            " -2.41355933e-02  1.13291796e-02 -4.59882580e-02  2.23369021e-02\n",
            "  7.27170110e-02  2.77150478e-02 -7.72780972e-03 -8.41446035e-03\n",
            " -6.06411919e-02  7.72836059e-02 -6.29066601e-02 -5.88943045e-08\n",
            " -2.12807562e-02 -1.10504786e-02  1.18505962e-01  4.64289971e-02\n",
            " -2.17891335e-02 -7.11545125e-02 -4.64605503e-02  6.12117797e-02\n",
            " -2.54696002e-03  6.32372722e-02  3.27644944e-02 -6.93704858e-02\n",
            " -3.32840011e-02  9.92169953e-04  8.87541920e-02  1.93743613e-02\n",
            "  4.71095107e-02  8.27557519e-02 -3.99673879e-02 -4.88243327e-02\n",
            "  2.55321842e-02  1.66918058e-03  2.90452922e-03  5.39862588e-02\n",
            "  1.05085736e-02 -4.12734188e-02 -3.33154351e-02  6.12682551e-02\n",
            "  6.47795899e-03  5.82917593e-02  4.75316644e-02  2.67203115e-02\n",
            "  4.67242077e-02 -1.94092542e-02  2.45653801e-02 -8.84537846e-02\n",
            " -4.53791842e-02  4.86606173e-03  2.04640385e-02 -1.61449909e-02\n",
            " -8.29117000e-03  3.51197645e-02  4.13471684e-02  9.19032767e-02\n",
            " -1.75819863e-02  2.38360539e-02 -1.47897333e-01 -1.18536996e-02\n",
            " -3.23684067e-02  6.35520183e-03  2.84890532e-02 -8.26345310e-02\n",
            "  1.04279347e-01  8.53681043e-02  4.75740843e-02  6.24664426e-02\n",
            "  5.26668876e-02 -4.66427170e-02  1.22619778e-01 -1.96146145e-02\n",
            "  9.51888561e-02  8.04003794e-03  7.64975324e-04 -2.92732511e-02] \n",
            "\n",
            "\n"
          ]
        }
      ]
    },
    {
      "cell_type": "code",
      "source": [
        "import faiss\n",
        "import numpy as np\n",
        "\n",
        "# Assume 'faiss_index' is your FAISS index that has been populated with document embeddings.\n",
        "# 'document_map' is a dictionary that maps the index positions to your document contents (texts).\n",
        "# 'query_embedding' is the embedding for the user query.\n",
        "\n",
        "# Function to search FAISS index and retrieve the top k nearest documents\n",
        "def retrieve_documents_from_query(query_embedding, k=3, index=index, model=model):  # Add model as argument\n",
        "    \"\"\"\n",
        "    Retrieves documents from the FAISS index based on a query embedding.\n",
        "\n",
        "    Args:\n",
        "        query_embedding: The embedding of the query.\n",
        "        k: The number of nearest documents to retrieve.\n",
        "        index: The FAISS index.\n",
        "        model: The model used to generate embeddings.\n",
        "\n",
        "    Returns:\n",
        "        A tuple containing the retrieved documents and their distances.\n",
        "    \"\"\"\n",
        "    # Generate query embedding using the provided model\n",
        "    query_embedding = model.encode([query_embedding])[0]  # Encode query and get the embedding\n",
        "\n",
        "    # Convert query_embedding to a NumPy array with the correct data type and dimensions\n",
        "    query_embedding = np.array([query_embedding]).astype(np.float32)\n",
        "\n",
        "    # Get the dimensionality of the FAISS index\n",
        "    index_dimension = index.d\n",
        "\n",
        "    # Ensure the query embedding has the correct dimensionality\n",
        "    if query_embedding.shape[1] != index_dimension:\n",
        "        raise ValueError(f\"Query embedding dimension ({query_embedding.shape[1]}) does not match index dimension ({index_dimension})\")\n",
        "\n",
        "    # Perform the search in the FAISS index\n",
        "    distances, indices = index.search(query_embedding, k)  # Search top k results\n",
        "\n",
        "    # Retrieve the corresponding documents using the indices\n",
        "    retrieved_docs = [document_map[idx] for idx in indices[0]]\n",
        "\n",
        "    return retrieved_docs, distances[0]\n",
        "\n",
        "\n",
        "# Example query (use the actual query in your case)\n",
        "query = \"What is the process of material management in MES?\"  # Use the query string directly\n",
        "\n",
        "# Retrieve the top 3 most relevant documents based on the query\n",
        "retrieved_documents, distances = retrieve_documents_from_query(query, k=3)  # Pass query to the function\n",
        "\n",
        "# Print out the retrieved documents and their distances\n",
        "for i, doc in enumerate(retrieved_documents):\n",
        "    print(f\"Result {i+1}:\")\n",
        "    print(f\"Distance: {distances[i]}\")\n",
        "    print(f\"Document Content: {doc}\")\n",
        "    print(\"\\n\")"
      ],
      "metadata": {
        "colab": {
          "base_uri": "https://localhost:8080/"
        },
        "id": "fFMT6B0T5xmW",
        "outputId": "09714730-8567-430d-a9ea-6a1133982ee0"
      },
      "execution_count": 93,
      "outputs": [
        {
          "output_type": "stream",
          "name": "stdout",
          "text": [
            "Result 1:\n",
            "Distance: 0.7817662954330444\n",
            "Document Content: RAG_video\n",
            "\n",
            "\n",
            "Result 2:\n",
            "Distance: 1.9272916316986084\n",
            "Document Content: RAG_text\n",
            "\n",
            "\n",
            "Result 3:\n",
            "Distance: 1.9272916316986084\n",
            "Document Content: RAG_text_pdf\n",
            "\n",
            "\n"
          ]
        }
      ]
    },
    {
      "cell_type": "markdown",
      "source": [
        "Example Code for Summarizing Based on Embeddings:\n",
        "\n"
      ],
      "metadata": {
        "id": "R_PCURZIEUxv"
      }
    },
    {
      "cell_type": "code",
      "source": [
        "from transformers import T5ForConditionalGeneration, T5Tokenizer\n",
        "\n",
        "# Function to summarize documents using a summarization model\n",
        "def summarize_documents(documents, max_length=200):\n",
        "    # Load pre-trained T5 model and tokenizer for summarization\n",
        "    model_name = \"t5-small\"  # You can use a larger model like \"t5-base\" or \"t5-large\" for better results\n",
        "    tokenizer = T5Tokenizer.from_pretrained(model_name)\n",
        "    model = T5ForConditionalGeneration.from_pretrained(model_name)\n",
        "\n",
        "    # Concatenate the top documents to create a single input text\n",
        "    combined_text = \" \".join(documents)  # Ensure you are concatenating full content here, not just titles\n",
        "\n",
        "    # Tokenize the input text\n",
        "    inputs = tokenizer.encode(\"summarize: \" + combined_text, return_tensors=\"pt\", max_length=512, truncation=True)\n",
        "\n",
        "    # Generate summary\n",
        "    summary_ids = model.generate(inputs, max_length=max_length, num_beams=4, early_stopping=True)\n",
        "\n",
        "    # Decode and return the summary\n",
        "    summary = tokenizer.decode(summary_ids[0], skip_special_tokens=True)\n",
        "    return summary\n",
        "\n",
        "# Example documents stored in your system (replace these with actual full-text content)\n",
        "documents = [\n",
        "    \"Manufacturing Execution Systems (MES) are used to monitor and control manufacturing processes. An MES helps to optimize production scheduling, track inventory, and provide real-time updates on manufacturing operations.\",\n",
        "    \"The Manufacturing Execution System is a critical component of modern manufacturing plants, facilitating the connection between raw material inputs and finished products through comprehensive data collection and process control.\",\n",
        "    \"MES is a solution that supports businesses in streamlining production workflows, ensuring compliance with regulations, and improving quality control across manufacturing units.\"\n",
        "]\n",
        "\n",
        "# Summarize the documents\n",
        "summary = summarize_documents(documents)\n",
        "print(\"Generated Summary based on query embeddings:\")\n",
        "print(summary)\n"
      ],
      "metadata": {
        "colab": {
          "base_uri": "https://localhost:8080/",
          "height": 281,
          "referenced_widgets": [
            "4ecb4c735af9493488901636af153c54",
            "c7ef2e8b3bac4ffc84fe9d88abdea82e",
            "54218d1c87904905a5066c537857320b",
            "0a1328bb77be43a49d63f00ed2bea443",
            "e40e4ec46a9446e38c97e825f1a00569",
            "87cd5390bac3439483a27b719deeedec",
            "d19e9b2447f84d07b15db49b2f543aff",
            "7b4583117332416ebd50b9fc8e96a0d0",
            "feef805677e547a2b94d77baa2a312d0",
            "77550b133f8f4d0caea8a138a598d489",
            "a7c6dcecffcd48be9c9bf98e8eec0413",
            "c7b9033ebc4642be86e9048d9c93e91a",
            "ef0d415025cc4b8f8a050c0a24cd352a",
            "19d00f5398664011a8dec41a968ed0a5",
            "63d94502e85d4377a2ee9da2f40a9c69",
            "5cfa928fa5c442d38bf89ad0e7ad93cc",
            "d086a4efd9b54fa1ad0ec9c4d2198014",
            "40783192ef5c41e79c0db43d2e88d893",
            "d0baf8a6e8cd40dd8bb6283f2e6952e5",
            "524087faab8b4019936e7ff2a35eb666",
            "7dfce97383dc4a999d40b33f4f42be77",
            "81ba9ab470f4466d8146b68ce6b5fd27",
            "d24554cdcf884692b95f808d238d663d",
            "ef0a405b88954703a4c493f843a71b1d",
            "663f34602249474d9d8d613eb74ecc5d",
            "3d8f5a6834dd4b84a6a49ed3c18725f1",
            "29cb690a14ca48c2b6daaaa861fc5b81",
            "ffc6260f0a5f4471966f89ffbdb75f57",
            "548f247387ef45d29b6f082d20470a90",
            "84dea5889936444e942467ddd3e70485",
            "3076a19b35b1406eb45a84643c2206bb",
            "82823115d92d4cf0bad6e1078d5656da",
            "f7ea22bb7cd94c9ca38f72701bd5df07",
            "575765261d5048f08fc979a20ef120c0",
            "d182254213714bb39e5ebbae3bc53578",
            "8b7a6bf1ae624e77ae439940832e9f02",
            "6f3dffa76f3d47ac80b8028e568828c3",
            "3834a46cea534abba5a0ac243cbe11c1",
            "c5d74944e76644a087e61925bea78954",
            "1ead993ae35c4878a4f3f122ce9851cd",
            "2dbf3c7f0dba437c93c2284d4857c439",
            "d3e881ce61e948499bb57b3b375b2230",
            "0c4e9137c5eb425099b1c177a7a707c2",
            "16ce1c07fb454bbca5b2e6695873c56f",
            "9fa2496d91884734bb5583f067de8303",
            "024a731351f84d3b99195d19a7be3981",
            "2a0d489f110d43acbb23ab6b0a59f16b",
            "eb410caf425e489e8c35a4c4cd111e87",
            "f37ce13e23734deeb2c43e9d2ee8fae3",
            "7eae1747772c4518b22711b9abe38c42",
            "8d367170d22943fca57191d281b6672e",
            "9c29c4ceec5b4c9b8a5dd0ea5b07127c",
            "a84bc3d5b68f486fb8b95fca3e2c8fb1",
            "b30db22c442a4ac9ade8b4440cc5386a",
            "5ffc62d9a15b48fbb3503650adacf094",
            "fbcd972e71694416a28a54e04a622c37",
            "57a56ac2aa1e4e24a392aa593e5178e0",
            "1a8bc8320f5b4bd7ae300f467961b2b6",
            "b1e7ca2c9e5c421e815d21818cfcc253",
            "3f710a4af71a483ea8afcbd9280fc815",
            "a612e8fb7e5448eaa926b523379449b8",
            "e53605ee09af45458ff3ca538d49a50b",
            "23f91dd2988d4c9a84b2cd7dff99edb4",
            "812fc30cd8e846bbb99fbfd4ac276d27",
            "e1bdb868ad3942a2b16f91cf163084da",
            "1ca65c71c38e4450bbcb77c7bb4e063e"
          ]
        },
        "id": "adjitUskB7JJ",
        "outputId": "7faefd02-e496-455e-e155-050da2465481"
      },
      "execution_count": 94,
      "outputs": [
        {
          "output_type": "display_data",
          "data": {
            "text/plain": [
              "tokenizer_config.json:   0%|          | 0.00/2.32k [00:00<?, ?B/s]"
            ],
            "application/vnd.jupyter.widget-view+json": {
              "version_major": 2,
              "version_minor": 0,
              "model_id": "4ecb4c735af9493488901636af153c54"
            }
          },
          "metadata": {}
        },
        {
          "output_type": "display_data",
          "data": {
            "text/plain": [
              "spiece.model:   0%|          | 0.00/792k [00:00<?, ?B/s]"
            ],
            "application/vnd.jupyter.widget-view+json": {
              "version_major": 2,
              "version_minor": 0,
              "model_id": "c7b9033ebc4642be86e9048d9c93e91a"
            }
          },
          "metadata": {}
        },
        {
          "output_type": "display_data",
          "data": {
            "text/plain": [
              "tokenizer.json:   0%|          | 0.00/1.39M [00:00<?, ?B/s]"
            ],
            "application/vnd.jupyter.widget-view+json": {
              "version_major": 2,
              "version_minor": 0,
              "model_id": "d24554cdcf884692b95f808d238d663d"
            }
          },
          "metadata": {}
        },
        {
          "output_type": "stream",
          "name": "stderr",
          "text": [
            "You are using the default legacy behaviour of the <class 'transformers.models.t5.tokenization_t5.T5Tokenizer'>. This is expected, and simply means that the `legacy` (previous) behavior will be used so nothing changes for you. If you want to use the new behaviour, set `legacy=False`. This should only be set if you understand what it means, and thoroughly read the reason why this was added as explained in https://github.com/huggingface/transformers/pull/24565\n"
          ]
        },
        {
          "output_type": "display_data",
          "data": {
            "text/plain": [
              "config.json:   0%|          | 0.00/1.21k [00:00<?, ?B/s]"
            ],
            "application/vnd.jupyter.widget-view+json": {
              "version_major": 2,
              "version_minor": 0,
              "model_id": "575765261d5048f08fc979a20ef120c0"
            }
          },
          "metadata": {}
        },
        {
          "output_type": "display_data",
          "data": {
            "text/plain": [
              "model.safetensors:   0%|          | 0.00/242M [00:00<?, ?B/s]"
            ],
            "application/vnd.jupyter.widget-view+json": {
              "version_major": 2,
              "version_minor": 0,
              "model_id": "9fa2496d91884734bb5583f067de8303"
            }
          },
          "metadata": {}
        },
        {
          "output_type": "display_data",
          "data": {
            "text/plain": [
              "generation_config.json:   0%|          | 0.00/147 [00:00<?, ?B/s]"
            ],
            "application/vnd.jupyter.widget-view+json": {
              "version_major": 2,
              "version_minor": 0,
              "model_id": "fbcd972e71694416a28a54e04a622c37"
            }
          },
          "metadata": {}
        },
        {
          "output_type": "stream",
          "name": "stdout",
          "text": [
            "Generated Summary based on query embeddings:\n",
            "Manufacturing Execution Systems (MES) monitor and control manufacturing processes. an MES helps to optimize production scheduling, track inventory, and provide real-time updates on manufacturing operations.\n"
          ]
        }
      ]
    },
    {
      "cell_type": "code",
      "source": [],
      "metadata": {
        "id": "VPkXOHXlEtSZ"
      },
      "execution_count": null,
      "outputs": []
    }
  ]
}